{
 "cells": [
  {
   "cell_type": "code",
   "execution_count": 77,
   "id": "45688330-9b5e-42de-9afa-af2eb988adda",
   "metadata": {},
   "outputs": [],
   "source": [
    "import pyarrow.parquet as pa\n",
    "import pandas as pd\n",
    "from ipywidgets import AppLayout, GridspecLayout, Button, Layout"
   ]
  },
  {
   "cell_type": "code",
   "execution_count": 78,
   "id": "ade2adcb-ad0f-4461-8a70-bca3da27d78d",
   "metadata": {},
   "outputs": [],
   "source": [
    "table = pa.read_table(\"Midjourney2023_Upscale.parquet\")"
   ]
  },
  {
   "cell_type": "code",
   "execution_count": 79,
   "id": "284b3003-fdd5-4598-a024-3d68c9987257",
   "metadata": {},
   "outputs": [
    {
     "data": {
      "text/plain": [
       "pyarrow.Table\n",
       "prompt: string\n",
       "user: string\n",
       "timestamp: timestamp[ns, tz=UTC]\n",
       "image_url: string\n",
       "----\n",
       "prompt: [[\"a30 year old Australian male in a bold grey top, no filter, at a laptop in a professional marketing agency setting with pale orange accents, editorial style photo\",\"a30 year old Australian male in a bold grey top, no filter, at a laptop in a professional marketing agency setting with pale orange accents, editorial style photo\",\"a30 year old Australian male in a bold grey top, no filter, at a laptop in a professional marketing agency setting with pale orange accents, editorial style photo\",\"a30 year old Australian male in a bold grey top, no filter, at a laptop in a professional marketing agency setting with pale orange accents, editorial style photo\",\"a millennial Australian male in a bold grey top, no filter, at a laptop in an agency setting with soft red accents, editorial style photo\",...,\"Dissociative personality disorder, Korean woman raw   \",\"Dissociative personality disorder, Korean woman raw   \",\"Dissociative personality disorder, Korean woman raw   \",\"Dissociative personality disorder, Korean woman raw   \",\"Dissociative personality disorder, Korean woman raw   \"],[\"Dissociative personality disorder, Korean woman raw   \",\"Dissociative personality disorder, Korean woman raw   \",\"Dissociative personality disorder, Korean woman raw   \",\"downtempo electromusic festival dark font - leave room for text and infos at different locations of the poster (top center, middle right, bottom) that can be used for a poster - orange and purple colours - mycelium theme - minimalistic and not representative and straightforward - Shady - firy, psychedelic and spooky vibes - cozy, joyful - no text\",\"watercolor wall painting of italian style house, in the style of highly detailed illustrations, theo prins, earth tone color palette, dmitri danish, architectural illustrator, urban emotions, graphic illustration \",...,\"5D Diamond <https://s.mj.run/y3ns9RDH5qM> <https://s.mj.run/V3XKcZCkMo4> <https://s.mj.run/KQhm1LfjaM8> <https://s.mj.run/bfjjxcMOLu4> <https://s.mj.run/uR9Al9K5jSo> neon green aesthetics neoncolor anime guy Anime style  \",\"<https://s.mj.run/k4fQ6-vzde4> tall black monstrous silhouette with big claws and white eyes in the scene\",\"a stormy night in a small town, as illustrated by Charles Rennie Mackintosh\",\"a stormy night in a small town, as illustrated by Charles Rennie Mackintosh\",\"5D Diamond <https://s.mj.run/y3ns9RDH5qM> <https://s.mj.run/V3XKcZCkMo4> <https://s.mj.run/KQhm1LfjaM8> <https://s.mj.run/bfjjxcMOLu4> <https://s.mj.run/uR9Al9K5jSo> neon green aesthetics neoncolor anime guy Anime style  \"],...,[\"young, slim Italian inspector with blond hair and blue surcoat, clean-shaven, medieval, digital painting, Concept art, \",\"young, slim Italian inspector with blond hair, clean-shaven, medieval, digital painting, Concept art, \",\"<https://s.mj.run/fORvJ2S1upU> four elegant and handsome men, setting behind a table. They wear tuxedo and they look in camera with intense gaze,  written \",\"cinematic photograph of a chubby park ranger at his desk eating lunch, close up photo, sweaty from a long day in the forest \",\"beautiful cranberry tart decorated with gingerbread cookies, and cranberries\",...,\"photo, large round modern kitchen with circle island bench in the middle, black wood and whte walls, dark rustic antique bronze cupboards, concrete benchtop and floors, expansive windows looking out at queensland glass house mountains, soft dusty crepuscular rays shining through, spherical room, floor to ceiling warehouse loft windows, very modern, design, inspired by west elm, white track lighting, subtle soft hidden led lighting, industrial modern design, style of masculine minimalism, library wall and butler pantry, 8k, professional photography, film grain, high iso settings, f 35mm wide angle lens, shot on fuji superia camera, intrinsic details, modern Neolithic\",\"Girl long black hair read christmas book, christmas skin, full body, Colorful design, Cute vector illustration in kawaii style\",\"photo, large round modern kitchen with circle island bench in the middle, black wood and whte walls, dark rustic antique bronze cupboards, concrete benchtop and floors, expansive windows looking out at queensland glass house mountains, soft dusty crepuscular rays shining through, spherical room, floor to ceiling warehouse loft windows, very modern, design, inspired by west elm, white track lighting, subtle soft hidden led lighting, industrial modern design, style of masculine minimalism, library wall and butler pantry, 8k, professional photography, film grain, high iso settings, f 35mm wide angle lens, shot on fuji superia camera, intrinsic details, modern Neolithic\",\"portrait of a beautiful girl who is a fashion model surrounded of flowers from another planet, translucent plants, Andrey Remnev, Bridget Bate Tichenor, rococo, god light, cinematic, 35mm, 8k, fantasy, many details, much lightful, dream-like, masterpiece, detailed face, fantasy art, majestic, elegant, ornate, appealing, hypermaximalist, paradise, award winning photography, no watermark, trending on artstation \",\"portrait of a beautiful girl who is a fashion model surrounded of flowers from another planet, translucent plants, Andrey Remnev, Bridget Bate Tichenor, rococo, god light, cinematic, 35mm, 8k, fantasy, many details, much lightful, dream-like, masterpiece, detailed face, fantasy art, majestic, elegant, ornate, appealing, hypermaximalist, paradise, award winning photography, no watermark, trending on artstation \"],[\"portrait of a beautiful girl who is a fashion model surrounded of flowers from another planet, translucent plants, Andrey Remnev, Bridget Bate Tichenor, rococo, god light, cinematic, 35mm, 8k, fantasy, many details, much lightful, dream-like, masterpiece, detailed face, fantasy art, majestic, elegant, ornate, appealing, hypermaximalist, paradise, award winning photography, no watermark, trending on artstation \",\"japanese geisha, fan\",\"japanese geisha, fan\",\"japanese geisha, fan\",\"portrait of a beautiful girl who is a fashion model surrounded of flowers from another planet, translucent plants, Andrey Remnev, Bridget Bate Tichenor, rococo, god light, cinematic, 35mm, 8k, fantasy, many details, much lightful, dream-like, masterpiece, detailed face, fantasy art, majestic, elegant, ornate, appealing, hypermaximalist, paradise, award winning photography, no watermark, trending on artstation \",...,\"<https://s.mj.run/irBviIicPnU,> Bold and vibrant colors, Sleek and stylized figures, Attention to detail, Photorealistic elements mixed with graphic design, cyberpunk, futuristic, Elegant and sophisticated composition, neonpunk, Nathan Never comic art, Seungriho art, Battlestar Galactica art, Blade runner art, wong kar wai art, cybercore art, Luis Royo art, Enki Bilal art, Jacen Burrows art   \",\"<https://s.mj.run/irBviIicPnU,> Bold and vibrant colors, Sleek and stylized figures, Attention to detail, Photorealistic elements mixed with graphic design, cyberpunk, futuristic, Elegant and sophisticated composition, neonpunk, Nathan Never comic art, Seungriho art, Battlestar Galactica art, Blade runner art, wong kar wai art, cybercore art, Luis Royo art, Enki Bilal art, Jacen Burrows art   \",\"in the photographic style of Harry Callahan Ouka Leele, woman full of glitter, movida madrileña 80's, maximum detail, horror   \",\"in the colored photographic style of Harry Callahan Ouka Leele, woman full of glitter, movida madrileña 80's, maximum detail, horror   \",\"in the photographic style of Harry Callahan Ouka Leele, woman full of glitter, movida madrileña 80's, maximum detail, horror   \"]]\n",
       "user: [[\"838569662941102110\",\"838569662941102110\",\"838569662941102110\",\"838569662941102110\",\"838569662941102110\",...,\"1068555688516784260\",\"1068555688516784260\",\"1068555688516784260\",\"1068555688516784260\",\"1068555688516784260\"],[\"1068555688516784260\",\"1068555688516784260\",\"1068555688516784260\",\"930421542544883752\",\"1102598405521412096\",...,\"892434472534958101\",\"951916628239613982\",\"643071642238582786\",\"643071642238582786\",\"892434472534958101\"],...,[\"408931329992818689\",\"408931329992818689\",\"1006611611194245129\",\"1004418809702142012\",\"1004418809702142012\",...,\"1077492926550134864>** - Image #1 <@1077492926550134864\",\"872143203883696129\",\"1077492926550134864\",\"1142211736116662343\",\"1142211736116662343\"],[\"1142211736116662343\",\"1142211736116662343\",\"1142211736116662343\",\"1142211736116662343\",\"1142211736116662343\",...,\"576274146883928064\",\"576274146883928064\",\"1094970007764607092\",\"1094970007764607092\",\"1094970007764607092\"]]\n",
       "timestamp: [[2023-11-04 08:05:34.078000000Z,2023-11-04 08:05:26.130000000Z,2023-11-04 08:05:24.309000000Z,2023-11-04 08:05:21.934000000Z,2023-11-04 08:04:54.067000000Z,...,2023-10-27 04:21:14.851000000Z,2023-10-27 04:21:13.866000000Z,2023-10-27 04:21:11.242000000Z,2023-10-27 04:21:10.552000000Z,2023-10-27 04:21:09.490000000Z],[2023-10-27 04:21:08.472000000Z,2023-10-27 04:21:06.991000000Z,2023-10-27 04:21:05.754000000Z,2023-11-02 10:38:09.009000000Z,2023-11-02 10:37:49.273000000Z,...,2023-11-05 03:32:49.796000000Z,2023-11-05 03:31:19.282000000Z,2023-11-05 03:30:39.036000000Z,2023-11-05 03:30:36.950000000Z,2023-11-05 03:30:17.560000000Z],...,[2023-10-29 16:12:42.846000000Z,2023-10-29 16:11:32.071000000Z,2023-11-02 00:56:10.967000000Z,2023-11-02 00:55:04.743000000Z,2023-11-02 00:54:16.259000000Z,...,2023-10-29 05:36:07.552000000Z,2023-10-29 05:36:05.456000000Z,2023-10-29 05:34:00.337000000Z,2023-11-03 04:33:12.043000000Z,2023-11-03 04:33:10.073000000Z],[2023-11-03 04:33:08.173000000Z,2023-11-03 04:32:54.057000000Z,2023-11-03 04:32:51.493000000Z,2023-11-03 04:32:49.992000000Z,2023-11-03 04:32:19.988000000Z,...,2023-10-25 11:16:40.230000000Z,2023-10-25 11:16:38.966000000Z,2023-10-25 11:16:34.027000000Z,2023-10-25 11:16:25.751000000Z,2023-10-25 11:16:02.281000000Z]]\n",
       "image_url: [[\"https://cdn.discordapp.com/attachments/995431473828077618/1170272615114477628/pruecreates_a30_year_old_Australian_male_in_a_bold_grey_top_no__a7bb6ecf-a78c-42c3-9fc0-88a31c1be40e.png?ex=6558704e&is=6545fb4e&hm=71ad199ca4c04f4a612a78d8ab2a36712e5a05d3754a18aaae1b2980322b8820&\",\"https://cdn.discordapp.com/attachments/995431473828077618/1170272581509713950/pruecreates_a30_year_old_Australian_male_in_a_bold_grey_top_no__6758e679-3f44-4572-8a31-3984ed629a4a.png?ex=65587046&is=6545fb46&hm=e8f7ab3bcee1c5cda8881220de9732338682edf0ac1751379a290274e4f814ed&\",\"https://cdn.discordapp.com/attachments/995431473828077618/1170272573997731880/pruecreates_a30_year_old_Australian_male_in_a_bold_grey_top_no__1ffe0be4-3563-4c04-9a8f-236112f1721c.png?ex=65587044&is=6545fb44&hm=c9f7fa37547f367abc003e464a13127514f4bbca93b037f6eb6f3f230458b00e&\",\"https://cdn.discordapp.com/attachments/995431473828077618/1170272563973345320/pruecreates_a30_year_old_Australian_male_in_a_bold_grey_top_no__a95095fa-6f48-4c41-b420-a5c77d8d7a00.png?ex=65587041&is=6545fb41&hm=dda2ea4c20834f08c517a2d0797fdb541d1052e2d0a1b931a01f3eaed3f580e5&\",\"https://cdn.discordapp.com/attachments/995431473828077618/1170272447250046996/pruecreates_a_millennial_Australian_male_in_a_bold_grey_top_no__012a99a2-77c5-45ec-b335-b4791d1c8527.png?ex=65587026&is=6545fb26&hm=06009bc42cf8f79ec355aabc10d110890e53f9d2c3c9674c54153ef94bc89369&\",...,\"https://cdn.discordapp.com/attachments/989274756341706822/1167317059877748746/prodigal_son_Dissociative_personality_disorder_Korean_woman_99a88938-a6af-4e3d-af53-867362263883.png?ex=654dafba&is=653b3aba&hm=de95d42c512c5ca1a6de38bc95820fec2e33c04db77e0178c9bcd779720c1aa3&\",\"https://cdn.discordapp.com/attachments/989274756341706822/1167317055939293228/prodigal_son_Dissociative_personality_disorder_Korean_woman_a972092e-7888-4484-81a7-61c392f1b578.png?ex=654dafb9&is=653b3ab9&hm=4dbe16a11df1a3faaa7569f95392cac30b43951e059e16ce7ab8842d7c84d212&\",\"https://cdn.discordapp.com/attachments/989274756341706822/1167317045222842428/prodigal_son_Dissociative_personality_disorder_Korean_woman_2f352067-fecd-4fa4-bb02-fc6909d87ae2.png?ex=654dafb7&is=653b3ab7&hm=4e4e6719c06e901eae144ed4ef14814a2d1cb6a3ee36173f91766eeb547df7cd&\",\"https://cdn.discordapp.com/attachments/989274756341706822/1167317041703833651/prodigal_son_Dissociative_personality_disorder_Korean_woman_13fbe567-4158-4eb9-9aed-dde2bea2dcf0.png?ex=654dafb6&is=653b3ab6&hm=a2a38c7257d20edcf2c49c18c11520940c27c3acddf73b9577ee664ef568ad27&\",\"https://cdn.discordapp.com/attachments/989274756341706822/1167317037312385074/prodigal_son_Dissociative_personality_disorder_Korean_woman_d31bd9d8-883d-4d1d-adeb-740f72b97bcc.png?ex=654dafb5&is=653b3ab5&hm=96176b14743bd737c1551edce60ce6a8c37014739b6ce70568fafd8f91d99856&\"],[\"https://cdn.discordapp.com/attachments/989274756341706822/1167317033151639562/prodigal_son_Dissociative_personality_disorder_Korean_woman_b70ab247-1929-4c57-9531-2481861e319b.png?ex=654dafb4&is=653b3ab4&hm=18b49148c196ec7812d4be6cea6030e31c06706b41ce70539d1d76f962628161&\",\"https://cdn.discordapp.com/attachments/989274756341706822/1167317026906312764/prodigal_son_Dissociative_personality_disorder_Korean_woman_01101b0e-f690-4f19-bba2-c2122fa63e44.png?ex=654dafb2&is=653b3ab2&hm=3a26b920b861ca6dccaed4f4dd6b5b5b220c438598746c330ee11b5d94772b0b&\",\"https://cdn.discordapp.com/attachments/989274756341706822/1167317021646663730/prodigal_son_Dissociative_personality_disorder_Korean_woman_493c1042-9fa5-4e9b-8e25-0340cb1f17c9.png?ex=654dafb1&is=653b3ab1&hm=5e3cb74c8a7f50f6fa6327c30b01e97ec67d368c1c54031a02f68e8c59b0bbe9&\",\"https://cdn.discordapp.com/attachments/941971306004504638/1169586237661777990/elricofuego_downtempo_electromusic_festival_dark_font_-_leave_r_ad2fc590-0463-433c-b71d-673099526174.png?ex=6555f110&is=65437c10&hm=5cccea53e9bb49effa73c71a00b2461b03fc9be591b037fcb0e822e2b2d0e860&\",\"https://cdn.discordapp.com/attachments/941971306004504638/1169586154832678912/alexkent_watercolor_wall_painting_of_italian_style_house_in_the_66c76308-202b-4fb8-9fda-869beea5c464.png?ex=6555f0fd&is=65437bfd&hm=3f1b789a932186c30d687d6d9c1c80d1be3f26eb9d6207df4fc81ba2e299bbf9&\",...,\"https://cdn.discordapp.com/attachments/989274756341706822/1170566365963374662/Marz83_5D_Diamond_d2c8e2c0-55d1-4842-9cab-6270e23664bc.png?ex=655981e1&is=65470ce1&hm=e35fa8cb670b1ba4c537dde16416d3f2f465ba1d37a1fa1c9afe1b36692988b8&\",\"https://cdn.discordapp.com/attachments/989274756341706822/1170565986760523777/andycabana_tall_black_monstrous_silhouette_with_big_claws_and_w_a2670d5c-74a7-4109-bd0c-59244593c352.png?ex=65598187&is=65470c87&hm=9de7464161aad8d0c9b601427af918f4da3cd307c3d84d3de04b1cce476e0b45&\",\"https://cdn.discordapp.com/attachments/989274756341706822/1170565812654977095/mr.fazz_a_stormy_night_in_a_small_town_as_illustrated_by_Charle_fbc393fc-8b4c-4ab2-a771-3368475772f3.png?ex=6559815d&is=65470c5d&hm=ed0c679abad0bdcd4e643fd71b1e5e0d8018ad140ca5fcb2c8dae25ebc5bfb22&\",\"https://cdn.discordapp.com/attachments/989274756341706822/1170565808729116753/mr.fazz_a_stormy_night_in_a_small_town_as_illustrated_by_Charle_c56e6b8d-f82d-4bfe-951a-ebe0b4b4cb7d.png?ex=6559815c&is=65470c5c&hm=720518738cf8510b6166e77da3380ce076849739826100356b23d7beb72e344b&\",\"https://cdn.discordapp.com/attachments/989274756341706822/1170565727435116605/Marz83_5D_Diamond_9cc41c52-8396-4b0b-8ec2-1c6478d4d82f.png?ex=65598149&is=65470c49&hm=9978be19af319b3cbc5dafeb5bfad72f53e09ded6b82ae2137b0e28ba27e7f49&\"],...,[\"https://cdn.discordapp.com/attachments/995431172375064616/1168220882175533216/lanyana_young_slim_Italian_inspector_with_blond_hair_and_blue_s_83ccfc89-d922-4f7a-a822-35e181bcc8c3.png?ex=6550f97a&is=653e847a&hm=56800acc15e98f52d4267ba642e2c3f131a74eec482b80773c3d95c515ea5c06&\",\"https://cdn.discordapp.com/attachments/995431172375064616/1168220585227210924/lanyana_young_slim_Italian_inspector_with_blond_hair_clean-shav_48178420-488a-4d3c-871d-b438974a73af.png?ex=6550f934&is=653e8434&hm=3ef04865ba9dcc460335d12b15a1f491b1803c35d85123854cb854bc76823469&\",\"https://cdn.discordapp.com/attachments/984632500875821066/1169439779247632504/federica_soprani_four_elegant_and_handsome_men_setting_behind_a_a2c85035-4441-43a1-9d02-a9f65c0e4edf.png?ex=655568aa&is=6542f3aa&hm=16fcc6a6ac6a906cd16aaead1007ffee5c1c0ee5e9ed99935467c8cf47cd420c&\",\"https://cdn.discordapp.com/attachments/984632500875821066/1169439503090471023/kipper_jobes_cinematic_photograph_of_a_chubby_park_ranger_at_hi_f602009c-df4c-40ab-8cf2-f5f07f61a40e.png?ex=65556868&is=6542f368&hm=48d6ee2f130f74aa2aac9a9344124e64002e7591e970f42d2044046ab154187a&\",\"https://cdn.discordapp.com/attachments/984632500875821066/1169439299658334259/kipper_jobes_beautiful_cranberry_tart_decorated_with_gingerbrea_e90c89c7-dedf-4d1a-beba-677cc1f18a11.png?ex=65556838&is=6542f338&hm=f3f4ba7d453148ca1f8419a3774561094b64e3356a4da5f66c07d465b09f0134&\",...,\"https://cdn.discordapp.com/attachments/941971306004504638/1168060679534686268/wileyo_photo_large_round_modern_kitchen_with_circle_island_benc_ffa7a12c-b4d7-493e-ba1e-95b3ab221df6.png?ex=65506447&is=653def47&hm=65d0f23d0904a9e91704c38fcc3851f2d83569d6a4410d97cb336b6f96cf5861&\",\"https://cdn.discordapp.com/attachments/941971306004504638/1168060670579839066/houtoks_Girl_long_black_hair_read_christmas_book_christmas_skin_aaa59c30-19b8-4e8b-b822-60822a46014f.png?ex=65506445&is=653def45&hm=8eda7393df824a8337e3246e95ddf45738d1f1e88cb3d42f6f8bd469b5bbbab3&\",\"https://cdn.discordapp.com/attachments/941971306004504638/1168060145826275338/wileyo_photo_large_round_modern_kitchen_with_circle_island_benc_ec0274f2-604f-4291-828d-591f6f651376.png?ex=655063c8&is=653deec8&hm=81653781941ce32052ef0058fb1ec5ddae8d742093c10c591b63998a4bfcddd8&\",\"https://cdn.discordapp.com/attachments/941582479117127680/1169856783024652298/catwoman_90641_portrait_of_a_beautiful_girl_who_is_a_fashion_mo_ec80ba61-0530-40da-8313-2977205552d6.png?ex=6556ed07&is=65447807&hm=17f9552785c8a8e02e8b331203994ec200f8967681a3933d2201999726d2c196&\",\"https://cdn.discordapp.com/attachments/941582479117127680/1169856774833184838/catwoman_90641_portrait_of_a_beautiful_girl_who_is_a_fashion_mo_c71a7d72-704a-43d7-8e06-5396cef95818.png?ex=6556ed06&is=65447806&hm=e9708c3d8f82d08323cf3e45860deed1f5550ed59452610cd06ca6d028d9413d&\"],[\"https://cdn.discordapp.com/attachments/941582479117127680/1169856766750765117/catwoman_90641_portrait_of_a_beautiful_girl_who_is_a_fashion_mo_aceed240-8517-408f-bad2-d5f90f3ee3cb.png?ex=6556ed04&is=65447804&hm=cfc0011ed6c40d988b0f3586100639d841c6f6b7ef3c44fd6500210646be4054&\",\"https://cdn.discordapp.com/attachments/941582479117127680/1169856707602677790/catwoman_90641_japanese_geisha_fan_953274e3-68d5-4c33-a8cf-5269a57c7f56.png?ex=6556ecf5&is=654477f5&hm=810a796dff0323eb9179ceabfc4cb6f8fc4ea7d8396ce46e2502e33bb3297903&\",\"https://cdn.discordapp.com/attachments/941582479117127680/1169856696852688956/catwoman_90641_japanese_geisha_fan_14db3ba8-4577-4c76-a62f-18b6fec5d2d5.png?ex=6556ecf3&is=654477f3&hm=acf8c5b0167c6e15dcc65a8f8312be3515fee3f46dbf70fb389d35ea04ef1d52&\",\"https://cdn.discordapp.com/attachments/941582479117127680/1169856690582204468/catwoman_90641_japanese_geisha_fan_21f8d65e-a63e-4961-b380-0cbf3f1eaeb2.png?ex=6556ecf1&is=654477f1&hm=d6bc161bcc287f42200d86ee9e6706fd7a48aaa25fa77e08157dbf319948c2be&\",\"https://cdn.discordapp.com/attachments/941582479117127680/1169856563645775954/catwoman_90641_portrait_of_a_beautiful_girl_who_is_a_fashion_mo_cb5a12fd-499b-4641-8e4f-2544a829dd59.png?ex=6556ecd3&is=654477d3&hm=122549bfb1a0b09f68252f75349ce2c26b65465d5ce838d14351f5a34dc4acd8&\",...,\"https://cdn.discordapp.com/attachments/995431151084773486/1166696828759187557/lobocantor_Bold_and_vibrant_colors_Sleek_and_stylized_figures_A_9a4599e8-67af-40b3-9e08-c9ed483aa17c.png?ex=654b6e18&is=6538f918&hm=5bba293886b8367b5ed2f024c6acb3f034bd750d525811ce506e64596746e141&\",\"https://cdn.discordapp.com/attachments/995431151084773486/1166696823398862868/lobocantor_Bold_and_vibrant_colors_Sleek_and_stylized_figures_A_3dbf7d9a-5cd9-426d-a2e7-26f3f7335425.png?ex=654b6e16&is=6538f916&hm=806204010b7a939b07c69b9d9754fb6a861f8113e7c726fe43e93c28345cd76a&\",\"https://cdn.discordapp.com/attachments/995431151084773486/1166696802720952350/mariaaa6905_in_the_photographic_style_of_Harry_Callahan_Ouka_Le_db2ec445-49a4-4c92-8407-d20b2561dc6d.png?ex=654b6e11&is=6538f911&hm=975d29efdc6af38a67aba6264c01628f099ae3f265eeb094f1e610f78e5ea4a3&\",\"https://cdn.discordapp.com/attachments/995431151084773486/1166696767987912705/mariaaa6905_in_the_colored_photographic_style_of_Harry_Callahan_66d9fea8-226e-46ea-a333-71f767201ed5.png?ex=654b6e09&is=6538f909&hm=c4e254d0bcc9a1b7c6a8508dacfc80bf73ba106398f3cfc6ba16059738b84b52&\",\"https://cdn.discordapp.com/attachments/995431151084773486/1166696669543420015/mariaaa6905_in_the_photographic_style_of_Harry_Callahan_Ouka_Le_699b76c4-8d6c-4f92-a72b-846af86c3749.png?ex=654b6df2&is=6538f8f2&hm=5ab894bf1d0fc3874d1f3342398bb93e097adedb2e54178191f16c80fc7ee19d&\"]]"
      ]
     },
     "execution_count": 79,
     "metadata": {},
     "output_type": "execute_result"
    }
   ],
   "source": [
    "table"
   ]
  },
  {
   "cell_type": "code",
   "execution_count": 80,
   "id": "812cd407-f6c9-4792-89a3-c59c1f06a874",
   "metadata": {},
   "outputs": [
    {
     "data": {
      "text/plain": [
       "(973134, 4)"
      ]
     },
     "execution_count": 80,
     "metadata": {},
     "output_type": "execute_result"
    }
   ],
   "source": [
    "table.shape"
   ]
  },
  {
   "cell_type": "code",
   "execution_count": 81,
   "id": "95f88ee6-81ce-42f9-84de-d3a8809dc2a2",
   "metadata": {},
   "outputs": [
    {
     "data": {
      "text/html": [
       "<div>\n",
       "<style scoped>\n",
       "    .dataframe tbody tr th:only-of-type {\n",
       "        vertical-align: middle;\n",
       "    }\n",
       "\n",
       "    .dataframe tbody tr th {\n",
       "        vertical-align: top;\n",
       "    }\n",
       "\n",
       "    .dataframe thead th {\n",
       "        text-align: right;\n",
       "    }\n",
       "</style>\n",
       "<table border=\"1\" class=\"dataframe\">\n",
       "  <thead>\n",
       "    <tr style=\"text-align: right;\">\n",
       "      <th></th>\n",
       "      <th>0</th>\n",
       "      <th>1</th>\n",
       "      <th>2</th>\n",
       "      <th>3</th>\n",
       "      <th>4</th>\n",
       "    </tr>\n",
       "  </thead>\n",
       "  <tbody>\n",
       "    <tr>\n",
       "      <th>prompt</th>\n",
       "      <td>a30 year old Australian male in a bold grey to...</td>\n",
       "      <td>a30 year old Australian male in a bold grey to...</td>\n",
       "      <td>a30 year old Australian male in a bold grey to...</td>\n",
       "      <td>a30 year old Australian male in a bold grey to...</td>\n",
       "      <td>a millennial Australian male in a bold grey to...</td>\n",
       "    </tr>\n",
       "    <tr>\n",
       "      <th>user</th>\n",
       "      <td>838569662941102110</td>\n",
       "      <td>838569662941102110</td>\n",
       "      <td>838569662941102110</td>\n",
       "      <td>838569662941102110</td>\n",
       "      <td>838569662941102110</td>\n",
       "    </tr>\n",
       "    <tr>\n",
       "      <th>timestamp</th>\n",
       "      <td>2023-11-04 08:05:34.078000+00:00</td>\n",
       "      <td>2023-11-04 08:05:26.130000+00:00</td>\n",
       "      <td>2023-11-04 08:05:24.309000+00:00</td>\n",
       "      <td>2023-11-04 08:05:21.934000+00:00</td>\n",
       "      <td>2023-11-04 08:04:54.067000+00:00</td>\n",
       "    </tr>\n",
       "    <tr>\n",
       "      <th>image_url</th>\n",
       "      <td>https://cdn.discordapp.com/attachments/9954314...</td>\n",
       "      <td>https://cdn.discordapp.com/attachments/9954314...</td>\n",
       "      <td>https://cdn.discordapp.com/attachments/9954314...</td>\n",
       "      <td>https://cdn.discordapp.com/attachments/9954314...</td>\n",
       "      <td>https://cdn.discordapp.com/attachments/9954314...</td>\n",
       "    </tr>\n",
       "  </tbody>\n",
       "</table>\n",
       "</div>"
      ],
      "text/plain": [
       "                                                           0  \\\n",
       "prompt     a30 year old Australian male in a bold grey to...   \n",
       "user                                      838569662941102110   \n",
       "timestamp                   2023-11-04 08:05:34.078000+00:00   \n",
       "image_url  https://cdn.discordapp.com/attachments/9954314...   \n",
       "\n",
       "                                                           1  \\\n",
       "prompt     a30 year old Australian male in a bold grey to...   \n",
       "user                                      838569662941102110   \n",
       "timestamp                   2023-11-04 08:05:26.130000+00:00   \n",
       "image_url  https://cdn.discordapp.com/attachments/9954314...   \n",
       "\n",
       "                                                           2  \\\n",
       "prompt     a30 year old Australian male in a bold grey to...   \n",
       "user                                      838569662941102110   \n",
       "timestamp                   2023-11-04 08:05:24.309000+00:00   \n",
       "image_url  https://cdn.discordapp.com/attachments/9954314...   \n",
       "\n",
       "                                                           3  \\\n",
       "prompt     a30 year old Australian male in a bold grey to...   \n",
       "user                                      838569662941102110   \n",
       "timestamp                   2023-11-04 08:05:21.934000+00:00   \n",
       "image_url  https://cdn.discordapp.com/attachments/9954314...   \n",
       "\n",
       "                                                           4  \n",
       "prompt     a millennial Australian male in a bold grey to...  \n",
       "user                                      838569662941102110  \n",
       "timestamp                   2023-11-04 08:04:54.067000+00:00  \n",
       "image_url  https://cdn.discordapp.com/attachments/9954314...  "
      ]
     },
     "execution_count": 81,
     "metadata": {},
     "output_type": "execute_result"
    }
   ],
   "source": [
    "df = table.to_pandas()  \n",
    "df.head().T"
   ]
  },
  {
   "cell_type": "code",
   "execution_count": 82,
   "id": "3d798b42-d859-420f-b4c2-7faea3931f75",
   "metadata": {},
   "outputs": [
    {
     "data": {
      "text/plain": [
       "prompt                    object\n",
       "user                      object\n",
       "timestamp    datetime64[ns, UTC]\n",
       "image_url                 object\n",
       "dtype: object"
      ]
     },
     "execution_count": 82,
     "metadata": {},
     "output_type": "execute_result"
    }
   ],
   "source": [
    "df.dtypes"
   ]
  },
  {
   "cell_type": "code",
   "execution_count": 83,
   "id": "c5683eb7-976a-484d-b18e-8012ae73fc4b",
   "metadata": {},
   "outputs": [
    {
     "name": "stdout",
     "output_type": "stream",
     "text": [
      "First timestamp: 2023-10-24 03:56:41.108000+00:00\n",
      "Last timestamp: 2023-11-09 03:33:57.146000+00:00\n"
     ]
    }
   ],
   "source": [
    "df[\"timestamp\"] = pd.to_datetime(df[\"timestamp\"])\n",
    "first_timestamp = df[\"timestamp\"].min()\n",
    "last_timestamp = df[\"timestamp\"].max()\n",
    "print(f\"First timestamp: {first_timestamp}\")\n",
    "print(f\"Last timestamp: {last_timestamp}\")"
   ]
  },
  {
   "cell_type": "markdown",
   "id": "5de97aee-da9f-4e49-a59e-71519ca5fef6",
   "metadata": {},
   "source": [
    "## Prompt Data"
   ]
  },
  {
   "cell_type": "code",
   "execution_count": 84,
   "id": "a6ce5e1b-ad6d-46e6-b7de-3d33114bbc35",
   "metadata": {},
   "outputs": [
    {
     "data": {
      "text/plain": [
       "count    973134.000000\n",
       "mean        177.577442\n",
       "std         206.590229\n",
       "min           1.000000\n",
       "25%          67.000000\n",
       "50%         118.000000\n",
       "75%         208.000000\n",
       "max        1800.000000\n",
       "Name: promptLength, dtype: float64"
      ]
     },
     "execution_count": 84,
     "metadata": {},
     "output_type": "execute_result"
    }
   ],
   "source": [
    "#This counts characters, not words. Oop.\n",
    "df[\"promptLength\"] = df[\"prompt\"].str.len()\n",
    "df[\"promptLength\"].describe()"
   ]
  },
  {
   "cell_type": "code",
   "execution_count": 85,
   "id": "d2d959e5-c462-4f65-a0ed-5af28f8eec5c",
   "metadata": {},
   "outputs": [
    {
     "data": {
      "text/plain": [
       "count      310.000000\n",
       "mean      3139.141935\n",
       "std       7509.070470\n",
       "min          1.000000\n",
       "25%         49.000000\n",
       "50%        164.500000\n",
       "75%       1120.000000\n",
       "max      35530.000000\n",
       "Name: wordCount, dtype: float64"
      ]
     },
     "execution_count": 85,
     "metadata": {},
     "output_type": "execute_result"
    }
   ],
   "source": [
    "#Intended to count words per prompt, misunderstood what code was doing. \n",
    "#From https://stackoverflow.com/questions/37483470/how-to-calculate-number-of-words-in-a-string-in-dataframe\n",
    "\n",
    "df[\"wordCount\"] = df[\"prompt\"].str.split().apply(len).value_counts()\n",
    "df[\"wordCount\"].describe()"
   ]
  },
  {
   "cell_type": "code",
   "execution_count": 86,
   "id": "7eaed8d3-1c28-471f-9fee-e66a21980c81",
   "metadata": {},
   "outputs": [
    {
     "data": {
      "text/plain": [
       "count    973134.000000\n",
       "mean         25.990573\n",
       "std          29.710369\n",
       "min           1.000000\n",
       "25%          10.000000\n",
       "50%          18.000000\n",
       "75%          31.000000\n",
       "max         377.000000\n",
       "Name: word_count, dtype: float64"
      ]
     },
     "execution_count": 86,
     "metadata": {},
     "output_type": "execute_result"
    }
   ],
   "source": [
    "#Actually counting words per prompt\n",
    "df[\"word_count\"] = df[\"prompt\"].str.split().str.len()\n",
    "df[\"word_count\"].describe()"
   ]
  },
  {
   "cell_type": "markdown",
   "id": "9ac86135-5990-44c4-8e60-3f481d538034",
   "metadata": {},
   "source": [
    "**Minimum word count**: 1\n",
    "**Max word count**: 377 "
   ]
  },
  {
   "cell_type": "code",
   "execution_count": 87,
   "id": "e0cc3a44-7856-4769-88df-3cb8797df626",
   "metadata": {},
   "outputs": [
    {
     "data": {
      "text/plain": [
       "'(photorealistic) (masterpiece) Anime style. Scene from an anime movie. Shinichi Aizawa, a 20 year-old male student with slightly unruly black hair and blue eyes wearing a black tee-shirt, blue jeans and brown shoes.sitting back on the ground. He is facing a single talking red fox that is sitting in front of him. He looks panickedat being addressed by the animal. They are surrounded by high golden grain. Blue sky with streaky pink and white clouds. In the style of Don Bluth.  --niji'"
      ]
     },
     "execution_count": 87,
     "metadata": {},
     "output_type": "execute_result"
    }
   ],
   "source": [
    "df[\"prompt\"][1346]"
   ]
  },
  {
   "cell_type": "code",
   "execution_count": 88,
   "id": "1c5d89e5-af0f-4d29-970d-8aa236039083",
   "metadata": {},
   "outputs": [],
   "source": [
    "containsNiji = df[\"prompt\"].str.contains(\"niji\", case=False, na=False)\n",
    "filteredForNiji = df[containsNiji] "
   ]
  },
  {
   "cell_type": "code",
   "execution_count": 89,
   "id": "0764e090-40ff-4b82-b334-7445643a726f",
   "metadata": {},
   "outputs": [],
   "source": [
    "#How many prompts are (correctly) using parameters? Aspect ratio, chaos, no, style, weird\n",
    "#How many prompts are incorrectly trying to use parameters? ie, no -- \n",
    "#How many prompts are using older versions? --niji 4, --niji 6, --version/--v <1, 2, 3, 4, 5, 5.1, 5.2> "
   ]
  },
  {
   "cell_type": "code",
   "execution_count": 90,
   "id": "bf07a30a-ad21-4dae-87cd-e47a7975e818",
   "metadata": {},
   "outputs": [
    {
     "name": "stdout",
     "output_type": "stream",
     "text": [
      "                                                   prompt                user  \\\n",
      "694     niji 5, Halloween, monsters, tattoo design, si...  878376022184169524   \n",
      "1151    a male human angel with wings made of golden l...  353023489541931009   \n",
      "1156    a male human angel with wings made of golden l...  353023489541931009   \n",
      "1157    a male human angel with wings made of golden l...  353023489541931009   \n",
      "1346    (photorealistic) (masterpiece) Anime style. Sc...  726804658579963946   \n",
      "...                                                   ...                 ...   \n",
      "971042  (msterpiece) (highly detailed) a teenage detec...  726804658579963946   \n",
      "971051  (masterpiece) Full figures visible. Dynamic po...  726804658579963946   \n",
      "971052  (masterpiece) Full figures visible. Dynamic po...  726804658579963946   \n",
      "971053  (masterpiece) Full figures visible. Dynamic po...  726804658579963946   \n",
      "971054  (masterpiece) Full figures visible. Dynamic po...  726804658579963946   \n",
      "\n",
      "                              timestamp  \\\n",
      "694    2023-10-30 07:48:59.390000+00:00   \n",
      "1151   2023-10-27 08:53:59.106000+00:00   \n",
      "1156   2023-10-27 08:53:48.136000+00:00   \n",
      "1157   2023-10-27 08:53:47.228000+00:00   \n",
      "1346   2023-10-28 19:24:54.519000+00:00   \n",
      "...                                 ...   \n",
      "971042 2023-10-29 13:08:03.874000+00:00   \n",
      "971051 2023-10-29 13:03:46.387000+00:00   \n",
      "971052 2023-10-29 13:03:45.226000+00:00   \n",
      "971053 2023-10-29 13:03:43.976000+00:00   \n",
      "971054 2023-10-29 13:03:42.988000+00:00   \n",
      "\n",
      "                                                image_url  promptLength  \\\n",
      "694     https://cdn.discordapp.com/attachments/9818327...            87   \n",
      "1151    https://cdn.discordapp.com/attachments/9415824...           236   \n",
      "1156    https://cdn.discordapp.com/attachments/9415824...           236   \n",
      "1157    https://cdn.discordapp.com/attachments/9415824...           236   \n",
      "1346    https://cdn.discordapp.com/attachments/9954315...           486   \n",
      "...                                                   ...           ...   \n",
      "971042  https://cdn.discordapp.com/attachments/9892747...           442   \n",
      "971051  https://cdn.discordapp.com/attachments/9892747...           463   \n",
      "971052  https://cdn.discordapp.com/attachments/9892747...           463   \n",
      "971053  https://cdn.discordapp.com/attachments/9892747...           463   \n",
      "971054  https://cdn.discordapp.com/attachments/9892747...           463   \n",
      "\n",
      "        wordCount  word_count  \n",
      "694           NaN          13  \n",
      "1151          NaN          38  \n",
      "1156          NaN          38  \n",
      "1157          NaN          38  \n",
      "1346          NaN          82  \n",
      "...           ...         ...  \n",
      "971042        NaN          76  \n",
      "971051        NaN          78  \n",
      "971052        NaN          78  \n",
      "971053        NaN          78  \n",
      "971054        NaN          78  \n",
      "\n",
      "[4976 rows x 7 columns]\n"
     ]
    }
   ],
   "source": [
    "print(filteredForNiji)"
   ]
  },
  {
   "cell_type": "markdown",
   "id": "b7f6e800-d8fa-4316-af4e-6b1ad584b4a1",
   "metadata": {},
   "source": [
    "---\n",
    "Need to remember to be mindful of the columns I'm adding..."
   ]
  },
  {
   "cell_type": "code",
   "execution_count": 91,
   "id": "c1c35797-e418-4263-a39f-c9e446c9cef2",
   "metadata": {},
   "outputs": [],
   "source": [
    "#Any correlation between prompt length and reuse?"
   ]
  },
  {
   "cell_type": "code",
   "execution_count": 92,
   "id": "5668209d-15ec-4b58-ab47-ba175f083413",
   "metadata": {},
   "outputs": [],
   "source": [
    "#How many prompts are repeated without changes?\n",
    "#How many prompts are repeated with only parameter changes?\n",
    "#How many prompts are repeated with only a single word change? (this could be tricky with determining the addition of, subtraction of, etc)"
   ]
  },
  {
   "cell_type": "markdown",
   "id": "dafea47d-fdc0-4f9b-88df-02c6b0b6694f",
   "metadata": {},
   "source": [
    "## User Data\n",
    "---"
   ]
  },
  {
   "cell_type": "code",
   "execution_count": 93,
   "id": "febefe52-261d-4b64-9712-02b802748f2e",
   "metadata": {},
   "outputs": [
    {
     "data": {
      "text/plain": [
       "24487"
      ]
     },
     "execution_count": 93,
     "metadata": {},
     "output_type": "execute_result"
    }
   ],
   "source": [
    "uniqueUsers = df[\"user\"].nunique()\n",
    "uniqueUsers"
   ]
  },
  {
   "cell_type": "code",
   "execution_count": 94,
   "id": "b1d835bb-9927-4651-a215-bbfcde0f4123",
   "metadata": {},
   "outputs": [],
   "source": [
    "#How many users posted everyday? \n",
    "#Unique users per day?"
   ]
  },
  {
   "cell_type": "code",
   "execution_count": 95,
   "id": "ba2740c2-0c02-4048-b28a-861edf84435e",
   "metadata": {},
   "outputs": [
    {
     "data": {
      "text/plain": [
       "user\n",
       "1133120398163193937    8666\n",
       "1142211736116662343    7327\n",
       "140316570487488512     6868\n",
       "1017944538330959934    4200\n",
       "598593981537976372     4133\n",
       "                       ... \n",
       "971143636362358835        1\n",
       "1079337279329407026       1\n",
       "1092071164161048717       1\n",
       "1064717812700028938       1\n",
       "1124031946381611079       1\n",
       "Name: count, Length: 24487, dtype: int64"
      ]
     },
     "execution_count": 95,
     "metadata": {},
     "output_type": "execute_result"
    }
   ],
   "source": [
    "promptsPerUser = df[\"user\"].value_counts()\n",
    "promptsPerUser"
   ]
  },
  {
   "cell_type": "code",
   "execution_count": 96,
   "id": "5ca59c5b-d213-42fb-9d33-7bede9cc6250",
   "metadata": {},
   "outputs": [],
   "source": [
    "#How many users are using the same prompt that another user prompted?"
   ]
  },
  {
   "cell_type": "code",
   "execution_count": 97,
   "id": "1e88f2c2-7a96-420a-9d06-8be8f80a2d3b",
   "metadata": {},
   "outputs": [],
   "source": [
    "#Look at how many users only posted 1 time"
   ]
  },
  {
   "cell_type": "markdown",
   "id": "816e2ec1-83dd-44d8-b9df-2911b5e604d4",
   "metadata": {},
   "source": [
    "## Time Data\n",
    "---"
   ]
  },
  {
   "cell_type": "code",
   "execution_count": 98,
   "id": "08dc6941-58b2-4b9f-80e6-a3a41abcfd6e",
   "metadata": {},
   "outputs": [],
   "source": [
    "#How many prompts per day?\n",
    "#Frequency over 24 hour period?"
   ]
  },
  {
   "cell_type": "markdown",
   "id": "ce456d1e-a41f-40c4-ba40-a0c508d127b6",
   "metadata": {},
   "source": [
    "## Visuals\n",
    "---"
   ]
  },
  {
   "cell_type": "code",
   "execution_count": 110,
   "id": "dc97d169-741b-46f3-abb9-7303dbe8b67b",
   "metadata": {},
   "outputs": [
    {
     "data": {
      "application/vnd.jupyter.widget-view+json": {
       "model_id": "e87f9d63f6f04758a9df61f2954408c9",
       "version_major": 2,
       "version_minor": 0
      },
      "text/plain": [
       "GridspecLayout(children=(Button(button_style='info', description='Word Cloud', layout=Layout(grid_area='widget…"
      ]
     },
     "execution_count": 110,
     "metadata": {},
     "output_type": "execute_result"
    }
   ],
   "source": [
    "def create_expanded_button(description, button_style):\n",
    "    return Button(description=description, button_style=button_style, layout=Layout(height='auto', width='auto'))\n",
    "    \n",
    "\n",
    "grid = GridspecLayout(4, 3, height='300px')\n",
    "grid[:3, 1:] = create_expanded_button('Word Cloud', 'info')\n",
    "grid[:, 0] = create_expanded_button('Stats', 'info')\n",
    "grid[3, 1] = create_expanded_button('Drop Down 1 - Day', 'info')\n",
    "grid[3, 2] = create_expanded_button('Slider', 'info')\n",
    "\n",
    "grid\n",
    "\n",
    "#"
   ]
  },
  {
   "cell_type": "markdown",
   "id": "c8272da9-d291-4ef3-9f5c-1850653ee454",
   "metadata": {},
   "source": [
    "## NLP???\n",
    "---"
   ]
  },
  {
   "cell_type": "markdown",
   "id": "b0c9148e-5cb3-4acc-89e7-aec3257f37a0",
   "metadata": {},
   "source": [
    "Allegedly [Textblob](https://textblob.readthedocs.io/en/dev/index.html) is a decent beginner natural language processor. I keep seeing NLPs pop up anytime I search for information related to text analysis."
   ]
  },
  {
   "cell_type": "code",
   "execution_count": null,
   "id": "ea80c72d-d21f-4baa-bc7f-1a4b6e8f4a32",
   "metadata": {},
   "outputs": [],
   "source": []
  }
 ],
 "metadata": {
  "kernelspec": {
   "display_name": "Python 3 (ipykernel)",
   "language": "python",
   "name": "python3"
  },
  "language_info": {
   "codemirror_mode": {
    "name": "ipython",
    "version": 3
   },
   "file_extension": ".py",
   "mimetype": "text/x-python",
   "name": "python",
   "nbconvert_exporter": "python",
   "pygments_lexer": "ipython3",
   "version": "3.12.1"
  }
 },
 "nbformat": 4,
 "nbformat_minor": 5
}
