{
 "cells": [
  {
   "cell_type": "markdown",
   "id": "b4470844-da33-4439-aff6-17068e97c6a7",
   "metadata": {},
   "source": [
    "## Public Midjourney Prompt Data \n",
    "---\n",
    "- This project is taking a look at Midjourney Discord prompt data from October 24, 2023 - November 9, 2023.\n",
    "- Data from 11/7 and 11/31 is completely absent. 10/24 and 11/1 only had 12 and 5 recorded prompts, respectively, and were removed. Likely correlation is Discord API errors and/or downtime.\n",
    "\n",
    "- Of note, this data contains prompts only from the Midjourney Discord itself, and whatever public facing channels the bot or bots that scrapped the information had access to at the time.\n",
    "- It does not include prompts that were rejected by the AI filter or prompts that were caught in errors.\n",
    "\n",
    "- Prompt data collected: user, timestamp, image reference urls used and correctly applied prompt modifiers.\n",
    "- Prompt data not collected:\n",
    "- A critical issue with this data is that it doesn't have the parts of the prompt that inform what type of output it is. Ie, Image #1, Image #2, Image #3 or Image #4, signifying an image 'broken out' of a quad. There's no way to tell if an image is a remix, reroll or region variation or if it's an actually upscale.\n",
    "- This doesn't make the data unuseable but it definitely changes how it should be framed and looked at. It can still be good for getting a look at user activity–– just not into the specifics.\n",
    "\n",
    "Can still look at prompt lengths, modifiers, unique prompts, unique prompts per user, unique prompts with images, modifiers\n",
    "\n",
    "- 24,487 users generated 973,134 public facing prompts over 15 days. \n",
    "\n",
    "## Noted Service Outages or Issues\n",
    "---\n",
    "\n",
    "- 10/25: \"/describe as well as jobs with image prompts hosted on the Discord CDN are failing. We're working with Discord on resolving the issue\"\n",
    "- 10/28: \"Global Queue Reset\n",
    "There was a momentary issue with the bot that left a lot of queues stuck. We are performing a global queue reset to fix this.\"\n",
    "- 10/29: \"There was an issue just now where jobs with image prompts would fail to run. This issue should now be resolved.\"\n",
    "\n"
   ]
  },
  {
   "cell_type": "code",
   "execution_count": 1,
   "id": "45688330-9b5e-42de-9afa-af2eb988adda",
   "metadata": {},
   "outputs": [],
   "source": [
    "import pyarrow.parquet as pa\n",
    "import pandas as pd\n",
    "import numpy as np\n",
    "from ipywidgets import AppLayout, GridspecLayout, Button, Label, Layout, HTML\n",
    "from IPython.display import display, clear_output, update_display\n",
    "import matplotlib.pyplot as plt\n",
    "import matplotlib.colors as mcolors\n",
    "import plotly.express as px\n",
    "import plotly.graph_objects as go\n",
    "\n",
    "import seaborn as sns"
   ]
  },
  {
   "cell_type": "code",
   "execution_count": 4,
   "id": "ade2adcb-ad0f-4461-8a70-bca3da27d78d",
   "metadata": {},
   "outputs": [],
   "source": [
    "table = pa.read_table(\"Midjourney2023_Upscale.parquet\")"
   ]
  },
  {
   "cell_type": "code",
   "execution_count": null,
   "id": "284b3003-fdd5-4598-a024-3d68c9987257",
   "metadata": {
    "scrolled": true
   },
   "outputs": [],
   "source": [
    "table"
   ]
  },
  {
   "cell_type": "code",
   "execution_count": 4,
   "id": "812cd407-f6c9-4792-89a3-c59c1f06a874",
   "metadata": {},
   "outputs": [
    {
     "data": {
      "text/plain": [
       "(973134, 4)"
      ]
     },
     "execution_count": 4,
     "metadata": {},
     "output_type": "execute_result"
    }
   ],
   "source": [
    "table.shape"
   ]
  },
  {
   "cell_type": "markdown",
   "id": "0684717e-ff90-4b08-92e5-5cc143be543e",
   "metadata": {},
   "source": [
    "**973,134 prompts** over 16 days."
   ]
  },
  {
   "cell_type": "code",
   "execution_count": 6,
   "id": "95f88ee6-81ce-42f9-84de-d3a8809dc2a2",
   "metadata": {},
   "outputs": [
    {
     "data": {
      "text/html": [
       "<div>\n",
       "<style scoped>\n",
       "    .dataframe tbody tr th:only-of-type {\n",
       "        vertical-align: middle;\n",
       "    }\n",
       "\n",
       "    .dataframe tbody tr th {\n",
       "        vertical-align: top;\n",
       "    }\n",
       "\n",
       "    .dataframe thead th {\n",
       "        text-align: right;\n",
       "    }\n",
       "</style>\n",
       "<table border=\"1\" class=\"dataframe\">\n",
       "  <thead>\n",
       "    <tr style=\"text-align: right;\">\n",
       "      <th></th>\n",
       "      <th>0</th>\n",
       "      <th>1</th>\n",
       "      <th>2</th>\n",
       "      <th>3</th>\n",
       "      <th>4</th>\n",
       "    </tr>\n",
       "  </thead>\n",
       "  <tbody>\n",
       "    <tr>\n",
       "      <th>prompt</th>\n",
       "      <td>a30 year old Australian male in a bold grey to...</td>\n",
       "      <td>a30 year old Australian male in a bold grey to...</td>\n",
       "      <td>a30 year old Australian male in a bold grey to...</td>\n",
       "      <td>a30 year old Australian male in a bold grey to...</td>\n",
       "      <td>a millennial Australian male in a bold grey to...</td>\n",
       "    </tr>\n",
       "    <tr>\n",
       "      <th>user</th>\n",
       "      <td>838569662941102110</td>\n",
       "      <td>838569662941102110</td>\n",
       "      <td>838569662941102110</td>\n",
       "      <td>838569662941102110</td>\n",
       "      <td>838569662941102110</td>\n",
       "    </tr>\n",
       "    <tr>\n",
       "      <th>timestamp</th>\n",
       "      <td>2023-11-04 08:05:34.078000+00:00</td>\n",
       "      <td>2023-11-04 08:05:26.130000+00:00</td>\n",
       "      <td>2023-11-04 08:05:24.309000+00:00</td>\n",
       "      <td>2023-11-04 08:05:21.934000+00:00</td>\n",
       "      <td>2023-11-04 08:04:54.067000+00:00</td>\n",
       "    </tr>\n",
       "    <tr>\n",
       "      <th>image_url</th>\n",
       "      <td>https://cdn.discordapp.com/attachments/9954314...</td>\n",
       "      <td>https://cdn.discordapp.com/attachments/9954314...</td>\n",
       "      <td>https://cdn.discordapp.com/attachments/9954314...</td>\n",
       "      <td>https://cdn.discordapp.com/attachments/9954314...</td>\n",
       "      <td>https://cdn.discordapp.com/attachments/9954314...</td>\n",
       "    </tr>\n",
       "  </tbody>\n",
       "</table>\n",
       "</div>"
      ],
      "text/plain": [
       "                                                           0  \\\n",
       "prompt     a30 year old Australian male in a bold grey to...   \n",
       "user                                      838569662941102110   \n",
       "timestamp                   2023-11-04 08:05:34.078000+00:00   \n",
       "image_url  https://cdn.discordapp.com/attachments/9954314...   \n",
       "\n",
       "                                                           1  \\\n",
       "prompt     a30 year old Australian male in a bold grey to...   \n",
       "user                                      838569662941102110   \n",
       "timestamp                   2023-11-04 08:05:26.130000+00:00   \n",
       "image_url  https://cdn.discordapp.com/attachments/9954314...   \n",
       "\n",
       "                                                           2  \\\n",
       "prompt     a30 year old Australian male in a bold grey to...   \n",
       "user                                      838569662941102110   \n",
       "timestamp                   2023-11-04 08:05:24.309000+00:00   \n",
       "image_url  https://cdn.discordapp.com/attachments/9954314...   \n",
       "\n",
       "                                                           3  \\\n",
       "prompt     a30 year old Australian male in a bold grey to...   \n",
       "user                                      838569662941102110   \n",
       "timestamp                   2023-11-04 08:05:21.934000+00:00   \n",
       "image_url  https://cdn.discordapp.com/attachments/9954314...   \n",
       "\n",
       "                                                           4  \n",
       "prompt     a millennial Australian male in a bold grey to...  \n",
       "user                                      838569662941102110  \n",
       "timestamp                   2023-11-04 08:04:54.067000+00:00  \n",
       "image_url  https://cdn.discordapp.com/attachments/9954314...  "
      ]
     },
     "execution_count": 6,
     "metadata": {},
     "output_type": "execute_result"
    }
   ],
   "source": [
    "df = table.to_pandas()  \n",
    "df.head().T"
   ]
  },
  {
   "cell_type": "code",
   "execution_count": 7,
   "id": "3d798b42-d859-420f-b4c2-7faea3931f75",
   "metadata": {},
   "outputs": [
    {
     "data": {
      "text/plain": [
       "prompt                    object\n",
       "user                      object\n",
       "timestamp    datetime64[ns, UTC]\n",
       "image_url                 object\n",
       "dtype: object"
      ]
     },
     "execution_count": 7,
     "metadata": {},
     "output_type": "execute_result"
    }
   ],
   "source": [
    "df.dtypes"
   ]
  },
  {
   "cell_type": "markdown",
   "id": "7814b673-7bff-449f-a16c-b10139283569",
   "metadata": {},
   "source": [
    "### Data Cleaning & Filtering\n",
    "---"
   ]
  },
  {
   "cell_type": "markdown",
   "id": "a07f9123-c7c9-4167-a7be-00f5c782409b",
   "metadata": {},
   "source": [
    "**So 10/31 and 11/7 are missing from the data, and 10/24 and 11/1 only have a literal handful of prompts. So we're going to remove those as well.**\n",
    "\n",
    "Apparently this removes 2 unique users."
   ]
  },
  {
   "cell_type": "code",
   "execution_count": 8,
   "id": "1793078d-345f-44e2-82e5-c562f4479766",
   "metadata": {},
   "outputs": [],
   "source": [
    "df[\"timestamp\"] = pd.to_datetime(df[\"timestamp\"])\n",
    "df = df.sort_values(by=\"timestamp\")"
   ]
  },
  {
   "cell_type": "code",
   "execution_count": 9,
   "id": "7499cf6c-f418-4174-a7a6-fc4ee7265c2a",
   "metadata": {},
   "outputs": [],
   "source": [
    "df[\"date\"] = df[\"timestamp\"].dt.date"
   ]
  },
  {
   "cell_type": "code",
   "execution_count": 8,
   "id": "797f6043-c969-4a34-acf4-ec6fdb5034db",
   "metadata": {},
   "outputs": [
    {
     "data": {
      "text/plain": [
       "182042    2023-10-24\n",
       "182041    2023-10-24\n",
       "182040    2023-10-24\n",
       "182039    2023-10-24\n",
       "182038    2023-10-24\n",
       "             ...    \n",
       "515610    2023-11-09\n",
       "758793    2023-11-09\n",
       "846359    2023-11-09\n",
       "846358    2023-11-09\n",
       "758792    2023-11-09\n",
       "Name: date, Length: 973134, dtype: object"
      ]
     },
     "execution_count": 8,
     "metadata": {},
     "output_type": "execute_result"
    }
   ],
   "source": [
    "df[\"date\"]"
   ]
  },
  {
   "cell_type": "code",
   "execution_count": 10,
   "id": "0c49f84b-cda2-4e32-945f-6b48e01c5b60",
   "metadata": {},
   "outputs": [],
   "source": [
    "#I removed 11/7 instead of 11/1. Siiiiiiiigh.\n",
    "\n",
    "datesToRemove = [\"2023-10-24\", \"2023-11-01\"]\n",
    "datesToRemove = pd.to_datetime(datesToRemove).date\n",
    "promptDF = df[~df[\"date\"].isin(datesToRemove)]"
   ]
  },
  {
   "cell_type": "code",
   "execution_count": 11,
   "id": "36841c3f-09d0-41c8-84b4-be361e80e8f0",
   "metadata": {},
   "outputs": [],
   "source": [
    "promptDF = promptDF.drop(columns=[\"image_url\"])"
   ]
  },
  {
   "cell_type": "code",
   "execution_count": 12,
   "id": "bfa28497-9b3e-4b99-af02-448f9c4ed15f",
   "metadata": {},
   "outputs": [
    {
     "name": "stdout",
     "output_type": "stream",
     "text": [
      "First timestamp: 2023-10-25 06:44:52.595000+00:00\n",
      "Last timestamp: 2023-11-09 03:33:57.146000+00:00\n"
     ]
    }
   ],
   "source": [
    "promptDF[\"timestamp\"] = pd.to_datetime(promptDF[\"timestamp\"])\n",
    "first_timestamp = promptDF[\"timestamp\"].min()\n",
    "last_timestamp = promptDF[\"timestamp\"].max()\n",
    "print(f\"First timestamp: {first_timestamp}\")\n",
    "print(f\"Last timestamp: {last_timestamp}\")"
   ]
  },
  {
   "cell_type": "markdown",
   "id": "173d46b5-7c59-41af-8102-c3aacec8c4de",
   "metadata": {},
   "source": [
    "**Proper listing of dates with (probably) proper prompt data!**"
   ]
  },
  {
   "cell_type": "code",
   "execution_count": 13,
   "id": "a240de98-7364-4bfd-8c4a-b84bfb457d94",
   "metadata": {},
   "outputs": [
    {
     "name": "stdout",
     "output_type": "stream",
     "text": [
      "[datetime.date(2023, 10, 25) datetime.date(2023, 10, 26)\n",
      " datetime.date(2023, 10, 27) datetime.date(2023, 10, 28)\n",
      " datetime.date(2023, 10, 29) datetime.date(2023, 10, 30)\n",
      " datetime.date(2023, 11, 2) datetime.date(2023, 11, 3)\n",
      " datetime.date(2023, 11, 4) datetime.date(2023, 11, 5)\n",
      " datetime.date(2023, 11, 6) datetime.date(2023, 11, 8)\n",
      " datetime.date(2023, 11, 9)]\n"
     ]
    }
   ],
   "source": [
    "print(promptDF[\"date\"].unique())"
   ]
  },
  {
   "cell_type": "markdown",
   "id": "46fc38a1-18dd-450c-8541-5bcb95668938",
   "metadata": {},
   "source": [
    "**Prompts in Midjourney v5.2 can include things like image references (always set at the beginning of a prompt) and prompt modifiers (always set at the end, preceeded by double hyphen's (--) )**\n",
    "\n",
    "This is going to skew the promptLength and word_count columns we have right now, and it would be interesting to see how many prompts have image references and/or prompt modifiers. It can also be a way to help see who tries to do prompt modifiers incorrectly (politely asking the robot not to include a word does not in fact work)."
   ]
  },
  {
   "cell_type": "code",
   "execution_count": 14,
   "id": "37db579f-3363-4215-a4a6-332e3284aa39",
   "metadata": {},
   "outputs": [
    {
     "data": {
      "text/html": [
       "<div>\n",
       "<style scoped>\n",
       "    .dataframe tbody tr th:only-of-type {\n",
       "        vertical-align: middle;\n",
       "    }\n",
       "\n",
       "    .dataframe tbody tr th {\n",
       "        vertical-align: top;\n",
       "    }\n",
       "\n",
       "    .dataframe thead th {\n",
       "        text-align: right;\n",
       "    }\n",
       "</style>\n",
       "<table border=\"1\" class=\"dataframe\">\n",
       "  <thead>\n",
       "    <tr style=\"text-align: right;\">\n",
       "      <th></th>\n",
       "      <th>prompt</th>\n",
       "      <th>user</th>\n",
       "      <th>timestamp</th>\n",
       "      <th>date</th>\n",
       "    </tr>\n",
       "  </thead>\n",
       "  <tbody>\n",
       "    <tr>\n",
       "      <th>815122</th>\n",
       "      <td>monster woman with extremely dry skin</td>\n",
       "      <td>958451742893301821</td>\n",
       "      <td>2023-10-25 06:44:52.595000+00:00</td>\n",
       "      <td>2023-10-25</td>\n",
       "    </tr>\n",
       "    <tr>\n",
       "      <th>923963</th>\n",
       "      <td>monster woman with extremely dry skin</td>\n",
       "      <td>958451742893301821</td>\n",
       "      <td>2023-10-25 06:44:52.595000+00:00</td>\n",
       "      <td>2023-10-25</td>\n",
       "    </tr>\n",
       "    <tr>\n",
       "      <th>923962</th>\n",
       "      <td>monster woman with extremely dry skin</td>\n",
       "      <td>958451742893301821</td>\n",
       "      <td>2023-10-25 06:45:24.519000+00:00</td>\n",
       "      <td>2023-10-25</td>\n",
       "    </tr>\n",
       "    <tr>\n",
       "      <th>815121</th>\n",
       "      <td>monster woman with extremely dry skin</td>\n",
       "      <td>958451742893301821</td>\n",
       "      <td>2023-10-25 06:45:24.519000+00:00</td>\n",
       "      <td>2023-10-25</td>\n",
       "    </tr>\n",
       "    <tr>\n",
       "      <th>815120</th>\n",
       "      <td>monster woman with extremely dry skin</td>\n",
       "      <td>958451742893301821</td>\n",
       "      <td>2023-10-25 06:45:25.744000+00:00</td>\n",
       "      <td>2023-10-25</td>\n",
       "    </tr>\n",
       "    <tr>\n",
       "      <th>...</th>\n",
       "      <td>...</td>\n",
       "      <td>...</td>\n",
       "      <td>...</td>\n",
       "      <td>...</td>\n",
       "    </tr>\n",
       "    <tr>\n",
       "      <th>515610</th>\n",
       "      <td>a pair of potter's hands shaping wet clay into...</td>\n",
       "      <td>1133812421149077615</td>\n",
       "      <td>2023-11-09 03:33:04.143000+00:00</td>\n",
       "      <td>2023-11-09</td>\n",
       "    </tr>\n",
       "    <tr>\n",
       "      <th>758793</th>\n",
       "      <td>sweatshirt mockup of gilden 18000 blank black ...</td>\n",
       "      <td>793118967689510932</td>\n",
       "      <td>2023-11-09 03:33:17.927000+00:00</td>\n",
       "      <td>2023-11-09</td>\n",
       "    </tr>\n",
       "    <tr>\n",
       "      <th>846359</th>\n",
       "      <td>the back of a modern young blonde woman kneeli...</td>\n",
       "      <td>713514202337116268</td>\n",
       "      <td>2023-11-09 03:33:30.511000+00:00</td>\n",
       "      <td>2023-11-09</td>\n",
       "    </tr>\n",
       "    <tr>\n",
       "      <th>846358</th>\n",
       "      <td>Create a vibrant and festive Deepavali 2023 Fa...</td>\n",
       "      <td>764823828542652438</td>\n",
       "      <td>2023-11-09 03:33:34.094000+00:00</td>\n",
       "      <td>2023-11-09</td>\n",
       "    </tr>\n",
       "    <tr>\n",
       "      <th>758792</th>\n",
       "      <td>sweatshirt mockup of gilden 18000 blank black ...</td>\n",
       "      <td>793118967689510932</td>\n",
       "      <td>2023-11-09 03:33:57.146000+00:00</td>\n",
       "      <td>2023-11-09</td>\n",
       "    </tr>\n",
       "  </tbody>\n",
       "</table>\n",
       "<p>973117 rows × 4 columns</p>\n",
       "</div>"
      ],
      "text/plain": [
       "                                                   prompt  \\\n",
       "815122              monster woman with extremely dry skin   \n",
       "923963              monster woman with extremely dry skin   \n",
       "923962              monster woman with extremely dry skin   \n",
       "815121              monster woman with extremely dry skin   \n",
       "815120              monster woman with extremely dry skin   \n",
       "...                                                   ...   \n",
       "515610  a pair of potter's hands shaping wet clay into...   \n",
       "758793  sweatshirt mockup of gilden 18000 blank black ...   \n",
       "846359  the back of a modern young blonde woman kneeli...   \n",
       "846358  Create a vibrant and festive Deepavali 2023 Fa...   \n",
       "758792  sweatshirt mockup of gilden 18000 blank black ...   \n",
       "\n",
       "                       user                        timestamp        date  \n",
       "815122   958451742893301821 2023-10-25 06:44:52.595000+00:00  2023-10-25  \n",
       "923963   958451742893301821 2023-10-25 06:44:52.595000+00:00  2023-10-25  \n",
       "923962   958451742893301821 2023-10-25 06:45:24.519000+00:00  2023-10-25  \n",
       "815121   958451742893301821 2023-10-25 06:45:24.519000+00:00  2023-10-25  \n",
       "815120   958451742893301821 2023-10-25 06:45:25.744000+00:00  2023-10-25  \n",
       "...                     ...                              ...         ...  \n",
       "515610  1133812421149077615 2023-11-09 03:33:04.143000+00:00  2023-11-09  \n",
       "758793   793118967689510932 2023-11-09 03:33:17.927000+00:00  2023-11-09  \n",
       "846359   713514202337116268 2023-11-09 03:33:30.511000+00:00  2023-11-09  \n",
       "846358   764823828542652438 2023-11-09 03:33:34.094000+00:00  2023-11-09  \n",
       "758792   793118967689510932 2023-11-09 03:33:57.146000+00:00  2023-11-09  \n",
       "\n",
       "[973117 rows x 4 columns]"
      ]
     },
     "execution_count": 14,
     "metadata": {},
     "output_type": "execute_result"
    }
   ],
   "source": [
    "promptDF"
   ]
  },
  {
   "cell_type": "code",
   "execution_count": 15,
   "id": "bfc3e9d2-1814-49fd-9e2f-c7c4e5efd693",
   "metadata": {},
   "outputs": [
    {
     "data": {
      "text/html": [
       "<div>\n",
       "<style scoped>\n",
       "    .dataframe tbody tr th:only-of-type {\n",
       "        vertical-align: middle;\n",
       "    }\n",
       "\n",
       "    .dataframe tbody tr th {\n",
       "        vertical-align: top;\n",
       "    }\n",
       "\n",
       "    .dataframe thead th {\n",
       "        text-align: right;\n",
       "    }\n",
       "</style>\n",
       "<table border=\"1\" class=\"dataframe\">\n",
       "  <thead>\n",
       "    <tr style=\"text-align: right;\">\n",
       "      <th></th>\n",
       "      <th>index</th>\n",
       "      <th>match</th>\n",
       "      <th>url</th>\n",
       "    </tr>\n",
       "  </thead>\n",
       "  <tbody>\n",
       "    <tr>\n",
       "      <th>0</th>\n",
       "      <td>815114</td>\n",
       "      <td>0</td>\n",
       "      <td>https://s.mj.run/TtejQ0lFp_w</td>\n",
       "    </tr>\n",
       "    <tr>\n",
       "      <th>1</th>\n",
       "      <td>593438</td>\n",
       "      <td>0</td>\n",
       "      <td>https://s.mj.run/TtejQ0lFp_w</td>\n",
       "    </tr>\n",
       "    <tr>\n",
       "      <th>2</th>\n",
       "      <td>683924</td>\n",
       "      <td>0</td>\n",
       "      <td>https://s.mj.run/TtejQ0lFp_w</td>\n",
       "    </tr>\n",
       "    <tr>\n",
       "      <th>3</th>\n",
       "      <td>408343</td>\n",
       "      <td>0</td>\n",
       "      <td>https://s.mj.run/TtejQ0lFp_w</td>\n",
       "    </tr>\n",
       "    <tr>\n",
       "      <th>4</th>\n",
       "      <td>655859</td>\n",
       "      <td>0</td>\n",
       "      <td>https://s.mj.run/TtejQ0lFp_w</td>\n",
       "    </tr>\n",
       "    <tr>\n",
       "      <th>...</th>\n",
       "      <td>...</td>\n",
       "      <td>...</td>\n",
       "      <td>...</td>\n",
       "    </tr>\n",
       "    <tr>\n",
       "      <th>260726</th>\n",
       "      <td>536511</td>\n",
       "      <td>0</td>\n",
       "      <td>https://s.mj.run/QypTskZD_nY</td>\n",
       "    </tr>\n",
       "    <tr>\n",
       "      <th>260727</th>\n",
       "      <td>424534</td>\n",
       "      <td>0</td>\n",
       "      <td>https://s.mj.run/hwS7RvDoUZ4</td>\n",
       "    </tr>\n",
       "    <tr>\n",
       "      <th>260728</th>\n",
       "      <td>758797</td>\n",
       "      <td>0</td>\n",
       "      <td>https://s.mj.run/eKGEHMVexAY</td>\n",
       "    </tr>\n",
       "    <tr>\n",
       "      <th>260729</th>\n",
       "      <td>758796</td>\n",
       "      <td>0</td>\n",
       "      <td>https://s.mj.run/eKGEHMVexAY</td>\n",
       "    </tr>\n",
       "    <tr>\n",
       "      <th>260730</th>\n",
       "      <td>758795</td>\n",
       "      <td>0</td>\n",
       "      <td>https://s.mj.run/eKGEHMVexAY</td>\n",
       "    </tr>\n",
       "  </tbody>\n",
       "</table>\n",
       "<p>260731 rows × 3 columns</p>\n",
       "</div>"
      ],
      "text/plain": [
       "         index  match                           url\n",
       "0       815114      0  https://s.mj.run/TtejQ0lFp_w\n",
       "1       593438      0  https://s.mj.run/TtejQ0lFp_w\n",
       "2       683924      0  https://s.mj.run/TtejQ0lFp_w\n",
       "3       408343      0  https://s.mj.run/TtejQ0lFp_w\n",
       "4       655859      0  https://s.mj.run/TtejQ0lFp_w\n",
       "...        ...    ...                           ...\n",
       "260726  536511      0  https://s.mj.run/QypTskZD_nY\n",
       "260727  424534      0  https://s.mj.run/hwS7RvDoUZ4\n",
       "260728  758797      0  https://s.mj.run/eKGEHMVexAY\n",
       "260729  758796      0  https://s.mj.run/eKGEHMVexAY\n",
       "260730  758795      0  https://s.mj.run/eKGEHMVexAY\n",
       "\n",
       "[260731 rows x 3 columns]"
      ]
     },
     "execution_count": 15,
     "metadata": {},
     "output_type": "execute_result"
    }
   ],
   "source": [
    "imageRefs = promptDF[\"prompt\"].str.extractall(r'\\<(https://s\\.mj\\.run/[^\\>]+)\\>').reset_index()\n",
    "imageRefs.columns = [\"index\", \"match\", \"url\"]\n",
    "imageRefs"
   ]
  },
  {
   "cell_type": "code",
   "execution_count": 16,
   "id": "dcfbe640-2637-475c-abc6-ddfeadd39225",
   "metadata": {},
   "outputs": [],
   "source": [
    "#Removing the image refs and putting the url-less prompt in a new column\n",
    "promptDF[\"prompt_part\"] = promptDF[\"prompt\"].replace(r'\\<https://s\\.mj\\.run/[^\\>]+\\>', '', regex=True)"
   ]
  },
  {
   "cell_type": "code",
   "execution_count": 28,
   "id": "6dbd6a4f-12bf-4efc-83f6-8feda548b6a2",
   "metadata": {},
   "outputs": [],
   "source": [
    "#Splitting off the modifiers and putting them into their own column\n",
    "#Properly added modifiers will always be at the end of a prompt, so splitting everything after the first -- works great\n",
    "#promptDF[[\"prompt_part\", \"modifiers\"]] = promptDF[\"prompt_part\"].str.split(' --', n=1, expand=True)"
   ]
  },
  {
   "cell_type": "code",
   "execution_count": 17,
   "id": "82ed181e-eaa6-4593-ad24-cbfd9b2f795e",
   "metadata": {},
   "outputs": [
    {
     "name": "stdout",
     "output_type": "stream",
     "text": [
      "Unique parameters:\n",
      " --niji\n",
      " --tile\n",
      " ––ar 16:9\n",
      " –-ar 16:9 –-v 5.0\n",
      " –-v 5.0\n",
      " --video\n",
      " --upbeta\n",
      " --uplight\n",
      " ––ar 21:9\n",
      " ––ar 21:9 , ––c 80\n",
      " –-ar 16:9\n",
      " –-ar 9:16 \n",
      " –-ar 3:4\n",
      " ––ar 1:2  \n",
      " ––ar 2:3 ––v 5.2\n",
      " –-v 5.2\n",
      " –-ar 9:16 –-v 5.2 \n",
      " ––ar 3:2 ––style cute  \n",
      " ––ar 3:2  \n",
      " –-ar 3:2 --niji\n",
      " –-ar 14:10   \n",
      " –-ar 2:3.\n",
      " –-ar 3:4.\n",
      " –-ar 2:3. + ultra-photorealistic + indoors\n",
      " ––v 4\n",
      " ––v 2\n",
      " –-ar 3:2 –s 750  \n",
      " –-stylize 10\n"
     ]
    }
   ],
   "source": [
    "#Oh my god nevermind I wish it was that easy.\n",
    "#Regex = regular expression = rational expression. It's a sequence of characters that specifies a match pattern in text\n",
    "#This one is looking for a space, a variety of dash types that Midjourney accepts and makes sure they're not followed by a \n",
    "#space or digit. It then looks for alphabetical characters followed by a space and optionally one or more digits\n",
    "# and then there's a word boundary I don't wholly understand \n",
    "params_regex = r\"((?:\\s(?:—|--|–-|––)(?!\\s|\\d)[a-zA-Z]+(?: \\d+)?\\b.*))\"\n",
    "params = promptDF['prompt'].str.extractall(params_regex)\n",
    "\n",
    "params.reset_index(inplace=True)\n",
    "uniqueParams = params[0].unique()\n",
    "\n",
    "print(\"Unique parameters:\")\n",
    "for param in uniqueParams:\n",
    "    print(param)"
   ]
  },
  {
   "cell_type": "code",
   "execution_count": null,
   "id": "b81d89b4-af4d-4f69-8844-cfb0871573bc",
   "metadata": {},
   "outputs": [],
   "source": []
  },
  {
   "cell_type": "code",
   "execution_count": 18,
   "id": "abc2da78-3568-45e9-8a94-ba39c94b02d1",
   "metadata": {},
   "outputs": [
    {
     "name": "stdout",
     "output_type": "stream",
     "text": [
      "The prompt with the most URLs is at index 934743 with 30 URLs:\n",
      "<https://s.mj.run/ww-l7UytaTk> <https://s.mj.run/rYb_c2jM7is> <https://s.mj.run/RARPe4MsUIk> <https://s.mj.run/M2lZxNXqEPY> <https://s.mj.run/JxVauxGt9kY> <https://s.mj.run/syxZGY5jAKI> <https://s.mj.run/KM3b_2nX5YI> <https://s.mj.run/3LlE7DrQXhw> <https://s.mj.run/WwuftlpJiXo> <https://s.mj.run/bLuvcQzCQME> <https://s.mj.run/GXMj2JBv-fs> <https://s.mj.run/zMQCsXhTmUs> <https://s.mj.run/zOrkloWRZm4> <https://s.mj.run/OADG2TABZ14> <https://s.mj.run/PqA8_MJ-72I> <https://s.mj.run/zQBCBQXpSmc> <https://s.mj.run/GL_wrktL6Yw> <https://s.mj.run/bnqIeeoOfgk> <https://s.mj.run/YYJZ5CmuM4c> <https://s.mj.run/r1cghRKMn_w> <https://s.mj.run/Ttrh1nYGDrY> <https://s.mj.run/04yhTUdgOzI> <https://s.mj.run/V3KD7mROb-g> <https://s.mj.run/E381sxrjOlk> <https://s.mj.run/7EIIOTZ4uMc> <https://s.mj.run/IWQmT-O5Aic> <https://s.mj.run/t5t6itPOoH8> <https://s.mj.run/0B0lOnGmm84> <https://s.mj.run/mnGwJ-SsKKs> <https://s.mj.run/wBg9LfEz5lg> A utopian futuristic society with happy homes and neighborhood on fantasy planet, white rounded glass buildings, warm soft light, sunset, fantasy planet, 8k, multi-racial society, Beautiful young Woman with white skin and big shining ultravioled eyes and glowing outside. She look to subtle embossing, photo-realistic, covering by faceled triangulared lightreflected water glass wall. Psychedelic mirrored faceled by triangles fractal Light alien cyberpunk buddist temple photorealistic triangulared dramatic cinematic light Temple with the divine lines of gold light that shines and goes through outline. Geometric shapes, tetrahedron, intricate geometry, detailed coloring Three-dimensional sculpture the deepest corner of space, with a black hole. alien cyberpunk temple photorealistic triangulared dramatic cinematic light with the divine lines of gold light [...]\n"
     ]
    }
   ],
   "source": [
    "#What prompt has the most number of image reference urls?\n",
    "imageRefCounts = imageRefs[\"index\"].value_counts()\n",
    "maxRefIndex = imageRefCounts.idxmax()\n",
    "maxRefCount = imageRefCounts.max()\n",
    "\n",
    "print(f\"The prompt with the most URLs is at index {maxRefIndex} with {maxRefCount} URLs:\")\n",
    "print(df.loc[maxRefIndex, \"prompt\"])"
   ]
  },
  {
   "cell_type": "code",
   "execution_count": 19,
   "id": "92b527e0-4ebe-405d-97e1-d18b6f94c884",
   "metadata": {},
   "outputs": [
    {
     "data": {
      "text/plain": [
       "1"
      ]
     },
     "execution_count": 19,
     "metadata": {},
     "output_type": "execute_result"
    }
   ],
   "source": [
    "#How many prompts are running image reference only?\n",
    "promptDF[\"hasImageRef\"] = promptDF.index.isin(imageRefs[\"index\"])\n",
    "imageOnlyPrompts = promptDF[(promptDF[\"prompt_part\"] == '') & (promptDF[\"hasImageRef\"])]\n",
    "imageOnlyPrompts.shape[0]"
   ]
  },
  {
   "cell_type": "code",
   "execution_count": 20,
   "id": "29d0c9c1-3c6b-4843-a15b-27400a4bdcbf",
   "metadata": {},
   "outputs": [],
   "source": [
    "#Hmm. 1 doesn't seem right at all. Not everyone is aware of \"image blending\" but it's not -that- rare.\n",
    "# Filter to find entries with only non-printable or special characters\n",
    "filteredNonPrintable = promptDF[promptDF[\"prompt_part\"].str.match(r'^[\\s]*$') & promptDF[\"hasImageRef\"]]\n"
   ]
  },
  {
   "cell_type": "code",
   "execution_count": 21,
   "id": "b2eff267-13b4-470b-b412-ba42c67d75ec",
   "metadata": {},
   "outputs": [],
   "source": [
    "#As per the robot's suggestion, further cleaning the prompt part data. Also TIL \"lambda\" is basically like a JS arrow function.\n",
    "promptDF[\"prompt_part\"] = promptDF[\"prompt_part\"].apply(lambda x: \" \".join(x.split()))\n",
    "\n",
    "import string\n",
    "\n",
    "printable = set(string.printable)\n",
    "promptDF[\"prompt_part\"] = promptDF[\"prompt_part\"].apply(lambda x: ''.join(filter(lambda y: y in printable, x)))\n",
    "\n",
    "#Make empty cells nan\n",
    "promptDF[\"prompt_part\"] = promptDF[\"prompt_part\"].apply(lambda x: x.strip() if x.strip() else np.nan)\n"
   ]
  },
  {
   "cell_type": "code",
   "execution_count": 22,
   "id": "9e28507d-f4fb-48f0-9513-e5bcea60ef16",
   "metadata": {},
   "outputs": [
    {
     "name": "stdout",
     "output_type": "stream",
     "text": [
      "Number of prompts with only image references: 20088\n"
     ]
    }
   ],
   "source": [
    "#How many prompts are running image reference only? #2\n",
    "promptDF[\"hasImageRef\"] = promptDF.index.isin(imageRefs[\"index\"])\n",
    "imageOnlyPrompts = promptDF[(promptDF[\"prompt_part\"].isna() | (promptDF[\"prompt_part\"] == '')) & promptDF[\"hasImageRef\"]]\n",
    "numImageOnlyPrompts = imageOnlyPrompts[\"prompt\"].count()\n",
    "print(f\"Number of prompts with only image references: {numImageOnlyPrompts}\")\n"
   ]
  },
  {
   "cell_type": "code",
   "execution_count": 26,
   "id": "8386e7c1-0d23-47ad-8bcb-5a8cf2613f81",
   "metadata": {},
   "outputs": [
    {
     "data": {
      "text/plain": [
       "905711    Illustration in the style of fantasy art majes...\n",
       "578149    beachpunk giga dream, taking the long way home...\n",
       "205489    Tuscan-style kitchen with wrought-iron fixture...\n",
       "237601    a girl with white hair standing on the ground ...\n",
       "339416    direction arrow, white background, coloroful, ...\n",
       "246953    1970s dark fantasy book illustration art fraze...\n",
       "451171    3d model of beautiful girl blonde hair round g...\n",
       "854283                            African colourful rooster\n",
       "410575      1985 toyota corolla drift car from behind, ae86\n",
       "960566    An abstract and creative workshop atmosphere i...\n",
       "736021    Danube valley, sunflowers, simple landscape, f...\n",
       "704085    a beautiful women , named sofia , golden short...\n",
       "625230    abstract art collage 3d 2d art portrait of a w...\n",
       "934140    Goliath, gray ashen skin, muscular, barbarian,...\n",
       "102980    modern doctor profile page in a clinic website...\n",
       "704571                                       batman bedroom\n",
       "46074     a classic car in the center of an ambient scen...\n",
       "931550    seneca, muscular, happy, greek city Background...\n",
       "157088    Young Beautiful vampire lady with brown hair a...\n",
       "19923     Anime Character: Child, female, fat, brown hai...\n",
       "Name: prompt_part, dtype: object"
      ]
     },
     "execution_count": 26,
     "metadata": {},
     "output_type": "execute_result"
    }
   ],
   "source": [
    "promptDF[\"prompt_part\"].sample(n=20)"
   ]
  },
  {
   "cell_type": "markdown",
   "id": "5de97aee-da9f-4e49-a59e-71519ca5fef6",
   "metadata": {},
   "source": [
    "## Prompt Data\n",
    "---"
   ]
  },
  {
   "cell_type": "code",
   "execution_count": 23,
   "id": "d4f56ca8-f3b8-43dc-9afa-be3912aa3661",
   "metadata": {},
   "outputs": [
    {
     "name": "stdout",
     "output_type": "stream",
     "text": [
      "Total number of Prompts: 973117\n",
      "Number of unique prompts: 187893\n"
     ]
    }
   ],
   "source": [
    "totalPrompts = promptDF[\"prompt\"].count()\n",
    "uniquePrompts = promptDF[\"prompt\"].unique()\n",
    "numUniquePrompts = len(uniquePrompts)\n",
    "\n",
    "print(f\"Total number of Prompts: {totalPrompts}\")\n",
    "print(f\"Number of unique prompts: {numUniquePrompts}\")"
   ]
  },
  {
   "cell_type": "code",
   "execution_count": 24,
   "id": "598142be-17b8-4745-b016-bbb23b9010e4",
   "metadata": {},
   "outputs": [],
   "source": [
    "uniquePromptsDF = pd.DataFrame(uniquePrompts, columns=[\"prompt\"])\n",
    "uniquePromptsDF = uniquePromptsDF.merge(promptDF.drop_duplicates(\"prompt\")[[\"prompt\", \"date\"]], on=\"prompt\", how=\"left\")\n",
    "uniquePromptsByDate = uniquePromptsDF.groupby(\"date\").size()"
   ]
  },
  {
   "cell_type": "code",
   "execution_count": null,
   "id": "9f0c2704-fbdb-43df-86c8-e29983b47e2a",
   "metadata": {},
   "outputs": [],
   "source": [
    "#Number of unique prompts with images and modifiers removed"
   ]
  },
  {
   "cell_type": "code",
   "execution_count": 25,
   "id": "fc62d38f-e402-4e0e-8384-0175ba9e9a5c",
   "metadata": {},
   "outputs": [
    {
     "name": "stdout",
     "output_type": "stream",
     "text": [
      "Number of unique image only prompts: 3891\n"
     ]
    }
   ],
   "source": [
    "uniqueImageOnlyPrompts = imageOnlyPrompts[\"prompt\"].unique()\n",
    "numUImagePrompts = len(uniqueImageOnlyPrompts)\n",
    "\n",
    "print(f\"Number of unique image only prompts: {numUImagePrompts}\")"
   ]
  },
  {
   "cell_type": "code",
   "execution_count": 90,
   "id": "39dea155-121b-431d-9108-e9e111b451d7",
   "metadata": {},
   "outputs": [
    {
     "name": "stdout",
     "output_type": "stream",
     "text": [
      "9321\n"
     ]
    }
   ],
   "source": [
    "#Number of prompts with modifiers\n",
    "#print(promptDF[\"modifiers\"].count())"
   ]
  },
  {
   "cell_type": "code",
   "execution_count": 92,
   "id": "8ef6a31f-a581-43a4-9553-53c1bbbc5afa",
   "metadata": {},
   "outputs": [
    {
     "name": "stdout",
     "output_type": "stream",
     "text": [
      "501283    niji\n",
      "501282    niji\n",
      "877513    tile\n",
      "877512    tile\n",
      "877511    tile\n",
      "Name: modifiers, dtype: object\n"
     ]
    }
   ],
   "source": [
    "# Filter out rows where 'modifiers' is None, NaN, or an empty string\n",
    "#filteredModifiers = promptDF[promptDF[\"modifiers\"].notna() & (promptDF[\"modifiers\"].str.strip() != '')]\n",
    "\n",
    "# Display some of the data to verify\n",
    "#print(filteredModifiers[\"modifiers\"].head())\n"
   ]
  },
  {
   "cell_type": "code",
   "execution_count": 94,
   "id": "578c0225-0828-493d-b51f-ac09e5cad8bc",
   "metadata": {},
   "outputs": [
    {
     "name": "stdout",
     "output_type": "stream",
     "text": [
      "['niji' 'tile' 'video' 'upbeta' 'uplight']\n"
     ]
    }
   ],
   "source": [
    "#print(filteredModifiers[\"modifiers\"].unique())"
   ]
  },
  {
   "cell_type": "code",
   "execution_count": null,
   "id": "a6ce5e1b-ad6d-46e6-b7de-3d33114bbc35",
   "metadata": {},
   "outputs": [],
   "source": [
    "#This counts characters, not words. Oop.\n",
    "df[\"promptLength\"] = df[\"prompt\"].str.len()\n",
    "df[\"promptLength\"].describe()"
   ]
  },
  {
   "cell_type": "code",
   "execution_count": null,
   "id": "d2d959e5-c462-4f65-a0ed-5af28f8eec5c",
   "metadata": {},
   "outputs": [],
   "source": [
    "#Intended to count words per prompt, misunderstood what code was doing. \n",
    "#From https://stackoverflow.com/questions/37483470/how-to-calculate-number-of-words-in-a-string-in-dataframe\n",
    "\n",
    "df[\"wordCount\"] = df[\"prompt\"].str.split().apply(len).value_counts()\n",
    "df[\"wordCount\"].describe()"
   ]
  },
  {
   "cell_type": "code",
   "execution_count": null,
   "id": "7eaed8d3-1c28-471f-9fee-e66a21980c81",
   "metadata": {},
   "outputs": [],
   "source": [
    "#Actually counting words per prompt\n",
    "df[\"word_count\"] = df[\"prompt\"].str.split().str.len()\n",
    "df[\"word_count\"].describe()"
   ]
  },
  {
   "cell_type": "markdown",
   "id": "9ac86135-5990-44c4-8e60-3f481d538034",
   "metadata": {},
   "source": [
    "**Minimum word count**: 1\n",
    "**Max word count**: 377 "
   ]
  },
  {
   "cell_type": "code",
   "execution_count": null,
   "id": "0764e090-40ff-4b82-b334-7445643a726f",
   "metadata": {},
   "outputs": [],
   "source": [
    "#How many prompts are (correctly) using parameters? Aspect ratio, chaos, no, style, weird\n",
    "#How many prompts are incorrectly trying to use parameters? ie, no -- \n",
    "#How many prompts are using older versions? --niji 4, --niji 6, --version/--v <1, 2, 3, 4, 5, 5.1, 5.2> "
   ]
  },
  {
   "cell_type": "code",
   "execution_count": null,
   "id": "c1c35797-e418-4263-a39f-c9e446c9cef2",
   "metadata": {},
   "outputs": [],
   "source": [
    "#Any correlation between prompt length and reuse?\n",
    "#Languages?"
   ]
  },
  {
   "cell_type": "code",
   "execution_count": null,
   "id": "5668209d-15ec-4b58-ab47-ba175f083413",
   "metadata": {},
   "outputs": [],
   "source": [
    "#How many prompts are repeated without changes?\n",
    "#How many prompts are repeated with only parameter changes?\n",
    "#How many prompts are repeated with only a single word change? (this could be tricky with determining the addition of, subtraction of, etc)"
   ]
  },
  {
   "cell_type": "code",
   "execution_count": 66,
   "id": "5a85141a-6fc1-441b-a162-fc0849285052",
   "metadata": {},
   "outputs": [
    {
     "data": {
      "text/plain": [
       "numpy.int64"
      ]
     },
     "execution_count": 66,
     "metadata": {},
     "output_type": "execute_result"
    }
   ],
   "source": [
    "type(totalPrompts)"
   ]
  },
  {
   "cell_type": "code",
   "execution_count": 26,
   "id": "c76f5305-8601-4442-b760-886a047c53c4",
   "metadata": {},
   "outputs": [],
   "source": [
    "repeatedPrompts = totalPrompts - numUniquePrompts"
   ]
  },
  {
   "cell_type": "code",
   "execution_count": 31,
   "id": "ae2e5ec7-6ea7-4a55-a5ce-3972e656064e",
   "metadata": {},
   "outputs": [],
   "source": [
    "promptFrequencies = promptDF[\"prompt\"].value_counts()\n",
    "averageFrequency = promptFrequencies.mean()\n",
    "medianFrequency = promptFrequencies.median()"
   ]
  },
  {
   "cell_type": "code",
   "execution_count": 33,
   "id": "a70858e6-eedd-4846-81df-5892dc44cb6e",
   "metadata": {},
   "outputs": [
    {
     "name": "stdout",
     "output_type": "stream",
     "text": [
      "5.179101935676156\n",
      "3.0\n"
     ]
    }
   ],
   "source": [
    "print(averageFrequency)\n",
    "print(medianFrequency)"
   ]
  },
  {
   "cell_type": "code",
   "execution_count": 36,
   "id": "5439e6f1-f30e-4f07-a2da-e479cdcf123c",
   "metadata": {},
   "outputs": [
    {
     "name": "stdout",
     "output_type": "stream",
     "text": [
      "The most frequently appearing prompt is: 'Morticia Addams as a soaking wet vampire with fangs, laughing, getting doused with water, completely soaked, wet black hair slicked down flat, under a waterfall in a cave, glamorous black gown, vampire, red eyes, fangs, cute, 3D, pouring rain, thunderstorm  ' appearing 1487 times.\n"
     ]
    }
   ],
   "source": [
    "\n",
    "mostFrequentPrompt = promptFrequencies.idxmax()\n",
    "mostFrequentCount = promptFrequencies.max()\n",
    "\n",
    "print(f\"The most frequently appearing prompt is: '{mostFrequentPrompt}' appearing {mostFrequentCount} times.\")\n"
   ]
  },
  {
   "cell_type": "code",
   "execution_count": 38,
   "id": "4d69089a-7ddc-4caf-90d0-b496c32113b0",
   "metadata": {},
   "outputs": [
    {
     "data": {
      "text/plain": [
       "prompt\n",
       "Morticia Addams as a soaking wet vampire with fangs, laughing, getting doused with water, completely soaked, wet black hair slicked down flat, under a waterfall in a cave, glamorous black gown, vampire, red eyes, fangs, cute, 3D, pouring rain, thunderstorm                                                          1487\n",
       ":beautiful model face composed by a three dimensional, minimal, abstract sculpture in the style of giacomo balla and umberto boccioni inspired by catholic virgen iconography . mixed fake religions iconography. italian XXII monumental architecture. clean + modern + fractal + e8 lattice + rough+ graffuturism       1136\n",
       "Gold, Blond hair korean young women, Happy, Pretty, Cutie                                                                                                                                                                                                                                                                 1016\n",
       "face of woman with short blonde hair in a pale pink dress frozen in a huge block of ice, polar scenery, cold, ultra realistic photographic style - Laica lens - upbeta - v 5.2                                                                                                                                             749\n",
       "gorgeous Atlantis Kingdom Pacific Rim mech Hinduism Creature Fakemon Ganesha, leoiruga art, albrt wlson art, lunaurum art, full head, full body, white background                                                                                                                                                          623\n",
       "Name: count, dtype: int64"
      ]
     },
     "execution_count": 38,
     "metadata": {},
     "output_type": "execute_result"
    }
   ],
   "source": [
    "topPrompts = promptFrequencies.head(5)\n",
    "topPrompts"
   ]
  },
  {
   "cell_type": "markdown",
   "id": "dafea47d-fdc0-4f9b-88df-02c6b0b6694f",
   "metadata": {},
   "source": [
    "## User Data\n",
    "---"
   ]
  },
  {
   "cell_type": "code",
   "execution_count": 29,
   "id": "4be59e42-78a4-425d-9072-b79642c13919",
   "metadata": {},
   "outputs": [],
   "source": [
    "#obscuring user id which correlates directly to Discord id\n",
    "promptDF[\"user_number\"] = pd.factorize(promptDF[\"user\"])[0] + 1  # Adding 1 to start numbering from 1 instead of 0"
   ]
  },
  {
   "cell_type": "code",
   "execution_count": 30,
   "id": "febefe52-261d-4b64-9712-02b802748f2e",
   "metadata": {},
   "outputs": [
    {
     "data": {
      "text/plain": [
       "24485"
      ]
     },
     "execution_count": 30,
     "metadata": {},
     "output_type": "execute_result"
    }
   ],
   "source": [
    "uniqueUsers = promptDF[\"user\"].nunique()\n",
    "uniqueUsers"
   ]
  },
  {
   "cell_type": "code",
   "execution_count": 50,
   "id": "b1d835bb-9927-4651-a215-bbfcde0f4123",
   "metadata": {},
   "outputs": [],
   "source": [
    "#How many users posted everyday? \n",
    "#Unique users per day?"
   ]
  },
  {
   "cell_type": "code",
   "execution_count": 40,
   "id": "ba2740c2-0c02-4048-b28a-861edf84435e",
   "metadata": {},
   "outputs": [
    {
     "data": {
      "text/plain": [
       "user\n",
       "1133120398163193937    8666\n",
       "1142211736116662343    7327\n",
       "140316570487488512     6868\n",
       "1017944538330959934    4200\n",
       "598593981537976372     4133\n",
       "                       ... \n",
       "1101236678598869064       1\n",
       "821797553900748831        1\n",
       "989541535685152778        1\n",
       "693576140425658538        1\n",
       "1099715123498729522       1\n",
       "Name: count, Length: 24485, dtype: int64"
      ]
     },
     "execution_count": 40,
     "metadata": {},
     "output_type": "execute_result"
    }
   ],
   "source": [
    "promptsPerUser = promptDF[\"user\"].value_counts()\n",
    "promptsPerUser"
   ]
  },
  {
   "cell_type": "code",
   "execution_count": 41,
   "id": "b837b09b-1992-484d-964e-ca27dcfdee3f",
   "metadata": {},
   "outputs": [
    {
     "data": {
      "text/plain": [
       "39.743393914641615"
      ]
     },
     "execution_count": 41,
     "metadata": {},
     "output_type": "execute_result"
    }
   ],
   "source": [
    "promptsPerUser.mean()"
   ]
  },
  {
   "cell_type": "code",
   "execution_count": 127,
   "id": "dbffedd6-63db-409e-8375-de666381b816",
   "metadata": {},
   "outputs": [
    {
     "data": {
      "text/plain": [
       "user\n",
       "1000051693758718053     4\n",
       "1000059165928079523     2\n",
       "1000095457097289780     8\n",
       "1000142097837457519    25\n",
       "1000242258370633740     2\n",
       "                       ..\n",
       "999895176619237436     19\n",
       "999925241939759134     16\n",
       "999965352928751627      2\n",
       "999966655985754122      1\n",
       "999980663753150564      1\n",
       "Name: prompt, Length: 24485, dtype: int64"
      ]
     },
     "execution_count": 127,
     "metadata": {},
     "output_type": "execute_result"
    }
   ],
   "source": [
    "uniquePromptsPerUser = promptDF.groupby(\"user\")[\"prompt\"].nunique()\n",
    "uniquePromptsPerUser"
   ]
  },
  {
   "cell_type": "code",
   "execution_count": 135,
   "id": "8dd82529-9d4e-43e6-b3d9-1d7c1b9fef77",
   "metadata": {},
   "outputs": [
    {
     "name": "stdout",
     "output_type": "stream",
     "text": [
      "Average number of unique prompts per user: 7.848274453747192\n",
      "Maximum number of unique prompts by a single user: 991\n",
      "Minimum number of unique prompts by a single user: 1\n"
     ]
    }
   ],
   "source": [
    "averageUniquePrompts = uniquePromptsPerUser.mean()\n",
    "maxUniquePrompts = uniquePromptsPerUser.max()\n",
    "minUniquePrompts = uniquePromptsPerUser.min()\n",
    "\n",
    "print(\"Average number of unique prompts per user:\", averageUniquePrompts)\n",
    "print(\"Maximum number of unique prompts by a single user:\", maxUniquePrompts)\n",
    "print(\"Minimum number of unique prompts by a single user:\", minUniquePrompts)\n"
   ]
  },
  {
   "cell_type": "code",
   "execution_count": null,
   "id": "dff336ce-b4b1-4e4a-969f-25c396c13515",
   "metadata": {},
   "outputs": [],
   "source": []
  },
  {
   "cell_type": "code",
   "execution_count": 129,
   "id": "61d46fa7-c7f8-4e8b-89f8-349599d56770",
   "metadata": {},
   "outputs": [],
   "source": [
    "comparisonDF = pd.DataFrame({\n",
    "    \"Total Prompts\": promptsPerUser,\n",
    "    \"Unique Prompts\": uniquePromptsPerUser})"
   ]
  },
  {
   "cell_type": "code",
   "execution_count": null,
   "id": "5ca59c5b-d213-42fb-9d33-7bede9cc6250",
   "metadata": {},
   "outputs": [],
   "source": [
    "#How many users are using the same prompt that another user prompted?"
   ]
  },
  {
   "cell_type": "code",
   "execution_count": null,
   "id": "1e88f2c2-7a96-420a-9d06-8be8f80a2d3b",
   "metadata": {},
   "outputs": [],
   "source": [
    "#Look at how many users only posted 1 time"
   ]
  },
  {
   "cell_type": "markdown",
   "id": "816e2ec1-83dd-44d8-b9df-2911b5e604d4",
   "metadata": {},
   "source": [
    "## Time Data\n",
    "---"
   ]
  },
  {
   "cell_type": "code",
   "execution_count": null,
   "id": "08dc6941-58b2-4b9f-80e6-a3a41abcfd6e",
   "metadata": {},
   "outputs": [],
   "source": [
    "#How many prompts per day?\n",
    "#Frequency over 24 hour period?\n",
    "#I remember commentary from David (the founder of Midjourney) about Niji render times shooting up at certain times due to that being around \n",
    "#when a lot of folks in Japan started about their day / evenings or some such. I wonder if that can be seen in this data."
   ]
  },
  {
   "cell_type": "code",
   "execution_count": 32,
   "id": "aae95670-a0e9-4ebc-a206-5d3040c76ade",
   "metadata": {},
   "outputs": [],
   "source": [
    "dailyActivity = promptDF.groupby([\"user\", \"date\"]).size().reset_index(name=\"counts\")"
   ]
  },
  {
   "cell_type": "code",
   "execution_count": 53,
   "id": "7f9c1c3e-12a2-4e93-886d-76a3007606b2",
   "metadata": {},
   "outputs": [
    {
     "data": {
      "text/html": [
       "<div>\n",
       "<style scoped>\n",
       "    .dataframe tbody tr th:only-of-type {\n",
       "        vertical-align: middle;\n",
       "    }\n",
       "\n",
       "    .dataframe tbody tr th {\n",
       "        vertical-align: top;\n",
       "    }\n",
       "\n",
       "    .dataframe thead th {\n",
       "        text-align: right;\n",
       "    }\n",
       "</style>\n",
       "<table border=\"1\" class=\"dataframe\">\n",
       "  <thead>\n",
       "    <tr style=\"text-align: right;\">\n",
       "      <th></th>\n",
       "      <th>user</th>\n",
       "      <th>date</th>\n",
       "      <th>counts</th>\n",
       "    </tr>\n",
       "  </thead>\n",
       "  <tbody>\n",
       "    <tr>\n",
       "      <th>0</th>\n",
       "      <td>1000051693758718053</td>\n",
       "      <td>2023-10-27</td>\n",
       "      <td>5</td>\n",
       "    </tr>\n",
       "    <tr>\n",
       "      <th>1</th>\n",
       "      <td>1000059165928079523</td>\n",
       "      <td>2023-10-26</td>\n",
       "      <td>1</td>\n",
       "    </tr>\n",
       "    <tr>\n",
       "      <th>2</th>\n",
       "      <td>1000059165928079523</td>\n",
       "      <td>2023-10-27</td>\n",
       "      <td>1</td>\n",
       "    </tr>\n",
       "    <tr>\n",
       "      <th>3</th>\n",
       "      <td>1000095457097289780</td>\n",
       "      <td>2023-10-28</td>\n",
       "      <td>12</td>\n",
       "    </tr>\n",
       "    <tr>\n",
       "      <th>4</th>\n",
       "      <td>1000095457097289780</td>\n",
       "      <td>2023-11-08</td>\n",
       "      <td>4</td>\n",
       "    </tr>\n",
       "    <tr>\n",
       "      <th>...</th>\n",
       "      <td>...</td>\n",
       "      <td>...</td>\n",
       "      <td>...</td>\n",
       "    </tr>\n",
       "    <tr>\n",
       "      <th>47274</th>\n",
       "      <td>999925241939759134</td>\n",
       "      <td>2023-10-30</td>\n",
       "      <td>12</td>\n",
       "    </tr>\n",
       "    <tr>\n",
       "      <th>47275</th>\n",
       "      <td>999925241939759134</td>\n",
       "      <td>2023-11-04</td>\n",
       "      <td>8</td>\n",
       "    </tr>\n",
       "    <tr>\n",
       "      <th>47276</th>\n",
       "      <td>999965352928751627</td>\n",
       "      <td>2023-11-06</td>\n",
       "      <td>4</td>\n",
       "    </tr>\n",
       "    <tr>\n",
       "      <th>47277</th>\n",
       "      <td>999966655985754122</td>\n",
       "      <td>2023-11-02</td>\n",
       "      <td>2</td>\n",
       "    </tr>\n",
       "    <tr>\n",
       "      <th>47278</th>\n",
       "      <td>999980663753150564</td>\n",
       "      <td>2023-11-06</td>\n",
       "      <td>6</td>\n",
       "    </tr>\n",
       "  </tbody>\n",
       "</table>\n",
       "<p>47279 rows × 3 columns</p>\n",
       "</div>"
      ],
      "text/plain": [
       "                      user        date  counts\n",
       "0      1000051693758718053  2023-10-27       5\n",
       "1      1000059165928079523  2023-10-26       1\n",
       "2      1000059165928079523  2023-10-27       1\n",
       "3      1000095457097289780  2023-10-28      12\n",
       "4      1000095457097289780  2023-11-08       4\n",
       "...                    ...         ...     ...\n",
       "47274   999925241939759134  2023-10-30      12\n",
       "47275   999925241939759134  2023-11-04       8\n",
       "47276   999965352928751627  2023-11-06       4\n",
       "47277   999966655985754122  2023-11-02       2\n",
       "47278   999980663753150564  2023-11-06       6\n",
       "\n",
       "[47279 rows x 3 columns]"
      ]
     },
     "execution_count": 53,
     "metadata": {},
     "output_type": "execute_result"
    }
   ],
   "source": [
    "dailyActivity"
   ]
  },
  {
   "cell_type": "code",
   "execution_count": null,
   "id": "a603b662-c8bf-4be0-a50c-5cf4a59bcc98",
   "metadata": {},
   "outputs": [],
   "source": [
    "#Unique prompts per user?"
   ]
  },
  {
   "cell_type": "code",
   "execution_count": 33,
   "id": "83dc5d11-c798-4601-b998-db584bba2bdb",
   "metadata": {},
   "outputs": [
    {
     "data": {
      "text/plain": [
       "13"
      ]
     },
     "execution_count": 33,
     "metadata": {},
     "output_type": "execute_result"
    }
   ],
   "source": [
    "totalDays = promptDF[\"date\"].nunique()\n",
    "totalDays"
   ]
  },
  {
   "cell_type": "code",
   "execution_count": 34,
   "id": "5dd0d0d3-e13e-49b0-b5ab-6f4381a31f87",
   "metadata": {},
   "outputs": [
    {
     "data": {
      "text/plain": [
       "array([datetime.date(2023, 10, 25), datetime.date(2023, 10, 26),\n",
       "       datetime.date(2023, 10, 27), datetime.date(2023, 10, 28),\n",
       "       datetime.date(2023, 10, 29), datetime.date(2023, 10, 30),\n",
       "       datetime.date(2023, 11, 2), datetime.date(2023, 11, 3),\n",
       "       datetime.date(2023, 11, 4), datetime.date(2023, 11, 5),\n",
       "       datetime.date(2023, 11, 6), datetime.date(2023, 11, 8),\n",
       "       datetime.date(2023, 11, 9)], dtype=object)"
      ]
     },
     "execution_count": 34,
     "metadata": {},
     "output_type": "execute_result"
    }
   ],
   "source": [
    "uniqueDays = promptDF[\"date\"].unique()\n",
    "uniqueDays"
   ]
  },
  {
   "cell_type": "code",
   "execution_count": 35,
   "id": "9831e01f-1db5-4ec7-8eef-9391bef71fe4",
   "metadata": {},
   "outputs": [
    {
     "data": {
      "text/plain": [
       "date\n",
       "2023-10-25    60554\n",
       "2023-10-26    88514\n",
       "2023-10-27    87925\n",
       "2023-10-28    93805\n",
       "2023-10-29    94630\n",
       "2023-10-30    41924\n",
       "2023-11-02    82922\n",
       "2023-11-03    86052\n",
       "2023-11-04    90539\n",
       "2023-11-05    87973\n",
       "2023-11-06    62357\n",
       "2023-11-08    83122\n",
       "2023-11-09    12800\n",
       "dtype: int64"
      ]
     },
     "execution_count": 35,
     "metadata": {},
     "output_type": "execute_result"
    }
   ],
   "source": [
    "dailyPrompts = promptDF.groupby(\"date\").size()\n",
    "dailyPrompts\n",
    "#Hey... Some dates are missing. 10/31, 11/7. 10/24 and 11/01 are basically bunk data, too.\n",
    "#Should also check to see what time ranges the prompts run each day"
   ]
  },
  {
   "cell_type": "code",
   "execution_count": 36,
   "id": "9c025d3c-18a7-4e05-a3c9-205eaa83bcfe",
   "metadata": {},
   "outputs": [
    {
     "data": {
      "text/plain": [
       "973117"
      ]
     },
     "execution_count": 36,
     "metadata": {},
     "output_type": "execute_result"
    }
   ],
   "source": [
    "#Making sure total number of prompts matches original number in the event my numbers got wonky somewhere..\n",
    "checkTotal = dailyPrompts.sum()\n",
    "checkTotal"
   ]
  },
  {
   "cell_type": "code",
   "execution_count": null,
   "id": "aafe5e10-fb0c-4c45-9f98-850a4cd57f7e",
   "metadata": {},
   "outputs": [],
   "source": [
    "plt.figure(figsize=(15, 6))\n",
    "dailyPrompts.plot(kind=\"line\", marker=\"o\", linestyle=\"-\")\n",
    "plt.title(\"Prompts Posted Each Day\")\n",
    "plt.xlabel(\"Date\")\n",
    "plt.ylabel(\"Number of Prompts\")\n",
    "plt.grid(True)\n",
    "plt.show()\n",
    "\n",
    "#This graph basically shows what can already be figured out by the dailyPrompts data directly. 'Hey! There's bad data collection!'\n",
    "#Though it is interesting that there's still a noted uptick and noted downtick (respectively). I wonder if that corresponds with api outages or if it's\n",
    "#a coincidence.\n",
    "\n",
    "#And then I remembered that bar graphs are better for when you have missing chunks of data."
   ]
  },
  {
   "cell_type": "code",
   "execution_count": 193,
   "id": "1ad1dffd-80be-4bb4-8bdf-66baf7f6742d",
   "metadata": {},
   "outputs": [
    {
     "data": {
      "image/png": "[encoded data removed]",
      "text/plain": [
       "<Figure size 1500x600 with 1 Axes>"
      ]
     },
     "metadata": {},
     "output_type": "display_data"
    }
   ],
   "source": [
    "#Remove bad data days here. Did that way above jk.\n",
    "#New graph.\n",
    "\n",
    "plt.figure(figsize=(15, 6))\n",
    "dailyPrompts.plot(kind=\"line\", marker=\"o\", linestyle=\"-\")\n",
    "plt.title(\"Prompts Posted Each Day\")\n",
    "plt.xlabel(\"Date\")\n",
    "plt.ylabel(\"Number of Prompts\")\n",
    "plt.grid(True)\n",
    "plt.show()"
   ]
  },
  {
   "cell_type": "code",
   "execution_count": 38,
   "id": "2cbdd3dc-23c7-4ab8-8b7b-ef0fc9bb274c",
   "metadata": {},
   "outputs": [
    {
     "data": {
      "text/plain": [
       "user\n",
       "1000051693758718053    1\n",
       "1000059165928079523    2\n",
       "1000095457097289780    2\n",
       "1000142097837457519    4\n",
       "1000242258370633740    1\n",
       "                      ..\n",
       "999895176619237436     5\n",
       "999925241939759134     4\n",
       "999965352928751627     1\n",
       "999966655985754122     1\n",
       "999980663753150564     1\n",
       "Name: date, Length: 24485, dtype: int64"
      ]
     },
     "execution_count": 38,
     "metadata": {},
     "output_type": "execute_result"
    }
   ],
   "source": [
    "userActiveDays = dailyActivity.groupby(\"user\")[\"date\"].nunique()\n",
    "userActiveDays\n",
    "#Redo user activity with clean data."
   ]
  },
  {
   "cell_type": "markdown",
   "id": "c377cb0f-7c56-4169-a112-d958dc8952a5",
   "metadata": {},
   "source": [
    "**How many users prompted everyday?**"
   ]
  },
  {
   "cell_type": "code",
   "execution_count": 39,
   "id": "571f7e6c-135e-4c1b-9d84-b64fd3cb7d86",
   "metadata": {},
   "outputs": [
    {
     "name": "stdout",
     "output_type": "stream",
     "text": [
      "Number of users that prompted every tracked day: 11\n"
     ]
    }
   ],
   "source": [
    "#When there's a day with only 5 prompts, ofc there's going to be 0 users prompting every day.\n",
    "#We're better now.\n",
    "\n",
    "activeEveryDayUsers = userActiveDays[userActiveDays == totalDays]\n",
    "countUsersActiveEveryDay = activeEveryDayUsers.count()\n",
    "countUsersActiveEveryDay\n",
    "print(f\"Number of users that prompted every tracked day: {countUsersActiveEveryDay}\")"
   ]
  },
  {
   "cell_type": "markdown",
   "id": "d704b5e1-041a-473e-9f0d-dafa83cc924e",
   "metadata": {},
   "source": [
    "### Variable Tracker\n",
    "---"
   ]
  },
  {
   "cell_type": "code",
   "execution_count": 198,
   "id": "a1d19c6d-51e6-4afc-a76b-96ba59650415",
   "metadata": {},
   "outputs": [
    {
     "name": "stdout",
     "output_type": "stream",
     "text": [
      "Number of unique users: 24485\n",
      "Total number of Prompts: 973117\n",
      "Number of unique prompts: 187893\n",
      "There are 785224 total repeated prompts\n",
      "Number of prompts with only image references: 20088\n",
      "Number of unique prompts with only image references: 3891\n",
      "Number of users that prompted every tracked day: 11\n"
     ]
    }
   ],
   "source": [
    "uniqueUsers\n",
    "countUsersActiveEveryDay\n",
    "\n",
    "totalPrompts \n",
    "uniquePrompts \n",
    "numUniquePrompts\n",
    "imageOnlyPrompts\n",
    "\n",
    "\n",
    "#Big numbers\n",
    "print(f\"Number of unique users: {uniqueUsers}\")\n",
    "print(f\"Total number of Prompts: {totalPrompts}\")\n",
    "print(f\"Number of unique prompts: {numUniquePrompts}\")\n",
    "print(f\"There are {repeatedPrompts} total repeated prompts\")\n",
    "\n",
    "print(f\"Number of prompts with only image references: {numImageOnlyPrompts}\")\n",
    "print(f\"Number of unique prompts with only image references: {numUImagePrompts}\")\n",
    "\n",
    "#Fun numbers\n",
    "print(f\"Number of users that prompted every tracked day: {countUsersActiveEveryDay}\")\n"
   ]
  },
  {
   "cell_type": "markdown",
   "id": "d19e59f0-c3eb-4404-99a9-87914f8d11a7",
   "metadata": {},
   "source": [
    "## Interactive Prompt Viewer\n",
    "---"
   ]
  },
  {
   "cell_type": "code",
   "execution_count": null,
   "id": "b5d9880a-6059-4bcb-bb56-f3826a2a6aaf",
   "metadata": {},
   "outputs": [],
   "source": [
    "promptLabel = HTML()\n",
    "\n",
    "def showRandomPrompt():\n",
    "    randomPrompt = np.random.choice(uniquePrompts)  \n",
    "    promptLabel.value = f'<pre>{randomPrompt}</pre>'\n",
    "\n",
    "button = Button(description=\" Show Random Prompt\", layout=Layout(width=\"auto\"), icon=\"lightbulb\")\n",
    "\n",
    "# Event handler for the button's on_click event\n",
    "def onButtonClicked(b):\n",
    "    showRandomPrompt()\n",
    "\n",
    "button.on_click(onButtonClicked)\n",
    "display(button)\n",
    "display(promptLabel)\n",
    "showRandomPrompt() "
   ]
  },
  {
   "cell_type": "markdown",
   "id": "52032c78-9b72-41cc-a948-3e6af91da58f",
   "metadata": {},
   "source": [
    "## Total Prompt # + Daily Total Visual\n",
    "---"
   ]
  },
  {
   "cell_type": "code",
   "execution_count": 182,
   "id": "a562a300-1d1f-44b4-a4fa-3c93882c95c8",
   "metadata": {},
   "outputs": [],
   "source": [
    "def totalPromptGraph():\n",
    "    fig = go.Figure()\n",
    "    \n",
    "    fig.add_trace(go.Bar(\n",
    "        x=dailyPrompts.index,  \n",
    "        y=dailyPrompts.values,\n",
    "        name='Total Prompts Posted Each Day',\n",
    "        marker=dict(color='rgb(151,166,196)')\n",
    "    ))\n",
    "    \n",
    "    fig.update_layout(\n",
    "        title=f\"{totalPrompts:,} Prompts were Successfully Generated by {uniqueUsers:,} Users Across 13 Days\",\n",
    "        \n",
    "        #xaxis_title=\"2023\",\n",
    "        autosize=False,\n",
    "        width=900,\n",
    "        height=600,\n",
    "        margin=dict(\n",
    "            l=50,\n",
    "            r=50,\n",
    "            b=100,\n",
    "            t=100,\n",
    "            pad=6\n",
    "        ),\n",
    "    hoverlabel=dict(\n",
    "            bgcolor=\"white\", \n",
    "            font_size=15, \n",
    "        )\n",
    "    )\n",
    "    \n",
    "    fig.update_xaxes(showgrid=False, tickvals=dailyPrompts.index, tickformat=\"%m-%d\")\n",
    "    fig.update_yaxes(showgrid=False)\n",
    "    #fig.update_layout(template=\"simple_white\")\n",
    "    \n",
    "    fig.show()"
   ]
  },
  {
   "cell_type": "code",
   "execution_count": 185,
   "id": "c4d7f402-9cbd-4cd3-bdea-f6ffe8b48f17",
   "metadata": {},
   "outputs": [
    {
     "data": {
      "application/vnd.plotly.v1+json": {
       "config": {
        "plotlyServerURL": "https://plot.ly"
       },
       "data": [
        {
         "marker": {
          "color": "rgb(151,166,196)"
         },
         "name": "Total Prompts Posted Each Day",
         "type": "bar",
         "x": [
          "2023-10-25",
          "2023-10-26",
          "2023-10-27",
          "2023-10-28",
          "2023-10-29",
          "2023-10-30",
          "2023-11-02",
          "2023-11-03",
          "2023-11-04",
          "2023-11-05",
          "2023-11-06",
          "2023-11-08",
          "2023-11-09"
         ],
         "y": [
          60554,
          88514,
          87925,
          93805,
          94630,
          41924,
          82922,
          86052,
          90539,
          87973,
          62357,
          83122,
          12800
         ]
        }
       ],
       "layout": {
        "autosize": false,
        "height": 600,
        "hoverlabel": {
         "bgcolor": "white",
         "font": {
          "size": 15
         }
        },
        "margin": {
         "b": 100,
         "l": 50,
         "pad": 6,
         "r": 50,
         "t": 100
        },
        "template": {
         "data": {
          "bar": [
           {
            "error_x": {
             "color": "#2a3f5f"
            },
            "error_y": {
             "color": "#2a3f5f"
            },
            "marker": {
             "line": {
              "color": "#E5ECF6",
              "width": 0.5
             },
             "pattern": {
              "fillmode": "overlay",
              "size": 10,
              "solidity": 0.2
             }
            },
            "type": "bar"
           }
          ],
          "barpolar": [
           {
            "marker": {
             "line": {
              "color": "#E5ECF6",
              "width": 0.5
             },
             "pattern": {
              "fillmode": "overlay",
              "size": 10,
              "solidity": 0.2
             }
            },
            "type": "barpolar"
           }
          ],
          "carpet": [
           {
            "aaxis": {
             "endlinecolor": "#2a3f5f",
             "gridcolor": "white",
             "linecolor": "white",
             "minorgridcolor": "white",
             "startlinecolor": "#2a3f5f"
            },
            "baxis": {
             "endlinecolor": "#2a3f5f",
             "gridcolor": "white",
             "linecolor": "white",
             "minorgridcolor": "white",
             "startlinecolor": "#2a3f5f"
            },
            "type": "carpet"
           }
          ],
          "choropleth": [
           {
            "colorbar": {
             "outlinewidth": 0,
             "ticks": ""
            },
            "type": "choropleth"
           }
          ],
          "contour": [
           {
            "colorbar": {
             "outlinewidth": 0,
             "ticks": ""
            },
            "colorscale": [
             [
              0,
              "#0d0887"
             ],
             [
              0.1111111111111111,
              "#46039f"
             ],
             [
              0.2222222222222222,
              "#7201a8"
             ],
             [
              0.3333333333333333,
              "#9c179e"
             ],
             [
              0.4444444444444444,
              "#bd3786"
             ],
             [
              0.5555555555555556,
              "#d8576b"
             ],
             [
              0.6666666666666666,
              "#ed7953"
             ],
             [
              0.7777777777777778,
              "#fb9f3a"
             ],
             [
              0.8888888888888888,
              "#fdca26"
             ],
             [
              1,
              "#f0f921"
             ]
            ],
            "type": "contour"
           }
          ],
          "contourcarpet": [
           {
            "colorbar": {
             "outlinewidth": 0,
             "ticks": ""
            },
            "type": "contourcarpet"
           }
          ],
          "heatmap": [
           {
            "colorbar": {
             "outlinewidth": 0,
             "ticks": ""
            },
            "colorscale": [
             [
              0,
              "#0d0887"
             ],
             [
              0.1111111111111111,
              "#46039f"
             ],
             [
              0.2222222222222222,
              "#7201a8"
             ],
             [
              0.3333333333333333,
              "#9c179e"
             ],
             [
              0.4444444444444444,
              "#bd3786"
             ],
             [
              0.5555555555555556,
              "#d8576b"
             ],
             [
              0.6666666666666666,
              "#ed7953"
             ],
             [
              0.7777777777777778,
              "#fb9f3a"
             ],
             [
              0.8888888888888888,
              "#fdca26"
             ],
             [
              1,
              "#f0f921"
             ]
            ],
            "type": "heatmap"
           }
          ],
          "heatmapgl": [
           {
            "colorbar": {
             "outlinewidth": 0,
             "ticks": ""
            },
            "colorscale": [
             [
              0,
              "#0d0887"
             ],
             [
              0.1111111111111111,
              "#46039f"
             ],
             [
              0.2222222222222222,
              "#7201a8"
             ],
             [
              0.3333333333333333,
              "#9c179e"
             ],
             [
              0.4444444444444444,
              "#bd3786"
             ],
             [
              0.5555555555555556,
              "#d8576b"
             ],
             [
              0.6666666666666666,
              "#ed7953"
             ],
             [
              0.7777777777777778,
              "#fb9f3a"
             ],
             [
              0.8888888888888888,
              "#fdca26"
             ],
             [
              1,
              "#f0f921"
             ]
            ],
            "type": "heatmapgl"
           }
          ],
          "histogram": [
           {
            "marker": {
             "pattern": {
              "fillmode": "overlay",
              "size": 10,
              "solidity": 0.2
             }
            },
            "type": "histogram"
           }
          ],
          "histogram2d": [
           {
            "colorbar": {
             "outlinewidth": 0,
             "ticks": ""
            },
            "colorscale": [
             [
              0,
              "#0d0887"
             ],
             [
              0.1111111111111111,
              "#46039f"
             ],
             [
              0.2222222222222222,
              "#7201a8"
             ],
             [
              0.3333333333333333,
              "#9c179e"
             ],
             [
              0.4444444444444444,
              "#bd3786"
             ],
             [
              0.5555555555555556,
              "#d8576b"
             ],
             [
              0.6666666666666666,
              "#ed7953"
             ],
             [
              0.7777777777777778,
              "#fb9f3a"
             ],
             [
              0.8888888888888888,
              "#fdca26"
             ],
             [
              1,
              "#f0f921"
             ]
            ],
            "type": "histogram2d"
           }
          ],
          "histogram2dcontour": [
           {
            "colorbar": {
             "outlinewidth": 0,
             "ticks": ""
            },
            "colorscale": [
             [
              0,
              "#0d0887"
             ],
             [
              0.1111111111111111,
              "#46039f"
             ],
             [
              0.2222222222222222,
              "#7201a8"
             ],
             [
              0.3333333333333333,
              "#9c179e"
             ],
             [
              0.4444444444444444,
              "#bd3786"
             ],
             [
              0.5555555555555556,
              "#d8576b"
             ],
             [
              0.6666666666666666,
              "#ed7953"
             ],
             [
              0.7777777777777778,
              "#fb9f3a"
             ],
             [
              0.8888888888888888,
              "#fdca26"
             ],
             [
              1,
              "#f0f921"
             ]
            ],
            "type": "histogram2dcontour"
           }
          ],
          "mesh3d": [
           {
            "colorbar": {
             "outlinewidth": 0,
             "ticks": ""
            },
            "type": "mesh3d"
           }
          ],
          "parcoords": [
           {
            "line": {
             "colorbar": {
              "outlinewidth": 0,
              "ticks": ""
             }
            },
            "type": "parcoords"
           }
          ],
          "pie": [
           {
            "automargin": true,
            "type": "pie"
           }
          ],
          "scatter": [
           {
            "fillpattern": {
             "fillmode": "overlay",
             "size": 10,
             "solidity": 0.2
            },
            "type": "scatter"
           }
          ],
          "scatter3d": [
           {
            "line": {
             "colorbar": {
              "outlinewidth": 0,
              "ticks": ""
             }
            },
            "marker": {
             "colorbar": {
              "outlinewidth": 0,
              "ticks": ""
             }
            },
            "type": "scatter3d"
           }
          ],
          "scattercarpet": [
           {
            "marker": {
             "colorbar": {
              "outlinewidth": 0,
              "ticks": ""
             }
            },
            "type": "scattercarpet"
           }
          ],
          "scattergeo": [
           {
            "marker": {
             "colorbar": {
              "outlinewidth": 0,
              "ticks": ""
             }
            },
            "type": "scattergeo"
           }
          ],
          "scattergl": [
           {
            "marker": {
             "colorbar": {
              "outlinewidth": 0,
              "ticks": ""
             }
            },
            "type": "scattergl"
           }
          ],
          "scattermapbox": [
           {
            "marker": {
             "colorbar": {
              "outlinewidth": 0,
              "ticks": ""
             }
            },
            "type": "scattermapbox"
           }
          ],
          "scatterpolar": [
           {
            "marker": {
             "colorbar": {
              "outlinewidth": 0,
              "ticks": ""
             }
            },
            "type": "scatterpolar"
           }
          ],
          "scatterpolargl": [
           {
            "marker": {
             "colorbar": {
              "outlinewidth": 0,
              "ticks": ""
             }
            },
            "type": "scatterpolargl"
           }
          ],
          "scatterternary": [
           {
            "marker": {
             "colorbar": {
              "outlinewidth": 0,
              "ticks": ""
             }
            },
            "type": "scatterternary"
           }
          ],
          "surface": [
           {
            "colorbar": {
             "outlinewidth": 0,
             "ticks": ""
            },
            "colorscale": [
             [
              0,
              "#0d0887"
             ],
             [
              0.1111111111111111,
              "#46039f"
             ],
             [
              0.2222222222222222,
              "#7201a8"
             ],
             [
              0.3333333333333333,
              "#9c179e"
             ],
             [
              0.4444444444444444,
              "#bd3786"
             ],
             [
              0.5555555555555556,
              "#d8576b"
             ],
             [
              0.6666666666666666,
              "#ed7953"
             ],
             [
              0.7777777777777778,
              "#fb9f3a"
             ],
             [
              0.8888888888888888,
              "#fdca26"
             ],
             [
              1,
              "#f0f921"
             ]
            ],
            "type": "surface"
           }
          ],
          "table": [
           {
            "cells": {
             "fill": {
              "color": "#EBF0F8"
             },
             "line": {
              "color": "white"
             }
            },
            "header": {
             "fill": {
              "color": "#C8D4E3"
             },
             "line": {
              "color": "white"
             }
            },
            "type": "table"
           }
          ]
         },
         "layout": {
          "annotationdefaults": {
           "arrowcolor": "#2a3f5f",
           "arrowhead": 0,
           "arrowwidth": 1
          },
          "autotypenumbers": "strict",
          "coloraxis": {
           "colorbar": {
            "outlinewidth": 0,
            "ticks": ""
           }
          },
          "colorscale": {
           "diverging": [
            [
             0,
             "#8e0152"
            ],
            [
             0.1,
             "#c51b7d"
            ],
            [
             0.2,
             "#de77ae"
            ],
            [
             0.3,
             "#f1b6da"
            ],
            [
             0.4,
             "#fde0ef"
            ],
            [
             0.5,
             "#f7f7f7"
            ],
            [
             0.6,
             "#e6f5d0"
            ],
            [
             0.7,
             "#b8e186"
            ],
            [
             0.8,
             "#7fbc41"
            ],
            [
             0.9,
             "#4d9221"
            ],
            [
             1,
             "#276419"
            ]
           ],
           "sequential": [
            [
             0,
             "#0d0887"
            ],
            [
             0.1111111111111111,
             "#46039f"
            ],
            [
             0.2222222222222222,
             "#7201a8"
            ],
            [
             0.3333333333333333,
             "#9c179e"
            ],
            [
             0.4444444444444444,
             "#bd3786"
            ],
            [
             0.5555555555555556,
             "#d8576b"
            ],
            [
             0.6666666666666666,
             "#ed7953"
            ],
            [
             0.7777777777777778,
             "#fb9f3a"
            ],
            [
             0.8888888888888888,
             "#fdca26"
            ],
            [
             1,
             "#f0f921"
            ]
           ],
           "sequentialminus": [
            [
             0,
             "#0d0887"
            ],
            [
             0.1111111111111111,
             "#46039f"
            ],
            [
             0.2222222222222222,
             "#7201a8"
            ],
            [
             0.3333333333333333,
             "#9c179e"
            ],
            [
             0.4444444444444444,
             "#bd3786"
            ],
            [
             0.5555555555555556,
             "#d8576b"
            ],
            [
             0.6666666666666666,
             "#ed7953"
            ],
            [
             0.7777777777777778,
             "#fb9f3a"
            ],
            [
             0.8888888888888888,
             "#fdca26"
            ],
            [
             1,
             "#f0f921"
            ]
           ]
          },
          "colorway": [
           "#636efa",
           "#EF553B",
           "#00cc96",
           "#ab63fa",
           "#FFA15A",
           "#19d3f3",
           "#FF6692",
           "#B6E880",
           "#FF97FF",
           "#FECB52"
          ],
          "font": {
           "color": "#2a3f5f"
          },
          "geo": {
           "bgcolor": "white",
           "lakecolor": "white",
           "landcolor": "#E5ECF6",
           "showlakes": true,
           "showland": true,
           "subunitcolor": "white"
          },
          "hoverlabel": {
           "align": "left"
          },
          "hovermode": "closest",
          "mapbox": {
           "style": "light"
          },
          "paper_bgcolor": "white",
          "plot_bgcolor": "#E5ECF6",
          "polar": {
           "angularaxis": {
            "gridcolor": "white",
            "linecolor": "white",
            "ticks": ""
           },
           "bgcolor": "#E5ECF6",
           "radialaxis": {
            "gridcolor": "white",
            "linecolor": "white",
            "ticks": ""
           }
          },
          "scene": {
           "xaxis": {
            "backgroundcolor": "#E5ECF6",
            "gridcolor": "white",
            "gridwidth": 2,
            "linecolor": "white",
            "showbackground": true,
            "ticks": "",
            "zerolinecolor": "white"
           },
           "yaxis": {
            "backgroundcolor": "#E5ECF6",
            "gridcolor": "white",
            "gridwidth": 2,
            "linecolor": "white",
            "showbackground": true,
            "ticks": "",
            "zerolinecolor": "white"
           },
           "zaxis": {
            "backgroundcolor": "#E5ECF6",
            "gridcolor": "white",
            "gridwidth": 2,
            "linecolor": "white",
            "showbackground": true,
            "ticks": "",
            "zerolinecolor": "white"
           }
          },
          "shapedefaults": {
           "line": {
            "color": "#2a3f5f"
           }
          },
          "ternary": {
           "aaxis": {
            "gridcolor": "white",
            "linecolor": "white",
            "ticks": ""
           },
           "baxis": {
            "gridcolor": "white",
            "linecolor": "white",
            "ticks": ""
           },
           "bgcolor": "#E5ECF6",
           "caxis": {
            "gridcolor": "white",
            "linecolor": "white",
            "ticks": ""
           }
          },
          "title": {
           "x": 0.05
          },
          "xaxis": {
           "automargin": true,
           "gridcolor": "white",
           "linecolor": "white",
           "ticks": "",
           "title": {
            "standoff": 15
           },
           "zerolinecolor": "white",
           "zerolinewidth": 2
          },
          "yaxis": {
           "automargin": true,
           "gridcolor": "white",
           "linecolor": "white",
           "ticks": "",
           "title": {
            "standoff": 15
           },
           "zerolinecolor": "white",
           "zerolinewidth": 2
          }
         }
        },
        "title": {
         "text": "973,117 Prompts were Successfully Generated by 24,485 Users Across 13 Days"
        },
        "width": 900,
        "xaxis": {
         "autorange": true,
         "range": [
          "2023-10-24 12:00",
          "2023-11-09 12:00"
         ],
         "showgrid": false,
         "tickformat": "%m-%d",
         "tickvals": [
          "2023-10-25",
          "2023-10-26",
          "2023-10-27",
          "2023-10-28",
          "2023-10-29",
          "2023-10-30",
          "2023-11-02",
          "2023-11-03",
          "2023-11-04",
          "2023-11-05",
          "2023-11-06",
          "2023-11-08",
          "2023-11-09"
         ],
         "type": "date"
        },
        "yaxis": {
         "autorange": true,
         "range": [
          0,
          99610.52631578947
         ],
         "showgrid": false,
         "type": "linear"
        }
       }
      },
      "image/png": "[encoded data removed]",
      "text/html": [
       "<div>                            <div id=\"ceb076f9-652c-41e9-aaa3-ec1e9594932c\" class=\"plotly-graph-div\" style=\"height:600px; width:900px;\"></div>            <script type=\"text/javascript\">                require([\"plotly\"], function(Plotly) {                    window.PLOTLYENV=window.PLOTLYENV || {};                                    if (document.getElementById(\"ceb076f9-652c-41e9-aaa3-ec1e9594932c\")) {                    Plotly.newPlot(                        \"ceb076f9-652c-41e9-aaa3-ec1e9594932c\",                        [{\"marker\":{\"color\":\"rgb(151,166,196)\"},\"name\":\"Total Prompts Posted Each Day\",\"x\":[\"2023-10-25\",\"2023-10-26\",\"2023-10-27\",\"2023-10-28\",\"2023-10-29\",\"2023-10-30\",\"2023-11-02\",\"2023-11-03\",\"2023-11-04\",\"2023-11-05\",\"2023-11-06\",\"2023-11-08\",\"2023-11-09\"],\"y\":[60554,88514,87925,93805,94630,41924,82922,86052,90539,87973,62357,83122,12800],\"type\":\"bar\"}],                        {\"template\":{\"data\":{\"histogram2dcontour\":[{\"type\":\"histogram2dcontour\",\"colorbar\":{\"outlinewidth\":0,\"ticks\":\"\"},\"colorscale\":[[0.0,\"#0d0887\"],[0.1111111111111111,\"#46039f\"],[0.2222222222222222,\"#7201a8\"],[0.3333333333333333,\"#9c179e\"],[0.4444444444444444,\"#bd3786\"],[0.5555555555555556,\"#d8576b\"],[0.6666666666666666,\"#ed7953\"],[0.7777777777777778,\"#fb9f3a\"],[0.8888888888888888,\"#fdca26\"],[1.0,\"#f0f921\"]]}],\"choropleth\":[{\"type\":\"choropleth\",\"colorbar\":{\"outlinewidth\":0,\"ticks\":\"\"}}],\"histogram2d\":[{\"type\":\"histogram2d\",\"colorbar\":{\"outlinewidth\":0,\"ticks\":\"\"},\"colorscale\":[[0.0,\"#0d0887\"],[0.1111111111111111,\"#46039f\"],[0.2222222222222222,\"#7201a8\"],[0.3333333333333333,\"#9c179e\"],[0.4444444444444444,\"#bd3786\"],[0.5555555555555556,\"#d8576b\"],[0.6666666666666666,\"#ed7953\"],[0.7777777777777778,\"#fb9f3a\"],[0.8888888888888888,\"#fdca26\"],[1.0,\"#f0f921\"]]}],\"heatmap\":[{\"type\":\"heatmap\",\"colorbar\":{\"outlinewidth\":0,\"ticks\":\"\"},\"colorscale\":[[0.0,\"#0d0887\"],[0.1111111111111111,\"#46039f\"],[0.2222222222222222,\"#7201a8\"],[0.3333333333333333,\"#9c179e\"],[0.4444444444444444,\"#bd3786\"],[0.5555555555555556,\"#d8576b\"],[0.6666666666666666,\"#ed7953\"],[0.7777777777777778,\"#fb9f3a\"],[0.8888888888888888,\"#fdca26\"],[1.0,\"#f0f921\"]]}],\"heatmapgl\":[{\"type\":\"heatmapgl\",\"colorbar\":{\"outlinewidth\":0,\"ticks\":\"\"},\"colorscale\":[[0.0,\"#0d0887\"],[0.1111111111111111,\"#46039f\"],[0.2222222222222222,\"#7201a8\"],[0.3333333333333333,\"#9c179e\"],[0.4444444444444444,\"#bd3786\"],[0.5555555555555556,\"#d8576b\"],[0.6666666666666666,\"#ed7953\"],[0.7777777777777778,\"#fb9f3a\"],[0.8888888888888888,\"#fdca26\"],[1.0,\"#f0f921\"]]}],\"contourcarpet\":[{\"type\":\"contourcarpet\",\"colorbar\":{\"outlinewidth\":0,\"ticks\":\"\"}}],\"contour\":[{\"type\":\"contour\",\"colorbar\":{\"outlinewidth\":0,\"ticks\":\"\"},\"colorscale\":[[0.0,\"#0d0887\"],[0.1111111111111111,\"#46039f\"],[0.2222222222222222,\"#7201a8\"],[0.3333333333333333,\"#9c179e\"],[0.4444444444444444,\"#bd3786\"],[0.5555555555555556,\"#d8576b\"],[0.6666666666666666,\"#ed7953\"],[0.7777777777777778,\"#fb9f3a\"],[0.8888888888888888,\"#fdca26\"],[1.0,\"#f0f921\"]]}],\"surface\":[{\"type\":\"surface\",\"colorbar\":{\"outlinewidth\":0,\"ticks\":\"\"},\"colorscale\":[[0.0,\"#0d0887\"],[0.1111111111111111,\"#46039f\"],[0.2222222222222222,\"#7201a8\"],[0.3333333333333333,\"#9c179e\"],[0.4444444444444444,\"#bd3786\"],[0.5555555555555556,\"#d8576b\"],[0.6666666666666666,\"#ed7953\"],[0.7777777777777778,\"#fb9f3a\"],[0.8888888888888888,\"#fdca26\"],[1.0,\"#f0f921\"]]}],\"mesh3d\":[{\"type\":\"mesh3d\",\"colorbar\":{\"outlinewidth\":0,\"ticks\":\"\"}}],\"scatter\":[{\"fillpattern\":{\"fillmode\":\"overlay\",\"size\":10,\"solidity\":0.2},\"type\":\"scatter\"}],\"parcoords\":[{\"type\":\"parcoords\",\"line\":{\"colorbar\":{\"outlinewidth\":0,\"ticks\":\"\"}}}],\"scatterpolargl\":[{\"type\":\"scatterpolargl\",\"marker\":{\"colorbar\":{\"outlinewidth\":0,\"ticks\":\"\"}}}],\"bar\":[{\"error_x\":{\"color\":\"#2a3f5f\"},\"error_y\":{\"color\":\"#2a3f5f\"},\"marker\":{\"line\":{\"color\":\"#E5ECF6\",\"width\":0.5},\"pattern\":{\"fillmode\":\"overlay\",\"size\":10,\"solidity\":0.2}},\"type\":\"bar\"}],\"scattergeo\":[{\"type\":\"scattergeo\",\"marker\":{\"colorbar\":{\"outlinewidth\":0,\"ticks\":\"\"}}}],\"scatterpolar\":[{\"type\":\"scatterpolar\",\"marker\":{\"colorbar\":{\"outlinewidth\":0,\"ticks\":\"\"}}}],\"histogram\":[{\"marker\":{\"pattern\":{\"fillmode\":\"overlay\",\"size\":10,\"solidity\":0.2}},\"type\":\"histogram\"}],\"scattergl\":[{\"type\":\"scattergl\",\"marker\":{\"colorbar\":{\"outlinewidth\":0,\"ticks\":\"\"}}}],\"scatter3d\":[{\"type\":\"scatter3d\",\"line\":{\"colorbar\":{\"outlinewidth\":0,\"ticks\":\"\"}},\"marker\":{\"colorbar\":{\"outlinewidth\":0,\"ticks\":\"\"}}}],\"scattermapbox\":[{\"type\":\"scattermapbox\",\"marker\":{\"colorbar\":{\"outlinewidth\":0,\"ticks\":\"\"}}}],\"scatterternary\":[{\"type\":\"scatterternary\",\"marker\":{\"colorbar\":{\"outlinewidth\":0,\"ticks\":\"\"}}}],\"scattercarpet\":[{\"type\":\"scattercarpet\",\"marker\":{\"colorbar\":{\"outlinewidth\":0,\"ticks\":\"\"}}}],\"carpet\":[{\"aaxis\":{\"endlinecolor\":\"#2a3f5f\",\"gridcolor\":\"white\",\"linecolor\":\"white\",\"minorgridcolor\":\"white\",\"startlinecolor\":\"#2a3f5f\"},\"baxis\":{\"endlinecolor\":\"#2a3f5f\",\"gridcolor\":\"white\",\"linecolor\":\"white\",\"minorgridcolor\":\"white\",\"startlinecolor\":\"#2a3f5f\"},\"type\":\"carpet\"}],\"table\":[{\"cells\":{\"fill\":{\"color\":\"#EBF0F8\"},\"line\":{\"color\":\"white\"}},\"header\":{\"fill\":{\"color\":\"#C8D4E3\"},\"line\":{\"color\":\"white\"}},\"type\":\"table\"}],\"barpolar\":[{\"marker\":{\"line\":{\"color\":\"#E5ECF6\",\"width\":0.5},\"pattern\":{\"fillmode\":\"overlay\",\"size\":10,\"solidity\":0.2}},\"type\":\"barpolar\"}],\"pie\":[{\"automargin\":true,\"type\":\"pie\"}]},\"layout\":{\"autotypenumbers\":\"strict\",\"colorway\":[\"#636efa\",\"#EF553B\",\"#00cc96\",\"#ab63fa\",\"#FFA15A\",\"#19d3f3\",\"#FF6692\",\"#B6E880\",\"#FF97FF\",\"#FECB52\"],\"font\":{\"color\":\"#2a3f5f\"},\"hovermode\":\"closest\",\"hoverlabel\":{\"align\":\"left\"},\"paper_bgcolor\":\"white\",\"plot_bgcolor\":\"#E5ECF6\",\"polar\":{\"bgcolor\":\"#E5ECF6\",\"angularaxis\":{\"gridcolor\":\"white\",\"linecolor\":\"white\",\"ticks\":\"\"},\"radialaxis\":{\"gridcolor\":\"white\",\"linecolor\":\"white\",\"ticks\":\"\"}},\"ternary\":{\"bgcolor\":\"#E5ECF6\",\"aaxis\":{\"gridcolor\":\"white\",\"linecolor\":\"white\",\"ticks\":\"\"},\"baxis\":{\"gridcolor\":\"white\",\"linecolor\":\"white\",\"ticks\":\"\"},\"caxis\":{\"gridcolor\":\"white\",\"linecolor\":\"white\",\"ticks\":\"\"}},\"coloraxis\":{\"colorbar\":{\"outlinewidth\":0,\"ticks\":\"\"}},\"colorscale\":{\"sequential\":[[0.0,\"#0d0887\"],[0.1111111111111111,\"#46039f\"],[0.2222222222222222,\"#7201a8\"],[0.3333333333333333,\"#9c179e\"],[0.4444444444444444,\"#bd3786\"],[0.5555555555555556,\"#d8576b\"],[0.6666666666666666,\"#ed7953\"],[0.7777777777777778,\"#fb9f3a\"],[0.8888888888888888,\"#fdca26\"],[1.0,\"#f0f921\"]],\"sequentialminus\":[[0.0,\"#0d0887\"],[0.1111111111111111,\"#46039f\"],[0.2222222222222222,\"#7201a8\"],[0.3333333333333333,\"#9c179e\"],[0.4444444444444444,\"#bd3786\"],[0.5555555555555556,\"#d8576b\"],[0.6666666666666666,\"#ed7953\"],[0.7777777777777778,\"#fb9f3a\"],[0.8888888888888888,\"#fdca26\"],[1.0,\"#f0f921\"]],\"diverging\":[[0,\"#8e0152\"],[0.1,\"#c51b7d\"],[0.2,\"#de77ae\"],[0.3,\"#f1b6da\"],[0.4,\"#fde0ef\"],[0.5,\"#f7f7f7\"],[0.6,\"#e6f5d0\"],[0.7,\"#b8e186\"],[0.8,\"#7fbc41\"],[0.9,\"#4d9221\"],[1,\"#276419\"]]},\"xaxis\":{\"gridcolor\":\"white\",\"linecolor\":\"white\",\"ticks\":\"\",\"title\":{\"standoff\":15},\"zerolinecolor\":\"white\",\"automargin\":true,\"zerolinewidth\":2},\"yaxis\":{\"gridcolor\":\"white\",\"linecolor\":\"white\",\"ticks\":\"\",\"title\":{\"standoff\":15},\"zerolinecolor\":\"white\",\"automargin\":true,\"zerolinewidth\":2},\"scene\":{\"xaxis\":{\"backgroundcolor\":\"#E5ECF6\",\"gridcolor\":\"white\",\"linecolor\":\"white\",\"showbackground\":true,\"ticks\":\"\",\"zerolinecolor\":\"white\",\"gridwidth\":2},\"yaxis\":{\"backgroundcolor\":\"#E5ECF6\",\"gridcolor\":\"white\",\"linecolor\":\"white\",\"showbackground\":true,\"ticks\":\"\",\"zerolinecolor\":\"white\",\"gridwidth\":2},\"zaxis\":{\"backgroundcolor\":\"#E5ECF6\",\"gridcolor\":\"white\",\"linecolor\":\"white\",\"showbackground\":true,\"ticks\":\"\",\"zerolinecolor\":\"white\",\"gridwidth\":2}},\"shapedefaults\":{\"line\":{\"color\":\"#2a3f5f\"}},\"annotationdefaults\":{\"arrowcolor\":\"#2a3f5f\",\"arrowhead\":0,\"arrowwidth\":1},\"geo\":{\"bgcolor\":\"white\",\"landcolor\":\"#E5ECF6\",\"subunitcolor\":\"white\",\"showland\":true,\"showlakes\":true,\"lakecolor\":\"white\"},\"title\":{\"x\":0.05},\"mapbox\":{\"style\":\"light\"}}},\"margin\":{\"l\":50,\"r\":50,\"b\":100,\"t\":100,\"pad\":6},\"hoverlabel\":{\"font\":{\"size\":15},\"bgcolor\":\"white\"},\"title\":{\"text\":\"973,117 Prompts were Successfully Generated by 24,485 Users Across 13 Days\"},\"autosize\":false,\"width\":900,\"height\":600,\"xaxis\":{\"showgrid\":false,\"tickvals\":[\"2023-10-25\",\"2023-10-26\",\"2023-10-27\",\"2023-10-28\",\"2023-10-29\",\"2023-10-30\",\"2023-11-02\",\"2023-11-03\",\"2023-11-04\",\"2023-11-05\",\"2023-11-06\",\"2023-11-08\",\"2023-11-09\"],\"tickformat\":\"%m-%d\"},\"yaxis\":{\"showgrid\":false}},                        {\"responsive\": true}                    ).then(function(){\n",
       "                            \n",
       "var gd = document.getElementById('ceb076f9-652c-41e9-aaa3-ec1e9594932c');\n",
       "var x = new MutationObserver(function (mutations, observer) {{\n",
       "        var display = window.getComputedStyle(gd).display;\n",
       "        if (!display || display === 'none') {{\n",
       "            console.log([gd, 'removed!']);\n",
       "            Plotly.purge(gd);\n",
       "            observer.disconnect();\n",
       "        }}\n",
       "}});\n",
       "\n",
       "// Listen for the removal of the full notebook cells\n",
       "var notebookContainer = gd.closest('#notebook-container');\n",
       "if (notebookContainer) {{\n",
       "    x.observe(notebookContainer, {childList: true});\n",
       "}}\n",
       "\n",
       "// Listen for the clearing of the current output cell\n",
       "var outputEl = gd.closest('.output');\n",
       "if (outputEl) {{\n",
       "    x.observe(outputEl, {childList: true});\n",
       "}}\n",
       "\n",
       "                        })                };                });            </script>        </div>"
      ]
     },
     "metadata": {},
     "output_type": "display_data"
    }
   ],
   "source": []
  },
  {
   "cell_type": "code",
   "execution_count": null,
   "id": "8b3cfa84-def9-4496-b986-536da2b7a702",
   "metadata": {},
   "outputs": [],
   "source": [
    "\n",
    "\n",
    "fig1 = go.Figure()\n",
    "\n",
    "fig1.add_trace(go.Bar(\n",
    "    x=uniquePromptsByDate.index,  \n",
    "    y=uniquePromptsByDate.values,\n",
    "    name=\"Total Prompts Posted Each Day\",\n",
    "    marker=dict(color='rgb(56,72,96)')\n",
    "))\n",
    "\n",
    "fig1.update_layout(\n",
    "    title=f\"{numUniquePrompts:,} Unique Prompts were Successfully Generated by {uniqueUsers:,} Users Across 13 Days\",\n",
    "    \n",
    "    #xaxis_title=\"2023\",\n",
    "    autosize=False,\n",
    "    width=900,\n",
    "    height=600,\n",
    "    margin=dict(\n",
    "        l=50,\n",
    "        r=50,\n",
    "        b=100,\n",
    "        t=100,\n",
    "        pad=6\n",
    "    ),\n",
    "hoverlabel=dict(\n",
    "        bgcolor=\"white\", \n",
    "        font_size=15, \n",
    "    )\n",
    ")\n",
    "\n",
    "fig1.update_xaxes(showgrid=False, tickvals=dailyPrompts.index, tickformat=\"%m-%d\")\n",
    "fig1.update_yaxes(showgrid=False)\n",
    "\n"
   ]
  },
  {
   "cell_type": "code",
   "execution_count": 187,
   "id": "f0d4a01e-5d05-4b02-a4a5-d176f6b9eb46",
   "metadata": {},
   "outputs": [],
   "source": [
    "def totalPromptOverlay():\n",
    "    fig2 = go.Figure()\n",
    "    \n",
    "    fig2.add_trace(go.Bar(\n",
    "        x=dailyPrompts.index,  \n",
    "        y=dailyPrompts.values,\n",
    "        name=\"Total Daily Prompts\",\n",
    "        marker=dict(color='rgb(151,166,196)')\n",
    "    ))\n",
    "    \n",
    "    \n",
    "    fig2.add_trace(go.Bar(\n",
    "        x=uniquePromptsByDate.index,  \n",
    "        y=uniquePromptsByDate.values,\n",
    "        name='Total Unique Daily Prompts',\n",
    "        marker=dict(color='rgb(56,72,96)')\n",
    "    ))\n",
    "    \n",
    "    fig2.update_layout(\n",
    "        title=f\"Of Those {totalPrompts:,} Prompts, {numUniquePrompts:,} were Unique\",\n",
    "        autosize=False,\n",
    "        width=900,\n",
    "        height=600,\n",
    "        margin=dict(\n",
    "            l=50,\n",
    "            r=50,\n",
    "            b=100,\n",
    "            t=100,\n",
    "            pad=6\n",
    "        ),\n",
    "        hoverlabel=dict(\n",
    "            bgcolor=\"white\", \n",
    "            font_size=15, \n",
    "        ),\n",
    "        barmode=\"overlay\",\n",
    "        legend=dict(\n",
    "            yanchor=\"top\",\n",
    "            y=-0.2,\n",
    "            xanchor=\"center\",\n",
    "            x=0.5\n",
    "        )\n",
    "    )\n",
    "    \n",
    "    fig2.update_xaxes(showgrid=False, tickvals=dailyPrompts.index, tickformat=\"%m-%d\")\n",
    "    fig2.update_yaxes(showgrid=False)\n",
    "    \n",
    "    fig2.show()"
   ]
  },
  {
   "cell_type": "code",
   "execution_count": 195,
   "id": "4bc16719-c7e5-4507-8ae3-15c7685e7fd7",
   "metadata": {},
   "outputs": [],
   "source": [
    "def percentUniqueGraph():\n",
    "\n",
    "    fig4 = go.Figure(data=[go.Pie(\n",
    "        labels=['Total Prompts', 'Unique Prompts'],\n",
    "        values=[totalPrompts, numUniquePrompts],\n",
    "        pull=[0, 0.2],\n",
    "        marker=dict(colors=['rgb(151,166,196)', 'orange'])\n",
    "    )])\n",
    "    \n",
    "    fig4.update_layout(\n",
    "        title=\"That's Only 16.2%\",\n",
    "        autosize=False,\n",
    "        width=500,\n",
    "        height=500,\n",
    "        margin=dict(\n",
    "            l=50,\n",
    "            r=50,\n",
    "            b=100,\n",
    "            t=100,\n",
    "            pad=4\n",
    "        )\n",
    "    )\n",
    "    \n",
    "    fig4.show()"
   ]
  },
  {
   "cell_type": "code",
   "execution_count": 196,
   "id": "d358a824-64d7-41c5-96dd-d053c7de3fba",
   "metadata": {},
   "outputs": [
    {
     "data": {
      "application/vnd.plotly.v1+json": {
       "config": {
        "plotlyServerURL": "https://plot.ly"
       },
       "data": [
        {
         "marker": {
          "color": "rgb(151,166,196)"
         },
         "name": "Total Prompts Posted Each Day",
         "type": "bar",
         "x": [
          "2023-10-25",
          "2023-10-26",
          "2023-10-27",
          "2023-10-28",
          "2023-10-29",
          "2023-10-30",
          "2023-11-02",
          "2023-11-03",
          "2023-11-04",
          "2023-11-05",
          "2023-11-06",
          "2023-11-08",
          "2023-11-09"
         ],
         "y": [
          60554,
          88514,
          87925,
          93805,
          94630,
          41924,
          82922,
          86052,
          90539,
          87973,
          62357,
          83122,
          12800
         ]
        }
       ],
       "layout": {
        "autosize": false,
        "height": 600,
        "hoverlabel": {
         "bgcolor": "white",
         "font": {
          "size": 15
         }
        },
        "margin": {
         "b": 100,
         "l": 50,
         "pad": 6,
         "r": 50,
         "t": 100
        },
        "template": {
         "data": {
          "bar": [
           {
            "error_x": {
             "color": "#2a3f5f"
            },
            "error_y": {
             "color": "#2a3f5f"
            },
            "marker": {
             "line": {
              "color": "#E5ECF6",
              "width": 0.5
             },
             "pattern": {
              "fillmode": "overlay",
              "size": 10,
              "solidity": 0.2
             }
            },
            "type": "bar"
           }
          ],
          "barpolar": [
           {
            "marker": {
             "line": {
              "color": "#E5ECF6",
              "width": 0.5
             },
             "pattern": {
              "fillmode": "overlay",
              "size": 10,
              "solidity": 0.2
             }
            },
            "type": "barpolar"
           }
          ],
          "carpet": [
           {
            "aaxis": {
             "endlinecolor": "#2a3f5f",
             "gridcolor": "white",
             "linecolor": "white",
             "minorgridcolor": "white",
             "startlinecolor": "#2a3f5f"
            },
            "baxis": {
             "endlinecolor": "#2a3f5f",
             "gridcolor": "white",
             "linecolor": "white",
             "minorgridcolor": "white",
             "startlinecolor": "#2a3f5f"
            },
            "type": "carpet"
           }
          ],
          "choropleth": [
           {
            "colorbar": {
             "outlinewidth": 0,
             "ticks": ""
            },
            "type": "choropleth"
           }
          ],
          "contour": [
           {
            "colorbar": {
             "outlinewidth": 0,
             "ticks": ""
            },
            "colorscale": [
             [
              0,
              "#0d0887"
             ],
             [
              0.1111111111111111,
              "#46039f"
             ],
             [
              0.2222222222222222,
              "#7201a8"
             ],
             [
              0.3333333333333333,
              "#9c179e"
             ],
             [
              0.4444444444444444,
              "#bd3786"
             ],
             [
              0.5555555555555556,
              "#d8576b"
             ],
             [
              0.6666666666666666,
              "#ed7953"
             ],
             [
              0.7777777777777778,
              "#fb9f3a"
             ],
             [
              0.8888888888888888,
              "#fdca26"
             ],
             [
              1,
              "#f0f921"
             ]
            ],
            "type": "contour"
           }
          ],
          "contourcarpet": [
           {
            "colorbar": {
             "outlinewidth": 0,
             "ticks": ""
            },
            "type": "contourcarpet"
           }
          ],
          "heatmap": [
           {
            "colorbar": {
             "outlinewidth": 0,
             "ticks": ""
            },
            "colorscale": [
             [
              0,
              "#0d0887"
             ],
             [
              0.1111111111111111,
              "#46039f"
             ],
             [
              0.2222222222222222,
              "#7201a8"
             ],
             [
              0.3333333333333333,
              "#9c179e"
             ],
             [
              0.4444444444444444,
              "#bd3786"
             ],
             [
              0.5555555555555556,
              "#d8576b"
             ],
             [
              0.6666666666666666,
              "#ed7953"
             ],
             [
              0.7777777777777778,
              "#fb9f3a"
             ],
             [
              0.8888888888888888,
              "#fdca26"
             ],
             [
              1,
              "#f0f921"
             ]
            ],
            "type": "heatmap"
           }
          ],
          "heatmapgl": [
           {
            "colorbar": {
             "outlinewidth": 0,
             "ticks": ""
            },
            "colorscale": [
             [
              0,
              "#0d0887"
             ],
             [
              0.1111111111111111,
              "#46039f"
             ],
             [
              0.2222222222222222,
              "#7201a8"
             ],
             [
              0.3333333333333333,
              "#9c179e"
             ],
             [
              0.4444444444444444,
              "#bd3786"
             ],
             [
              0.5555555555555556,
              "#d8576b"
             ],
             [
              0.6666666666666666,
              "#ed7953"
             ],
             [
              0.7777777777777778,
              "#fb9f3a"
             ],
             [
              0.8888888888888888,
              "#fdca26"
             ],
             [
              1,
              "#f0f921"
             ]
            ],
            "type": "heatmapgl"
           }
          ],
          "histogram": [
           {
            "marker": {
             "pattern": {
              "fillmode": "overlay",
              "size": 10,
              "solidity": 0.2
             }
            },
            "type": "histogram"
           }
          ],
          "histogram2d": [
           {
            "colorbar": {
             "outlinewidth": 0,
             "ticks": ""
            },
            "colorscale": [
             [
              0,
              "#0d0887"
             ],
             [
              0.1111111111111111,
              "#46039f"
             ],
             [
              0.2222222222222222,
              "#7201a8"
             ],
             [
              0.3333333333333333,
              "#9c179e"
             ],
             [
              0.4444444444444444,
              "#bd3786"
             ],
             [
              0.5555555555555556,
              "#d8576b"
             ],
             [
              0.6666666666666666,
              "#ed7953"
             ],
             [
              0.7777777777777778,
              "#fb9f3a"
             ],
             [
              0.8888888888888888,
              "#fdca26"
             ],
             [
              1,
              "#f0f921"
             ]
            ],
            "type": "histogram2d"
           }
          ],
          "histogram2dcontour": [
           {
            "colorbar": {
             "outlinewidth": 0,
             "ticks": ""
            },
            "colorscale": [
             [
              0,
              "#0d0887"
             ],
             [
              0.1111111111111111,
              "#46039f"
             ],
             [
              0.2222222222222222,
              "#7201a8"
             ],
             [
              0.3333333333333333,
              "#9c179e"
             ],
             [
              0.4444444444444444,
              "#bd3786"
             ],
             [
              0.5555555555555556,
              "#d8576b"
             ],
             [
              0.6666666666666666,
              "#ed7953"
             ],
             [
              0.7777777777777778,
              "#fb9f3a"
             ],
             [
              0.8888888888888888,
              "#fdca26"
             ],
             [
              1,
              "#f0f921"
             ]
            ],
            "type": "histogram2dcontour"
           }
          ],
          "mesh3d": [
           {
            "colorbar": {
             "outlinewidth": 0,
             "ticks": ""
            },
            "type": "mesh3d"
           }
          ],
          "parcoords": [
           {
            "line": {
             "colorbar": {
              "outlinewidth": 0,
              "ticks": ""
             }
            },
            "type": "parcoords"
           }
          ],
          "pie": [
           {
            "automargin": true,
            "type": "pie"
           }
          ],
          "scatter": [
           {
            "fillpattern": {
             "fillmode": "overlay",
             "size": 10,
             "solidity": 0.2
            },
            "type": "scatter"
           }
          ],
          "scatter3d": [
           {
            "line": {
             "colorbar": {
              "outlinewidth": 0,
              "ticks": ""
             }
            },
            "marker": {
             "colorbar": {
              "outlinewidth": 0,
              "ticks": ""
             }
            },
            "type": "scatter3d"
           }
          ],
          "scattercarpet": [
           {
            "marker": {
             "colorbar": {
              "outlinewidth": 0,
              "ticks": ""
             }
            },
            "type": "scattercarpet"
           }
          ],
          "scattergeo": [
           {
            "marker": {
             "colorbar": {
              "outlinewidth": 0,
              "ticks": ""
             }
            },
            "type": "scattergeo"
           }
          ],
          "scattergl": [
           {
            "marker": {
             "colorbar": {
              "outlinewidth": 0,
              "ticks": ""
             }
            },
            "type": "scattergl"
           }
          ],
          "scattermapbox": [
           {
            "marker": {
             "colorbar": {
              "outlinewidth": 0,
              "ticks": ""
             }
            },
            "type": "scattermapbox"
           }
          ],
          "scatterpolar": [
           {
            "marker": {
             "colorbar": {
              "outlinewidth": 0,
              "ticks": ""
             }
            },
            "type": "scatterpolar"
           }
          ],
          "scatterpolargl": [
           {
            "marker": {
             "colorbar": {
              "outlinewidth": 0,
              "ticks": ""
             }
            },
            "type": "scatterpolargl"
           }
          ],
          "scatterternary": [
           {
            "marker": {
             "colorbar": {
              "outlinewidth": 0,
              "ticks": ""
             }
            },
            "type": "scatterternary"
           }
          ],
          "surface": [
           {
            "colorbar": {
             "outlinewidth": 0,
             "ticks": ""
            },
            "colorscale": [
             [
              0,
              "#0d0887"
             ],
             [
              0.1111111111111111,
              "#46039f"
             ],
             [
              0.2222222222222222,
              "#7201a8"
             ],
             [
              0.3333333333333333,
              "#9c179e"
             ],
             [
              0.4444444444444444,
              "#bd3786"
             ],
             [
              0.5555555555555556,
              "#d8576b"
             ],
             [
              0.6666666666666666,
              "#ed7953"
             ],
             [
              0.7777777777777778,
              "#fb9f3a"
             ],
             [
              0.8888888888888888,
              "#fdca26"
             ],
             [
              1,
              "#f0f921"
             ]
            ],
            "type": "surface"
           }
          ],
          "table": [
           {
            "cells": {
             "fill": {
              "color": "#EBF0F8"
             },
             "line": {
              "color": "white"
             }
            },
            "header": {
             "fill": {
              "color": "#C8D4E3"
             },
             "line": {
              "color": "white"
             }
            },
            "type": "table"
           }
          ]
         },
         "layout": {
          "annotationdefaults": {
           "arrowcolor": "#2a3f5f",
           "arrowhead": 0,
           "arrowwidth": 1
          },
          "autotypenumbers": "strict",
          "coloraxis": {
           "colorbar": {
            "outlinewidth": 0,
            "ticks": ""
           }
          },
          "colorscale": {
           "diverging": [
            [
             0,
             "#8e0152"
            ],
            [
             0.1,
             "#c51b7d"
            ],
            [
             0.2,
             "#de77ae"
            ],
            [
             0.3,
             "#f1b6da"
            ],
            [
             0.4,
             "#fde0ef"
            ],
            [
             0.5,
             "#f7f7f7"
            ],
            [
             0.6,
             "#e6f5d0"
            ],
            [
             0.7,
             "#b8e186"
            ],
            [
             0.8,
             "#7fbc41"
            ],
            [
             0.9,
             "#4d9221"
            ],
            [
             1,
             "#276419"
            ]
           ],
           "sequential": [
            [
             0,
             "#0d0887"
            ],
            [
             0.1111111111111111,
             "#46039f"
            ],
            [
             0.2222222222222222,
             "#7201a8"
            ],
            [
             0.3333333333333333,
             "#9c179e"
            ],
            [
             0.4444444444444444,
             "#bd3786"
            ],
            [
             0.5555555555555556,
             "#d8576b"
            ],
            [
             0.6666666666666666,
             "#ed7953"
            ],
            [
             0.7777777777777778,
             "#fb9f3a"
            ],
            [
             0.8888888888888888,
             "#fdca26"
            ],
            [
             1,
             "#f0f921"
            ]
           ],
           "sequentialminus": [
            [
             0,
             "#0d0887"
            ],
            [
             0.1111111111111111,
             "#46039f"
            ],
            [
             0.2222222222222222,
             "#7201a8"
            ],
            [
             0.3333333333333333,
             "#9c179e"
            ],
            [
             0.4444444444444444,
             "#bd3786"
            ],
            [
             0.5555555555555556,
             "#d8576b"
            ],
            [
             0.6666666666666666,
             "#ed7953"
            ],
            [
             0.7777777777777778,
             "#fb9f3a"
            ],
            [
             0.8888888888888888,
             "#fdca26"
            ],
            [
             1,
             "#f0f921"
            ]
           ]
          },
          "colorway": [
           "#636efa",
           "#EF553B",
           "#00cc96",
           "#ab63fa",
           "#FFA15A",
           "#19d3f3",
           "#FF6692",
           "#B6E880",
           "#FF97FF",
           "#FECB52"
          ],
          "font": {
           "color": "#2a3f5f"
          },
          "geo": {
           "bgcolor": "white",
           "lakecolor": "white",
           "landcolor": "#E5ECF6",
           "showlakes": true,
           "showland": true,
           "subunitcolor": "white"
          },
          "hoverlabel": {
           "align": "left"
          },
          "hovermode": "closest",
          "mapbox": {
           "style": "light"
          },
          "paper_bgcolor": "white",
          "plot_bgcolor": "#E5ECF6",
          "polar": {
           "angularaxis": {
            "gridcolor": "white",
            "linecolor": "white",
            "ticks": ""
           },
           "bgcolor": "#E5ECF6",
           "radialaxis": {
            "gridcolor": "white",
            "linecolor": "white",
            "ticks": ""
           }
          },
          "scene": {
           "xaxis": {
            "backgroundcolor": "#E5ECF6",
            "gridcolor": "white",
            "gridwidth": 2,
            "linecolor": "white",
            "showbackground": true,
            "ticks": "",
            "zerolinecolor": "white"
           },
           "yaxis": {
            "backgroundcolor": "#E5ECF6",
            "gridcolor": "white",
            "gridwidth": 2,
            "linecolor": "white",
            "showbackground": true,
            "ticks": "",
            "zerolinecolor": "white"
           },
           "zaxis": {
            "backgroundcolor": "#E5ECF6",
            "gridcolor": "white",
            "gridwidth": 2,
            "linecolor": "white",
            "showbackground": true,
            "ticks": "",
            "zerolinecolor": "white"
           }
          },
          "shapedefaults": {
           "line": {
            "color": "#2a3f5f"
           }
          },
          "ternary": {
           "aaxis": {
            "gridcolor": "white",
            "linecolor": "white",
            "ticks": ""
           },
           "baxis": {
            "gridcolor": "white",
            "linecolor": "white",
            "ticks": ""
           },
           "bgcolor": "#E5ECF6",
           "caxis": {
            "gridcolor": "white",
            "linecolor": "white",
            "ticks": ""
           }
          },
          "title": {
           "x": 0.05
          },
          "xaxis": {
           "automargin": true,
           "gridcolor": "white",
           "linecolor": "white",
           "ticks": "",
           "title": {
            "standoff": 15
           },
           "zerolinecolor": "white",
           "zerolinewidth": 2
          },
          "yaxis": {
           "automargin": true,
           "gridcolor": "white",
           "linecolor": "white",
           "ticks": "",
           "title": {
            "standoff": 15
           },
           "zerolinecolor": "white",
           "zerolinewidth": 2
          }
         }
        },
        "title": {
         "text": "973,117 Prompts were Successfully Generated by 24,485 Users Across 13 Days"
        },
        "width": 900,
        "xaxis": {
         "autorange": true,
         "range": [
          "2023-10-24 12:00",
          "2023-11-09 12:00"
         ],
         "showgrid": false,
         "tickformat": "%m-%d",
         "tickvals": [
          "2023-10-25",
          "2023-10-26",
          "2023-10-27",
          "2023-10-28",
          "2023-10-29",
          "2023-10-30",
          "2023-11-02",
          "2023-11-03",
          "2023-11-04",
          "2023-11-05",
          "2023-11-06",
          "2023-11-08",
          "2023-11-09"
         ],
         "type": "date"
        },
        "yaxis": {
         "autorange": true,
         "range": [
          0,
          99610.52631578947
         ],
         "showgrid": false,
         "type": "linear"
        }
       }
      },
      "image/png": "[encoded data removed]",
      "text/html": [
       "<div>                            <div id=\"7235c1bd-12df-49c2-8a0c-26c385bc760c\" class=\"plotly-graph-div\" style=\"height:600px; width:900px;\"></div>            <script type=\"text/javascript\">                require([\"plotly\"], function(Plotly) {                    window.PLOTLYENV=window.PLOTLYENV || {};                                    if (document.getElementById(\"7235c1bd-12df-49c2-8a0c-26c385bc760c\")) {                    Plotly.newPlot(                        \"7235c1bd-12df-49c2-8a0c-26c385bc760c\",                        [{\"marker\":{\"color\":\"rgb(151,166,196)\"},\"name\":\"Total Prompts Posted Each Day\",\"x\":[\"2023-10-25\",\"2023-10-26\",\"2023-10-27\",\"2023-10-28\",\"2023-10-29\",\"2023-10-30\",\"2023-11-02\",\"2023-11-03\",\"2023-11-04\",\"2023-11-05\",\"2023-11-06\",\"2023-11-08\",\"2023-11-09\"],\"y\":[60554,88514,87925,93805,94630,41924,82922,86052,90539,87973,62357,83122,12800],\"type\":\"bar\"}],                        {\"template\":{\"data\":{\"histogram2dcontour\":[{\"type\":\"histogram2dcontour\",\"colorbar\":{\"outlinewidth\":0,\"ticks\":\"\"},\"colorscale\":[[0.0,\"#0d0887\"],[0.1111111111111111,\"#46039f\"],[0.2222222222222222,\"#7201a8\"],[0.3333333333333333,\"#9c179e\"],[0.4444444444444444,\"#bd3786\"],[0.5555555555555556,\"#d8576b\"],[0.6666666666666666,\"#ed7953\"],[0.7777777777777778,\"#fb9f3a\"],[0.8888888888888888,\"#fdca26\"],[1.0,\"#f0f921\"]]}],\"choropleth\":[{\"type\":\"choropleth\",\"colorbar\":{\"outlinewidth\":0,\"ticks\":\"\"}}],\"histogram2d\":[{\"type\":\"histogram2d\",\"colorbar\":{\"outlinewidth\":0,\"ticks\":\"\"},\"colorscale\":[[0.0,\"#0d0887\"],[0.1111111111111111,\"#46039f\"],[0.2222222222222222,\"#7201a8\"],[0.3333333333333333,\"#9c179e\"],[0.4444444444444444,\"#bd3786\"],[0.5555555555555556,\"#d8576b\"],[0.6666666666666666,\"#ed7953\"],[0.7777777777777778,\"#fb9f3a\"],[0.8888888888888888,\"#fdca26\"],[1.0,\"#f0f921\"]]}],\"heatmap\":[{\"type\":\"heatmap\",\"colorbar\":{\"outlinewidth\":0,\"ticks\":\"\"},\"colorscale\":[[0.0,\"#0d0887\"],[0.1111111111111111,\"#46039f\"],[0.2222222222222222,\"#7201a8\"],[0.3333333333333333,\"#9c179e\"],[0.4444444444444444,\"#bd3786\"],[0.5555555555555556,\"#d8576b\"],[0.6666666666666666,\"#ed7953\"],[0.7777777777777778,\"#fb9f3a\"],[0.8888888888888888,\"#fdca26\"],[1.0,\"#f0f921\"]]}],\"heatmapgl\":[{\"type\":\"heatmapgl\",\"colorbar\":{\"outlinewidth\":0,\"ticks\":\"\"},\"colorscale\":[[0.0,\"#0d0887\"],[0.1111111111111111,\"#46039f\"],[0.2222222222222222,\"#7201a8\"],[0.3333333333333333,\"#9c179e\"],[0.4444444444444444,\"#bd3786\"],[0.5555555555555556,\"#d8576b\"],[0.6666666666666666,\"#ed7953\"],[0.7777777777777778,\"#fb9f3a\"],[0.8888888888888888,\"#fdca26\"],[1.0,\"#f0f921\"]]}],\"contourcarpet\":[{\"type\":\"contourcarpet\",\"colorbar\":{\"outlinewidth\":0,\"ticks\":\"\"}}],\"contour\":[{\"type\":\"contour\",\"colorbar\":{\"outlinewidth\":0,\"ticks\":\"\"},\"colorscale\":[[0.0,\"#0d0887\"],[0.1111111111111111,\"#46039f\"],[0.2222222222222222,\"#7201a8\"],[0.3333333333333333,\"#9c179e\"],[0.4444444444444444,\"#bd3786\"],[0.5555555555555556,\"#d8576b\"],[0.6666666666666666,\"#ed7953\"],[0.7777777777777778,\"#fb9f3a\"],[0.8888888888888888,\"#fdca26\"],[1.0,\"#f0f921\"]]}],\"surface\":[{\"type\":\"surface\",\"colorbar\":{\"outlinewidth\":0,\"ticks\":\"\"},\"colorscale\":[[0.0,\"#0d0887\"],[0.1111111111111111,\"#46039f\"],[0.2222222222222222,\"#7201a8\"],[0.3333333333333333,\"#9c179e\"],[0.4444444444444444,\"#bd3786\"],[0.5555555555555556,\"#d8576b\"],[0.6666666666666666,\"#ed7953\"],[0.7777777777777778,\"#fb9f3a\"],[0.8888888888888888,\"#fdca26\"],[1.0,\"#f0f921\"]]}],\"mesh3d\":[{\"type\":\"mesh3d\",\"colorbar\":{\"outlinewidth\":0,\"ticks\":\"\"}}],\"scatter\":[{\"fillpattern\":{\"fillmode\":\"overlay\",\"size\":10,\"solidity\":0.2},\"type\":\"scatter\"}],\"parcoords\":[{\"type\":\"parcoords\",\"line\":{\"colorbar\":{\"outlinewidth\":0,\"ticks\":\"\"}}}],\"scatterpolargl\":[{\"type\":\"scatterpolargl\",\"marker\":{\"colorbar\":{\"outlinewidth\":0,\"ticks\":\"\"}}}],\"bar\":[{\"error_x\":{\"color\":\"#2a3f5f\"},\"error_y\":{\"color\":\"#2a3f5f\"},\"marker\":{\"line\":{\"color\":\"#E5ECF6\",\"width\":0.5},\"pattern\":{\"fillmode\":\"overlay\",\"size\":10,\"solidity\":0.2}},\"type\":\"bar\"}],\"scattergeo\":[{\"type\":\"scattergeo\",\"marker\":{\"colorbar\":{\"outlinewidth\":0,\"ticks\":\"\"}}}],\"scatterpolar\":[{\"type\":\"scatterpolar\",\"marker\":{\"colorbar\":{\"outlinewidth\":0,\"ticks\":\"\"}}}],\"histogram\":[{\"marker\":{\"pattern\":{\"fillmode\":\"overlay\",\"size\":10,\"solidity\":0.2}},\"type\":\"histogram\"}],\"scattergl\":[{\"type\":\"scattergl\",\"marker\":{\"colorbar\":{\"outlinewidth\":0,\"ticks\":\"\"}}}],\"scatter3d\":[{\"type\":\"scatter3d\",\"line\":{\"colorbar\":{\"outlinewidth\":0,\"ticks\":\"\"}},\"marker\":{\"colorbar\":{\"outlinewidth\":0,\"ticks\":\"\"}}}],\"scattermapbox\":[{\"type\":\"scattermapbox\",\"marker\":{\"colorbar\":{\"outlinewidth\":0,\"ticks\":\"\"}}}],\"scatterternary\":[{\"type\":\"scatterternary\",\"marker\":{\"colorbar\":{\"outlinewidth\":0,\"ticks\":\"\"}}}],\"scattercarpet\":[{\"type\":\"scattercarpet\",\"marker\":{\"colorbar\":{\"outlinewidth\":0,\"ticks\":\"\"}}}],\"carpet\":[{\"aaxis\":{\"endlinecolor\":\"#2a3f5f\",\"gridcolor\":\"white\",\"linecolor\":\"white\",\"minorgridcolor\":\"white\",\"startlinecolor\":\"#2a3f5f\"},\"baxis\":{\"endlinecolor\":\"#2a3f5f\",\"gridcolor\":\"white\",\"linecolor\":\"white\",\"minorgridcolor\":\"white\",\"startlinecolor\":\"#2a3f5f\"},\"type\":\"carpet\"}],\"table\":[{\"cells\":{\"fill\":{\"color\":\"#EBF0F8\"},\"line\":{\"color\":\"white\"}},\"header\":{\"fill\":{\"color\":\"#C8D4E3\"},\"line\":{\"color\":\"white\"}},\"type\":\"table\"}],\"barpolar\":[{\"marker\":{\"line\":{\"color\":\"#E5ECF6\",\"width\":0.5},\"pattern\":{\"fillmode\":\"overlay\",\"size\":10,\"solidity\":0.2}},\"type\":\"barpolar\"}],\"pie\":[{\"automargin\":true,\"type\":\"pie\"}]},\"layout\":{\"autotypenumbers\":\"strict\",\"colorway\":[\"#636efa\",\"#EF553B\",\"#00cc96\",\"#ab63fa\",\"#FFA15A\",\"#19d3f3\",\"#FF6692\",\"#B6E880\",\"#FF97FF\",\"#FECB52\"],\"font\":{\"color\":\"#2a3f5f\"},\"hovermode\":\"closest\",\"hoverlabel\":{\"align\":\"left\"},\"paper_bgcolor\":\"white\",\"plot_bgcolor\":\"#E5ECF6\",\"polar\":{\"bgcolor\":\"#E5ECF6\",\"angularaxis\":{\"gridcolor\":\"white\",\"linecolor\":\"white\",\"ticks\":\"\"},\"radialaxis\":{\"gridcolor\":\"white\",\"linecolor\":\"white\",\"ticks\":\"\"}},\"ternary\":{\"bgcolor\":\"#E5ECF6\",\"aaxis\":{\"gridcolor\":\"white\",\"linecolor\":\"white\",\"ticks\":\"\"},\"baxis\":{\"gridcolor\":\"white\",\"linecolor\":\"white\",\"ticks\":\"\"},\"caxis\":{\"gridcolor\":\"white\",\"linecolor\":\"white\",\"ticks\":\"\"}},\"coloraxis\":{\"colorbar\":{\"outlinewidth\":0,\"ticks\":\"\"}},\"colorscale\":{\"sequential\":[[0.0,\"#0d0887\"],[0.1111111111111111,\"#46039f\"],[0.2222222222222222,\"#7201a8\"],[0.3333333333333333,\"#9c179e\"],[0.4444444444444444,\"#bd3786\"],[0.5555555555555556,\"#d8576b\"],[0.6666666666666666,\"#ed7953\"],[0.7777777777777778,\"#fb9f3a\"],[0.8888888888888888,\"#fdca26\"],[1.0,\"#f0f921\"]],\"sequentialminus\":[[0.0,\"#0d0887\"],[0.1111111111111111,\"#46039f\"],[0.2222222222222222,\"#7201a8\"],[0.3333333333333333,\"#9c179e\"],[0.4444444444444444,\"#bd3786\"],[0.5555555555555556,\"#d8576b\"],[0.6666666666666666,\"#ed7953\"],[0.7777777777777778,\"#fb9f3a\"],[0.8888888888888888,\"#fdca26\"],[1.0,\"#f0f921\"]],\"diverging\":[[0,\"#8e0152\"],[0.1,\"#c51b7d\"],[0.2,\"#de77ae\"],[0.3,\"#f1b6da\"],[0.4,\"#fde0ef\"],[0.5,\"#f7f7f7\"],[0.6,\"#e6f5d0\"],[0.7,\"#b8e186\"],[0.8,\"#7fbc41\"],[0.9,\"#4d9221\"],[1,\"#276419\"]]},\"xaxis\":{\"gridcolor\":\"white\",\"linecolor\":\"white\",\"ticks\":\"\",\"title\":{\"standoff\":15},\"zerolinecolor\":\"white\",\"automargin\":true,\"zerolinewidth\":2},\"yaxis\":{\"gridcolor\":\"white\",\"linecolor\":\"white\",\"ticks\":\"\",\"title\":{\"standoff\":15},\"zerolinecolor\":\"white\",\"automargin\":true,\"zerolinewidth\":2},\"scene\":{\"xaxis\":{\"backgroundcolor\":\"#E5ECF6\",\"gridcolor\":\"white\",\"linecolor\":\"white\",\"showbackground\":true,\"ticks\":\"\",\"zerolinecolor\":\"white\",\"gridwidth\":2},\"yaxis\":{\"backgroundcolor\":\"#E5ECF6\",\"gridcolor\":\"white\",\"linecolor\":\"white\",\"showbackground\":true,\"ticks\":\"\",\"zerolinecolor\":\"white\",\"gridwidth\":2},\"zaxis\":{\"backgroundcolor\":\"#E5ECF6\",\"gridcolor\":\"white\",\"linecolor\":\"white\",\"showbackground\":true,\"ticks\":\"\",\"zerolinecolor\":\"white\",\"gridwidth\":2}},\"shapedefaults\":{\"line\":{\"color\":\"#2a3f5f\"}},\"annotationdefaults\":{\"arrowcolor\":\"#2a3f5f\",\"arrowhead\":0,\"arrowwidth\":1},\"geo\":{\"bgcolor\":\"white\",\"landcolor\":\"#E5ECF6\",\"subunitcolor\":\"white\",\"showland\":true,\"showlakes\":true,\"lakecolor\":\"white\"},\"title\":{\"x\":0.05},\"mapbox\":{\"style\":\"light\"}}},\"margin\":{\"l\":50,\"r\":50,\"b\":100,\"t\":100,\"pad\":6},\"hoverlabel\":{\"font\":{\"size\":15},\"bgcolor\":\"white\"},\"title\":{\"text\":\"973,117 Prompts were Successfully Generated by 24,485 Users Across 13 Days\"},\"autosize\":false,\"width\":900,\"height\":600,\"xaxis\":{\"showgrid\":false,\"tickvals\":[\"2023-10-25\",\"2023-10-26\",\"2023-10-27\",\"2023-10-28\",\"2023-10-29\",\"2023-10-30\",\"2023-11-02\",\"2023-11-03\",\"2023-11-04\",\"2023-11-05\",\"2023-11-06\",\"2023-11-08\",\"2023-11-09\"],\"tickformat\":\"%m-%d\"},\"yaxis\":{\"showgrid\":false}},                        {\"responsive\": true}                    ).then(function(){\n",
       "                            \n",
       "var gd = document.getElementById('7235c1bd-12df-49c2-8a0c-26c385bc760c');\n",
       "var x = new MutationObserver(function (mutations, observer) {{\n",
       "        var display = window.getComputedStyle(gd).display;\n",
       "        if (!display || display === 'none') {{\n",
       "            console.log([gd, 'removed!']);\n",
       "            Plotly.purge(gd);\n",
       "            observer.disconnect();\n",
       "        }}\n",
       "}});\n",
       "\n",
       "// Listen for the removal of the full notebook cells\n",
       "var notebookContainer = gd.closest('#notebook-container');\n",
       "if (notebookContainer) {{\n",
       "    x.observe(notebookContainer, {childList: true});\n",
       "}}\n",
       "\n",
       "// Listen for the clearing of the current output cell\n",
       "var outputEl = gd.closest('.output');\n",
       "if (outputEl) {{\n",
       "    x.observe(outputEl, {childList: true});\n",
       "}}\n",
       "\n",
       "                        })                };                });            </script>        </div>"
      ]
     },
     "metadata": {},
     "output_type": "display_data"
    },
    {
     "data": {
      "application/vnd.plotly.v1+json": {
       "config": {
        "plotlyServerURL": "https://plot.ly"
       },
       "data": [
        {
         "marker": {
          "color": "rgb(151,166,196)"
         },
         "name": "Total Daily Prompts",
         "type": "bar",
         "x": [
          "2023-10-25",
          "2023-10-26",
          "2023-10-27",
          "2023-10-28",
          "2023-10-29",
          "2023-10-30",
          "2023-11-02",
          "2023-11-03",
          "2023-11-04",
          "2023-11-05",
          "2023-11-06",
          "2023-11-08",
          "2023-11-09"
         ],
         "y": [
          60554,
          88514,
          87925,
          93805,
          94630,
          41924,
          82922,
          86052,
          90539,
          87973,
          62357,
          83122,
          12800
         ]
        },
        {
         "marker": {
          "color": "rgb(56,72,96)"
         },
         "name": "Total Unique Daily Prompts",
         "type": "bar",
         "x": [
          "2023-10-25",
          "2023-10-26",
          "2023-10-27",
          "2023-10-28",
          "2023-10-29",
          "2023-10-30",
          "2023-11-02",
          "2023-11-03",
          "2023-11-04",
          "2023-11-05",
          "2023-11-06",
          "2023-11-08",
          "2023-11-09"
         ],
         "y": [
          14597,
          18892,
          17918,
          15685,
          15395,
          6871,
          17376,
          17202,
          14836,
          15270,
          12759,
          18581,
          2511
         ]
        }
       ],
       "layout": {
        "autosize": false,
        "barmode": "overlay",
        "height": 600,
        "hoverlabel": {
         "bgcolor": "white",
         "font": {
          "size": 15
         }
        },
        "legend": {
         "x": 0.5,
         "xanchor": "center",
         "y": -0.2,
         "yanchor": "top"
        },
        "margin": {
         "b": 100,
         "l": 50,
         "pad": 6,
         "r": 50,
         "t": 100
        },
        "template": {
         "data": {
          "bar": [
           {
            "error_x": {
             "color": "#2a3f5f"
            },
            "error_y": {
             "color": "#2a3f5f"
            },
            "marker": {
             "line": {
              "color": "#E5ECF6",
              "width": 0.5
             },
             "pattern": {
              "fillmode": "overlay",
              "size": 10,
              "solidity": 0.2
             }
            },
            "type": "bar"
           }
          ],
          "barpolar": [
           {
            "marker": {
             "line": {
              "color": "#E5ECF6",
              "width": 0.5
             },
             "pattern": {
              "fillmode": "overlay",
              "size": 10,
              "solidity": 0.2
             }
            },
            "type": "barpolar"
           }
          ],
          "carpet": [
           {
            "aaxis": {
             "endlinecolor": "#2a3f5f",
             "gridcolor": "white",
             "linecolor": "white",
             "minorgridcolor": "white",
             "startlinecolor": "#2a3f5f"
            },
            "baxis": {
             "endlinecolor": "#2a3f5f",
             "gridcolor": "white",
             "linecolor": "white",
             "minorgridcolor": "white",
             "startlinecolor": "#2a3f5f"
            },
            "type": "carpet"
           }
          ],
          "choropleth": [
           {
            "colorbar": {
             "outlinewidth": 0,
             "ticks": ""
            },
            "type": "choropleth"
           }
          ],
          "contour": [
           {
            "colorbar": {
             "outlinewidth": 0,
             "ticks": ""
            },
            "colorscale": [
             [
              0,
              "#0d0887"
             ],
             [
              0.1111111111111111,
              "#46039f"
             ],
             [
              0.2222222222222222,
              "#7201a8"
             ],
             [
              0.3333333333333333,
              "#9c179e"
             ],
             [
              0.4444444444444444,
              "#bd3786"
             ],
             [
              0.5555555555555556,
              "#d8576b"
             ],
             [
              0.6666666666666666,
              "#ed7953"
             ],
             [
              0.7777777777777778,
              "#fb9f3a"
             ],
             [
              0.8888888888888888,
              "#fdca26"
             ],
             [
              1,
              "#f0f921"
             ]
            ],
            "type": "contour"
           }
          ],
          "contourcarpet": [
           {
            "colorbar": {
             "outlinewidth": 0,
             "ticks": ""
            },
            "type": "contourcarpet"
           }
          ],
          "heatmap": [
           {
            "colorbar": {
             "outlinewidth": 0,
             "ticks": ""
            },
            "colorscale": [
             [
              0,
              "#0d0887"
             ],
             [
              0.1111111111111111,
              "#46039f"
             ],
             [
              0.2222222222222222,
              "#7201a8"
             ],
             [
              0.3333333333333333,
              "#9c179e"
             ],
             [
              0.4444444444444444,
              "#bd3786"
             ],
             [
              0.5555555555555556,
              "#d8576b"
             ],
             [
              0.6666666666666666,
              "#ed7953"
             ],
             [
              0.7777777777777778,
              "#fb9f3a"
             ],
             [
              0.8888888888888888,
              "#fdca26"
             ],
             [
              1,
              "#f0f921"
             ]
            ],
            "type": "heatmap"
           }
          ],
          "heatmapgl": [
           {
            "colorbar": {
             "outlinewidth": 0,
             "ticks": ""
            },
            "colorscale": [
             [
              0,
              "#0d0887"
             ],
             [
              0.1111111111111111,
              "#46039f"
             ],
             [
              0.2222222222222222,
              "#7201a8"
             ],
             [
              0.3333333333333333,
              "#9c179e"
             ],
             [
              0.4444444444444444,
              "#bd3786"
             ],
             [
              0.5555555555555556,
              "#d8576b"
             ],
             [
              0.6666666666666666,
              "#ed7953"
             ],
             [
              0.7777777777777778,
              "#fb9f3a"
             ],
             [
              0.8888888888888888,
              "#fdca26"
             ],
             [
              1,
              "#f0f921"
             ]
            ],
            "type": "heatmapgl"
           }
          ],
          "histogram": [
           {
            "marker": {
             "pattern": {
              "fillmode": "overlay",
              "size": 10,
              "solidity": 0.2
             }
            },
            "type": "histogram"
           }
          ],
          "histogram2d": [
           {
            "colorbar": {
             "outlinewidth": 0,
             "ticks": ""
            },
            "colorscale": [
             [
              0,
              "#0d0887"
             ],
             [
              0.1111111111111111,
              "#46039f"
             ],
             [
              0.2222222222222222,
              "#7201a8"
             ],
             [
              0.3333333333333333,
              "#9c179e"
             ],
             [
              0.4444444444444444,
              "#bd3786"
             ],
             [
              0.5555555555555556,
              "#d8576b"
             ],
             [
              0.6666666666666666,
              "#ed7953"
             ],
             [
              0.7777777777777778,
              "#fb9f3a"
             ],
             [
              0.8888888888888888,
              "#fdca26"
             ],
             [
              1,
              "#f0f921"
             ]
            ],
            "type": "histogram2d"
           }
          ],
          "histogram2dcontour": [
           {
            "colorbar": {
             "outlinewidth": 0,
             "ticks": ""
            },
            "colorscale": [
             [
              0,
              "#0d0887"
             ],
             [
              0.1111111111111111,
              "#46039f"
             ],
             [
              0.2222222222222222,
              "#7201a8"
             ],
             [
              0.3333333333333333,
              "#9c179e"
             ],
             [
              0.4444444444444444,
              "#bd3786"
             ],
             [
              0.5555555555555556,
              "#d8576b"
             ],
             [
              0.6666666666666666,
              "#ed7953"
             ],
             [
              0.7777777777777778,
              "#fb9f3a"
             ],
             [
              0.8888888888888888,
              "#fdca26"
             ],
             [
              1,
              "#f0f921"
             ]
            ],
            "type": "histogram2dcontour"
           }
          ],
          "mesh3d": [
           {
            "colorbar": {
             "outlinewidth": 0,
             "ticks": ""
            },
            "type": "mesh3d"
           }
          ],
          "parcoords": [
           {
            "line": {
             "colorbar": {
              "outlinewidth": 0,
              "ticks": ""
             }
            },
            "type": "parcoords"
           }
          ],
          "pie": [
           {
            "automargin": true,
            "type": "pie"
           }
          ],
          "scatter": [
           {
            "fillpattern": {
             "fillmode": "overlay",
             "size": 10,
             "solidity": 0.2
            },
            "type": "scatter"
           }
          ],
          "scatter3d": [
           {
            "line": {
             "colorbar": {
              "outlinewidth": 0,
              "ticks": ""
             }
            },
            "marker": {
             "colorbar": {
              "outlinewidth": 0,
              "ticks": ""
             }
            },
            "type": "scatter3d"
           }
          ],
          "scattercarpet": [
           {
            "marker": {
             "colorbar": {
              "outlinewidth": 0,
              "ticks": ""
             }
            },
            "type": "scattercarpet"
           }
          ],
          "scattergeo": [
           {
            "marker": {
             "colorbar": {
              "outlinewidth": 0,
              "ticks": ""
             }
            },
            "type": "scattergeo"
           }
          ],
          "scattergl": [
           {
            "marker": {
             "colorbar": {
              "outlinewidth": 0,
              "ticks": ""
             }
            },
            "type": "scattergl"
           }
          ],
          "scattermapbox": [
           {
            "marker": {
             "colorbar": {
              "outlinewidth": 0,
              "ticks": ""
             }
            },
            "type": "scattermapbox"
           }
          ],
          "scatterpolar": [
           {
            "marker": {
             "colorbar": {
              "outlinewidth": 0,
              "ticks": ""
             }
            },
            "type": "scatterpolar"
           }
          ],
          "scatterpolargl": [
           {
            "marker": {
             "colorbar": {
              "outlinewidth": 0,
              "ticks": ""
             }
            },
            "type": "scatterpolargl"
           }
          ],
          "scatterternary": [
           {
            "marker": {
             "colorbar": {
              "outlinewidth": 0,
              "ticks": ""
             }
            },
            "type": "scatterternary"
           }
          ],
          "surface": [
           {
            "colorbar": {
             "outlinewidth": 0,
             "ticks": ""
            },
            "colorscale": [
             [
              0,
              "#0d0887"
             ],
             [
              0.1111111111111111,
              "#46039f"
             ],
             [
              0.2222222222222222,
              "#7201a8"
             ],
             [
              0.3333333333333333,
              "#9c179e"
             ],
             [
              0.4444444444444444,
              "#bd3786"
             ],
             [
              0.5555555555555556,
              "#d8576b"
             ],
             [
              0.6666666666666666,
              "#ed7953"
             ],
             [
              0.7777777777777778,
              "#fb9f3a"
             ],
             [
              0.8888888888888888,
              "#fdca26"
             ],
             [
              1,
              "#f0f921"
             ]
            ],
            "type": "surface"
           }
          ],
          "table": [
           {
            "cells": {
             "fill": {
              "color": "#EBF0F8"
             },
             "line": {
              "color": "white"
             }
            },
            "header": {
             "fill": {
              "color": "#C8D4E3"
             },
             "line": {
              "color": "white"
             }
            },
            "type": "table"
           }
          ]
         },
         "layout": {
          "annotationdefaults": {
           "arrowcolor": "#2a3f5f",
           "arrowhead": 0,
           "arrowwidth": 1
          },
          "autotypenumbers": "strict",
          "coloraxis": {
           "colorbar": {
            "outlinewidth": 0,
            "ticks": ""
           }
          },
          "colorscale": {
           "diverging": [
            [
             0,
             "#8e0152"
            ],
            [
             0.1,
             "#c51b7d"
            ],
            [
             0.2,
             "#de77ae"
            ],
            [
             0.3,
             "#f1b6da"
            ],
            [
             0.4,
             "#fde0ef"
            ],
            [
             0.5,
             "#f7f7f7"
            ],
            [
             0.6,
             "#e6f5d0"
            ],
            [
             0.7,
             "#b8e186"
            ],
            [
             0.8,
             "#7fbc41"
            ],
            [
             0.9,
             "#4d9221"
            ],
            [
             1,
             "#276419"
            ]
           ],
           "sequential": [
            [
             0,
             "#0d0887"
            ],
            [
             0.1111111111111111,
             "#46039f"
            ],
            [
             0.2222222222222222,
             "#7201a8"
            ],
            [
             0.3333333333333333,
             "#9c179e"
            ],
            [
             0.4444444444444444,
             "#bd3786"
            ],
            [
             0.5555555555555556,
             "#d8576b"
            ],
            [
             0.6666666666666666,
             "#ed7953"
            ],
            [
             0.7777777777777778,
             "#fb9f3a"
            ],
            [
             0.8888888888888888,
             "#fdca26"
            ],
            [
             1,
             "#f0f921"
            ]
           ],
           "sequentialminus": [
            [
             0,
             "#0d0887"
            ],
            [
             0.1111111111111111,
             "#46039f"
            ],
            [
             0.2222222222222222,
             "#7201a8"
            ],
            [
             0.3333333333333333,
             "#9c179e"
            ],
            [
             0.4444444444444444,
             "#bd3786"
            ],
            [
             0.5555555555555556,
             "#d8576b"
            ],
            [
             0.6666666666666666,
             "#ed7953"
            ],
            [
             0.7777777777777778,
             "#fb9f3a"
            ],
            [
             0.8888888888888888,
             "#fdca26"
            ],
            [
             1,
             "#f0f921"
            ]
           ]
          },
          "colorway": [
           "#636efa",
           "#EF553B",
           "#00cc96",
           "#ab63fa",
           "#FFA15A",
           "#19d3f3",
           "#FF6692",
           "#B6E880",
           "#FF97FF",
           "#FECB52"
          ],
          "font": {
           "color": "#2a3f5f"
          },
          "geo": {
           "bgcolor": "white",
           "lakecolor": "white",
           "landcolor": "#E5ECF6",
           "showlakes": true,
           "showland": true,
           "subunitcolor": "white"
          },
          "hoverlabel": {
           "align": "left"
          },
          "hovermode": "closest",
          "mapbox": {
           "style": "light"
          },
          "paper_bgcolor": "white",
          "plot_bgcolor": "#E5ECF6",
          "polar": {
           "angularaxis": {
            "gridcolor": "white",
            "linecolor": "white",
            "ticks": ""
           },
           "bgcolor": "#E5ECF6",
           "radialaxis": {
            "gridcolor": "white",
            "linecolor": "white",
            "ticks": ""
           }
          },
          "scene": {
           "xaxis": {
            "backgroundcolor": "#E5ECF6",
            "gridcolor": "white",
            "gridwidth": 2,
            "linecolor": "white",
            "showbackground": true,
            "ticks": "",
            "zerolinecolor": "white"
           },
           "yaxis": {
            "backgroundcolor": "#E5ECF6",
            "gridcolor": "white",
            "gridwidth": 2,
            "linecolor": "white",
            "showbackground": true,
            "ticks": "",
            "zerolinecolor": "white"
           },
           "zaxis": {
            "backgroundcolor": "#E5ECF6",
            "gridcolor": "white",
            "gridwidth": 2,
            "linecolor": "white",
            "showbackground": true,
            "ticks": "",
            "zerolinecolor": "white"
           }
          },
          "shapedefaults": {
           "line": {
            "color": "#2a3f5f"
           }
          },
          "ternary": {
           "aaxis": {
            "gridcolor": "white",
            "linecolor": "white",
            "ticks": ""
           },
           "baxis": {
            "gridcolor": "white",
            "linecolor": "white",
            "ticks": ""
           },
           "bgcolor": "#E5ECF6",
           "caxis": {
            "gridcolor": "white",
            "linecolor": "white",
            "ticks": ""
           }
          },
          "title": {
           "x": 0.05
          },
          "xaxis": {
           "automargin": true,
           "gridcolor": "white",
           "linecolor": "white",
           "ticks": "",
           "title": {
            "standoff": 15
           },
           "zerolinecolor": "white",
           "zerolinewidth": 2
          },
          "yaxis": {
           "automargin": true,
           "gridcolor": "white",
           "linecolor": "white",
           "ticks": "",
           "title": {
            "standoff": 15
           },
           "zerolinecolor": "white",
           "zerolinewidth": 2
          }
         }
        },
        "title": {
         "text": "Of Those 973,117 Prompts, 187,893 were Unique"
        },
        "width": 900,
        "xaxis": {
         "autorange": true,
         "range": [
          "2023-10-24 12:00",
          "2023-11-09 12:00"
         ],
         "showgrid": false,
         "tickformat": "%m-%d",
         "tickvals": [
          "2023-10-25",
          "2023-10-26",
          "2023-10-27",
          "2023-10-28",
          "2023-10-29",
          "2023-10-30",
          "2023-11-02",
          "2023-11-03",
          "2023-11-04",
          "2023-11-05",
          "2023-11-06",
          "2023-11-08",
          "2023-11-09"
         ],
         "type": "date"
        },
        "yaxis": {
         "autorange": true,
         "range": [
          0,
          99610.52631578948
         ],
         "showgrid": false,
         "type": "linear"
        }
       }
      },
      "image/png": "[encoded data removed]",
      "text/html": [
       "<div>                            <div id=\"482495ea-8830-40a4-a9ad-be9f8764f1ec\" class=\"plotly-graph-div\" style=\"height:600px; width:900px;\"></div>            <script type=\"text/javascript\">                require([\"plotly\"], function(Plotly) {                    window.PLOTLYENV=window.PLOTLYENV || {};                                    if (document.getElementById(\"482495ea-8830-40a4-a9ad-be9f8764f1ec\")) {                    Plotly.newPlot(                        \"482495ea-8830-40a4-a9ad-be9f8764f1ec\",                        [{\"marker\":{\"color\":\"rgb(151,166,196)\"},\"name\":\"Total Daily Prompts\",\"x\":[\"2023-10-25\",\"2023-10-26\",\"2023-10-27\",\"2023-10-28\",\"2023-10-29\",\"2023-10-30\",\"2023-11-02\",\"2023-11-03\",\"2023-11-04\",\"2023-11-05\",\"2023-11-06\",\"2023-11-08\",\"2023-11-09\"],\"y\":[60554,88514,87925,93805,94630,41924,82922,86052,90539,87973,62357,83122,12800],\"type\":\"bar\"},{\"marker\":{\"color\":\"rgb(56,72,96)\"},\"name\":\"Total Unique Daily Prompts\",\"x\":[\"2023-10-25\",\"2023-10-26\",\"2023-10-27\",\"2023-10-28\",\"2023-10-29\",\"2023-10-30\",\"2023-11-02\",\"2023-11-03\",\"2023-11-04\",\"2023-11-05\",\"2023-11-06\",\"2023-11-08\",\"2023-11-09\"],\"y\":[14597,18892,17918,15685,15395,6871,17376,17202,14836,15270,12759,18581,2511],\"type\":\"bar\"}],                        {\"template\":{\"data\":{\"histogram2dcontour\":[{\"type\":\"histogram2dcontour\",\"colorbar\":{\"outlinewidth\":0,\"ticks\":\"\"},\"colorscale\":[[0.0,\"#0d0887\"],[0.1111111111111111,\"#46039f\"],[0.2222222222222222,\"#7201a8\"],[0.3333333333333333,\"#9c179e\"],[0.4444444444444444,\"#bd3786\"],[0.5555555555555556,\"#d8576b\"],[0.6666666666666666,\"#ed7953\"],[0.7777777777777778,\"#fb9f3a\"],[0.8888888888888888,\"#fdca26\"],[1.0,\"#f0f921\"]]}],\"choropleth\":[{\"type\":\"choropleth\",\"colorbar\":{\"outlinewidth\":0,\"ticks\":\"\"}}],\"histogram2d\":[{\"type\":\"histogram2d\",\"colorbar\":{\"outlinewidth\":0,\"ticks\":\"\"},\"colorscale\":[[0.0,\"#0d0887\"],[0.1111111111111111,\"#46039f\"],[0.2222222222222222,\"#7201a8\"],[0.3333333333333333,\"#9c179e\"],[0.4444444444444444,\"#bd3786\"],[0.5555555555555556,\"#d8576b\"],[0.6666666666666666,\"#ed7953\"],[0.7777777777777778,\"#fb9f3a\"],[0.8888888888888888,\"#fdca26\"],[1.0,\"#f0f921\"]]}],\"heatmap\":[{\"type\":\"heatmap\",\"colorbar\":{\"outlinewidth\":0,\"ticks\":\"\"},\"colorscale\":[[0.0,\"#0d0887\"],[0.1111111111111111,\"#46039f\"],[0.2222222222222222,\"#7201a8\"],[0.3333333333333333,\"#9c179e\"],[0.4444444444444444,\"#bd3786\"],[0.5555555555555556,\"#d8576b\"],[0.6666666666666666,\"#ed7953\"],[0.7777777777777778,\"#fb9f3a\"],[0.8888888888888888,\"#fdca26\"],[1.0,\"#f0f921\"]]}],\"heatmapgl\":[{\"type\":\"heatmapgl\",\"colorbar\":{\"outlinewidth\":0,\"ticks\":\"\"},\"colorscale\":[[0.0,\"#0d0887\"],[0.1111111111111111,\"#46039f\"],[0.2222222222222222,\"#7201a8\"],[0.3333333333333333,\"#9c179e\"],[0.4444444444444444,\"#bd3786\"],[0.5555555555555556,\"#d8576b\"],[0.6666666666666666,\"#ed7953\"],[0.7777777777777778,\"#fb9f3a\"],[0.8888888888888888,\"#fdca26\"],[1.0,\"#f0f921\"]]}],\"contourcarpet\":[{\"type\":\"contourcarpet\",\"colorbar\":{\"outlinewidth\":0,\"ticks\":\"\"}}],\"contour\":[{\"type\":\"contour\",\"colorbar\":{\"outlinewidth\":0,\"ticks\":\"\"},\"colorscale\":[[0.0,\"#0d0887\"],[0.1111111111111111,\"#46039f\"],[0.2222222222222222,\"#7201a8\"],[0.3333333333333333,\"#9c179e\"],[0.4444444444444444,\"#bd3786\"],[0.5555555555555556,\"#d8576b\"],[0.6666666666666666,\"#ed7953\"],[0.7777777777777778,\"#fb9f3a\"],[0.8888888888888888,\"#fdca26\"],[1.0,\"#f0f921\"]]}],\"surface\":[{\"type\":\"surface\",\"colorbar\":{\"outlinewidth\":0,\"ticks\":\"\"},\"colorscale\":[[0.0,\"#0d0887\"],[0.1111111111111111,\"#46039f\"],[0.2222222222222222,\"#7201a8\"],[0.3333333333333333,\"#9c179e\"],[0.4444444444444444,\"#bd3786\"],[0.5555555555555556,\"#d8576b\"],[0.6666666666666666,\"#ed7953\"],[0.7777777777777778,\"#fb9f3a\"],[0.8888888888888888,\"#fdca26\"],[1.0,\"#f0f921\"]]}],\"mesh3d\":[{\"type\":\"mesh3d\",\"colorbar\":{\"outlinewidth\":0,\"ticks\":\"\"}}],\"scatter\":[{\"fillpattern\":{\"fillmode\":\"overlay\",\"size\":10,\"solidity\":0.2},\"type\":\"scatter\"}],\"parcoords\":[{\"type\":\"parcoords\",\"line\":{\"colorbar\":{\"outlinewidth\":0,\"ticks\":\"\"}}}],\"scatterpolargl\":[{\"type\":\"scatterpolargl\",\"marker\":{\"colorbar\":{\"outlinewidth\":0,\"ticks\":\"\"}}}],\"bar\":[{\"error_x\":{\"color\":\"#2a3f5f\"},\"error_y\":{\"color\":\"#2a3f5f\"},\"marker\":{\"line\":{\"color\":\"#E5ECF6\",\"width\":0.5},\"pattern\":{\"fillmode\":\"overlay\",\"size\":10,\"solidity\":0.2}},\"type\":\"bar\"}],\"scattergeo\":[{\"type\":\"scattergeo\",\"marker\":{\"colorbar\":{\"outlinewidth\":0,\"ticks\":\"\"}}}],\"scatterpolar\":[{\"type\":\"scatterpolar\",\"marker\":{\"colorbar\":{\"outlinewidth\":0,\"ticks\":\"\"}}}],\"histogram\":[{\"marker\":{\"pattern\":{\"fillmode\":\"overlay\",\"size\":10,\"solidity\":0.2}},\"type\":\"histogram\"}],\"scattergl\":[{\"type\":\"scattergl\",\"marker\":{\"colorbar\":{\"outlinewidth\":0,\"ticks\":\"\"}}}],\"scatter3d\":[{\"type\":\"scatter3d\",\"line\":{\"colorbar\":{\"outlinewidth\":0,\"ticks\":\"\"}},\"marker\":{\"colorbar\":{\"outlinewidth\":0,\"ticks\":\"\"}}}],\"scattermapbox\":[{\"type\":\"scattermapbox\",\"marker\":{\"colorbar\":{\"outlinewidth\":0,\"ticks\":\"\"}}}],\"scatterternary\":[{\"type\":\"scatterternary\",\"marker\":{\"colorbar\":{\"outlinewidth\":0,\"ticks\":\"\"}}}],\"scattercarpet\":[{\"type\":\"scattercarpet\",\"marker\":{\"colorbar\":{\"outlinewidth\":0,\"ticks\":\"\"}}}],\"carpet\":[{\"aaxis\":{\"endlinecolor\":\"#2a3f5f\",\"gridcolor\":\"white\",\"linecolor\":\"white\",\"minorgridcolor\":\"white\",\"startlinecolor\":\"#2a3f5f\"},\"baxis\":{\"endlinecolor\":\"#2a3f5f\",\"gridcolor\":\"white\",\"linecolor\":\"white\",\"minorgridcolor\":\"white\",\"startlinecolor\":\"#2a3f5f\"},\"type\":\"carpet\"}],\"table\":[{\"cells\":{\"fill\":{\"color\":\"#EBF0F8\"},\"line\":{\"color\":\"white\"}},\"header\":{\"fill\":{\"color\":\"#C8D4E3\"},\"line\":{\"color\":\"white\"}},\"type\":\"table\"}],\"barpolar\":[{\"marker\":{\"line\":{\"color\":\"#E5ECF6\",\"width\":0.5},\"pattern\":{\"fillmode\":\"overlay\",\"size\":10,\"solidity\":0.2}},\"type\":\"barpolar\"}],\"pie\":[{\"automargin\":true,\"type\":\"pie\"}]},\"layout\":{\"autotypenumbers\":\"strict\",\"colorway\":[\"#636efa\",\"#EF553B\",\"#00cc96\",\"#ab63fa\",\"#FFA15A\",\"#19d3f3\",\"#FF6692\",\"#B6E880\",\"#FF97FF\",\"#FECB52\"],\"font\":{\"color\":\"#2a3f5f\"},\"hovermode\":\"closest\",\"hoverlabel\":{\"align\":\"left\"},\"paper_bgcolor\":\"white\",\"plot_bgcolor\":\"#E5ECF6\",\"polar\":{\"bgcolor\":\"#E5ECF6\",\"angularaxis\":{\"gridcolor\":\"white\",\"linecolor\":\"white\",\"ticks\":\"\"},\"radialaxis\":{\"gridcolor\":\"white\",\"linecolor\":\"white\",\"ticks\":\"\"}},\"ternary\":{\"bgcolor\":\"#E5ECF6\",\"aaxis\":{\"gridcolor\":\"white\",\"linecolor\":\"white\",\"ticks\":\"\"},\"baxis\":{\"gridcolor\":\"white\",\"linecolor\":\"white\",\"ticks\":\"\"},\"caxis\":{\"gridcolor\":\"white\",\"linecolor\":\"white\",\"ticks\":\"\"}},\"coloraxis\":{\"colorbar\":{\"outlinewidth\":0,\"ticks\":\"\"}},\"colorscale\":{\"sequential\":[[0.0,\"#0d0887\"],[0.1111111111111111,\"#46039f\"],[0.2222222222222222,\"#7201a8\"],[0.3333333333333333,\"#9c179e\"],[0.4444444444444444,\"#bd3786\"],[0.5555555555555556,\"#d8576b\"],[0.6666666666666666,\"#ed7953\"],[0.7777777777777778,\"#fb9f3a\"],[0.8888888888888888,\"#fdca26\"],[1.0,\"#f0f921\"]],\"sequentialminus\":[[0.0,\"#0d0887\"],[0.1111111111111111,\"#46039f\"],[0.2222222222222222,\"#7201a8\"],[0.3333333333333333,\"#9c179e\"],[0.4444444444444444,\"#bd3786\"],[0.5555555555555556,\"#d8576b\"],[0.6666666666666666,\"#ed7953\"],[0.7777777777777778,\"#fb9f3a\"],[0.8888888888888888,\"#fdca26\"],[1.0,\"#f0f921\"]],\"diverging\":[[0,\"#8e0152\"],[0.1,\"#c51b7d\"],[0.2,\"#de77ae\"],[0.3,\"#f1b6da\"],[0.4,\"#fde0ef\"],[0.5,\"#f7f7f7\"],[0.6,\"#e6f5d0\"],[0.7,\"#b8e186\"],[0.8,\"#7fbc41\"],[0.9,\"#4d9221\"],[1,\"#276419\"]]},\"xaxis\":{\"gridcolor\":\"white\",\"linecolor\":\"white\",\"ticks\":\"\",\"title\":{\"standoff\":15},\"zerolinecolor\":\"white\",\"automargin\":true,\"zerolinewidth\":2},\"yaxis\":{\"gridcolor\":\"white\",\"linecolor\":\"white\",\"ticks\":\"\",\"title\":{\"standoff\":15},\"zerolinecolor\":\"white\",\"automargin\":true,\"zerolinewidth\":2},\"scene\":{\"xaxis\":{\"backgroundcolor\":\"#E5ECF6\",\"gridcolor\":\"white\",\"linecolor\":\"white\",\"showbackground\":true,\"ticks\":\"\",\"zerolinecolor\":\"white\",\"gridwidth\":2},\"yaxis\":{\"backgroundcolor\":\"#E5ECF6\",\"gridcolor\":\"white\",\"linecolor\":\"white\",\"showbackground\":true,\"ticks\":\"\",\"zerolinecolor\":\"white\",\"gridwidth\":2},\"zaxis\":{\"backgroundcolor\":\"#E5ECF6\",\"gridcolor\":\"white\",\"linecolor\":\"white\",\"showbackground\":true,\"ticks\":\"\",\"zerolinecolor\":\"white\",\"gridwidth\":2}},\"shapedefaults\":{\"line\":{\"color\":\"#2a3f5f\"}},\"annotationdefaults\":{\"arrowcolor\":\"#2a3f5f\",\"arrowhead\":0,\"arrowwidth\":1},\"geo\":{\"bgcolor\":\"white\",\"landcolor\":\"#E5ECF6\",\"subunitcolor\":\"white\",\"showland\":true,\"showlakes\":true,\"lakecolor\":\"white\"},\"title\":{\"x\":0.05},\"mapbox\":{\"style\":\"light\"}}},\"margin\":{\"l\":50,\"r\":50,\"b\":100,\"t\":100,\"pad\":6},\"hoverlabel\":{\"font\":{\"size\":15},\"bgcolor\":\"white\"},\"legend\":{\"yanchor\":\"top\",\"y\":-0.2,\"xanchor\":\"center\",\"x\":0.5},\"title\":{\"text\":\"Of Those 973,117 Prompts, 187,893 were Unique\"},\"autosize\":false,\"width\":900,\"height\":600,\"barmode\":\"overlay\",\"xaxis\":{\"showgrid\":false,\"tickvals\":[\"2023-10-25\",\"2023-10-26\",\"2023-10-27\",\"2023-10-28\",\"2023-10-29\",\"2023-10-30\",\"2023-11-02\",\"2023-11-03\",\"2023-11-04\",\"2023-11-05\",\"2023-11-06\",\"2023-11-08\",\"2023-11-09\"],\"tickformat\":\"%m-%d\"},\"yaxis\":{\"showgrid\":false}},                        {\"responsive\": true}                    ).then(function(){\n",
       "                            \n",
       "var gd = document.getElementById('482495ea-8830-40a4-a9ad-be9f8764f1ec');\n",
       "var x = new MutationObserver(function (mutations, observer) {{\n",
       "        var display = window.getComputedStyle(gd).display;\n",
       "        if (!display || display === 'none') {{\n",
       "            console.log([gd, 'removed!']);\n",
       "            Plotly.purge(gd);\n",
       "            observer.disconnect();\n",
       "        }}\n",
       "}});\n",
       "\n",
       "// Listen for the removal of the full notebook cells\n",
       "var notebookContainer = gd.closest('#notebook-container');\n",
       "if (notebookContainer) {{\n",
       "    x.observe(notebookContainer, {childList: true});\n",
       "}}\n",
       "\n",
       "// Listen for the clearing of the current output cell\n",
       "var outputEl = gd.closest('.output');\n",
       "if (outputEl) {{\n",
       "    x.observe(outputEl, {childList: true});\n",
       "}}\n",
       "\n",
       "                        })                };                });            </script>        </div>"
      ]
     },
     "metadata": {},
     "output_type": "display_data"
    },
    {
     "data": {
      "application/vnd.plotly.v1+json": {
       "config": {
        "plotlyServerURL": "https://plot.ly"
       },
       "data": [
        {
         "labels": [
          "Total Prompts",
          "Unique Prompts"
         ],
         "marker": {
          "colors": [
           "rgb(151,166,196)",
           "orange"
          ]
         },
         "pull": [
          0,
          0.2
         ],
         "type": "pie",
         "values": [
          973117,
          187893
         ]
        }
       ],
       "layout": {
        "autosize": false,
        "height": 500,
        "margin": {
         "b": 100,
         "l": 50,
         "pad": 4,
         "r": 50,
         "t": 100
        },
        "template": {
         "data": {
          "bar": [
           {
            "error_x": {
             "color": "#2a3f5f"
            },
            "error_y": {
             "color": "#2a3f5f"
            },
            "marker": {
             "line": {
              "color": "#E5ECF6",
              "width": 0.5
             },
             "pattern": {
              "fillmode": "overlay",
              "size": 10,
              "solidity": 0.2
             }
            },
            "type": "bar"
           }
          ],
          "barpolar": [
           {
            "marker": {
             "line": {
              "color": "#E5ECF6",
              "width": 0.5
             },
             "pattern": {
              "fillmode": "overlay",
              "size": 10,
              "solidity": 0.2
             }
            },
            "type": "barpolar"
           }
          ],
          "carpet": [
           {
            "aaxis": {
             "endlinecolor": "#2a3f5f",
             "gridcolor": "white",
             "linecolor": "white",
             "minorgridcolor": "white",
             "startlinecolor": "#2a3f5f"
            },
            "baxis": {
             "endlinecolor": "#2a3f5f",
             "gridcolor": "white",
             "linecolor": "white",
             "minorgridcolor": "white",
             "startlinecolor": "#2a3f5f"
            },
            "type": "carpet"
           }
          ],
          "choropleth": [
           {
            "colorbar": {
             "outlinewidth": 0,
             "ticks": ""
            },
            "type": "choropleth"
           }
          ],
          "contour": [
           {
            "colorbar": {
             "outlinewidth": 0,
             "ticks": ""
            },
            "colorscale": [
             [
              0,
              "#0d0887"
             ],
             [
              0.1111111111111111,
              "#46039f"
             ],
             [
              0.2222222222222222,
              "#7201a8"
             ],
             [
              0.3333333333333333,
              "#9c179e"
             ],
             [
              0.4444444444444444,
              "#bd3786"
             ],
             [
              0.5555555555555556,
              "#d8576b"
             ],
             [
              0.6666666666666666,
              "#ed7953"
             ],
             [
              0.7777777777777778,
              "#fb9f3a"
             ],
             [
              0.8888888888888888,
              "#fdca26"
             ],
             [
              1,
              "#f0f921"
             ]
            ],
            "type": "contour"
           }
          ],
          "contourcarpet": [
           {
            "colorbar": {
             "outlinewidth": 0,
             "ticks": ""
            },
            "type": "contourcarpet"
           }
          ],
          "heatmap": [
           {
            "colorbar": {
             "outlinewidth": 0,
             "ticks": ""
            },
            "colorscale": [
             [
              0,
              "#0d0887"
             ],
             [
              0.1111111111111111,
              "#46039f"
             ],
             [
              0.2222222222222222,
              "#7201a8"
             ],
             [
              0.3333333333333333,
              "#9c179e"
             ],
             [
              0.4444444444444444,
              "#bd3786"
             ],
             [
              0.5555555555555556,
              "#d8576b"
             ],
             [
              0.6666666666666666,
              "#ed7953"
             ],
             [
              0.7777777777777778,
              "#fb9f3a"
             ],
             [
              0.8888888888888888,
              "#fdca26"
             ],
             [
              1,
              "#f0f921"
             ]
            ],
            "type": "heatmap"
           }
          ],
          "heatmapgl": [
           {
            "colorbar": {
             "outlinewidth": 0,
             "ticks": ""
            },
            "colorscale": [
             [
              0,
              "#0d0887"
             ],
             [
              0.1111111111111111,
              "#46039f"
             ],
             [
              0.2222222222222222,
              "#7201a8"
             ],
             [
              0.3333333333333333,
              "#9c179e"
             ],
             [
              0.4444444444444444,
              "#bd3786"
             ],
             [
              0.5555555555555556,
              "#d8576b"
             ],
             [
              0.6666666666666666,
              "#ed7953"
             ],
             [
              0.7777777777777778,
              "#fb9f3a"
             ],
             [
              0.8888888888888888,
              "#fdca26"
             ],
             [
              1,
              "#f0f921"
             ]
            ],
            "type": "heatmapgl"
           }
          ],
          "histogram": [
           {
            "marker": {
             "pattern": {
              "fillmode": "overlay",
              "size": 10,
              "solidity": 0.2
             }
            },
            "type": "histogram"
           }
          ],
          "histogram2d": [
           {
            "colorbar": {
             "outlinewidth": 0,
             "ticks": ""
            },
            "colorscale": [
             [
              0,
              "#0d0887"
             ],
             [
              0.1111111111111111,
              "#46039f"
             ],
             [
              0.2222222222222222,
              "#7201a8"
             ],
             [
              0.3333333333333333,
              "#9c179e"
             ],
             [
              0.4444444444444444,
              "#bd3786"
             ],
             [
              0.5555555555555556,
              "#d8576b"
             ],
             [
              0.6666666666666666,
              "#ed7953"
             ],
             [
              0.7777777777777778,
              "#fb9f3a"
             ],
             [
              0.8888888888888888,
              "#fdca26"
             ],
             [
              1,
              "#f0f921"
             ]
            ],
            "type": "histogram2d"
           }
          ],
          "histogram2dcontour": [
           {
            "colorbar": {
             "outlinewidth": 0,
             "ticks": ""
            },
            "colorscale": [
             [
              0,
              "#0d0887"
             ],
             [
              0.1111111111111111,
              "#46039f"
             ],
             [
              0.2222222222222222,
              "#7201a8"
             ],
             [
              0.3333333333333333,
              "#9c179e"
             ],
             [
              0.4444444444444444,
              "#bd3786"
             ],
             [
              0.5555555555555556,
              "#d8576b"
             ],
             [
              0.6666666666666666,
              "#ed7953"
             ],
             [
              0.7777777777777778,
              "#fb9f3a"
             ],
             [
              0.8888888888888888,
              "#fdca26"
             ],
             [
              1,
              "#f0f921"
             ]
            ],
            "type": "histogram2dcontour"
           }
          ],
          "mesh3d": [
           {
            "colorbar": {
             "outlinewidth": 0,
             "ticks": ""
            },
            "type": "mesh3d"
           }
          ],
          "parcoords": [
           {
            "line": {
             "colorbar": {
              "outlinewidth": 0,
              "ticks": ""
             }
            },
            "type": "parcoords"
           }
          ],
          "pie": [
           {
            "automargin": true,
            "type": "pie"
           }
          ],
          "scatter": [
           {
            "fillpattern": {
             "fillmode": "overlay",
             "size": 10,
             "solidity": 0.2
            },
            "type": "scatter"
           }
          ],
          "scatter3d": [
           {
            "line": {
             "colorbar": {
              "outlinewidth": 0,
              "ticks": ""
             }
            },
            "marker": {
             "colorbar": {
              "outlinewidth": 0,
              "ticks": ""
             }
            },
            "type": "scatter3d"
           }
          ],
          "scattercarpet": [
           {
            "marker": {
             "colorbar": {
              "outlinewidth": 0,
              "ticks": ""
             }
            },
            "type": "scattercarpet"
           }
          ],
          "scattergeo": [
           {
            "marker": {
             "colorbar": {
              "outlinewidth": 0,
              "ticks": ""
             }
            },
            "type": "scattergeo"
           }
          ],
          "scattergl": [
           {
            "marker": {
             "colorbar": {
              "outlinewidth": 0,
              "ticks": ""
             }
            },
            "type": "scattergl"
           }
          ],
          "scattermapbox": [
           {
            "marker": {
             "colorbar": {
              "outlinewidth": 0,
              "ticks": ""
             }
            },
            "type": "scattermapbox"
           }
          ],
          "scatterpolar": [
           {
            "marker": {
             "colorbar": {
              "outlinewidth": 0,
              "ticks": ""
             }
            },
            "type": "scatterpolar"
           }
          ],
          "scatterpolargl": [
           {
            "marker": {
             "colorbar": {
              "outlinewidth": 0,
              "ticks": ""
             }
            },
            "type": "scatterpolargl"
           }
          ],
          "scatterternary": [
           {
            "marker": {
             "colorbar": {
              "outlinewidth": 0,
              "ticks": ""
             }
            },
            "type": "scatterternary"
           }
          ],
          "surface": [
           {
            "colorbar": {
             "outlinewidth": 0,
             "ticks": ""
            },
            "colorscale": [
             [
              0,
              "#0d0887"
             ],
             [
              0.1111111111111111,
              "#46039f"
             ],
             [
              0.2222222222222222,
              "#7201a8"
             ],
             [
              0.3333333333333333,
              "#9c179e"
             ],
             [
              0.4444444444444444,
              "#bd3786"
             ],
             [
              0.5555555555555556,
              "#d8576b"
             ],
             [
              0.6666666666666666,
              "#ed7953"
             ],
             [
              0.7777777777777778,
              "#fb9f3a"
             ],
             [
              0.8888888888888888,
              "#fdca26"
             ],
             [
              1,
              "#f0f921"
             ]
            ],
            "type": "surface"
           }
          ],
          "table": [
           {
            "cells": {
             "fill": {
              "color": "#EBF0F8"
             },
             "line": {
              "color": "white"
             }
            },
            "header": {
             "fill": {
              "color": "#C8D4E3"
             },
             "line": {
              "color": "white"
             }
            },
            "type": "table"
           }
          ]
         },
         "layout": {
          "annotationdefaults": {
           "arrowcolor": "#2a3f5f",
           "arrowhead": 0,
           "arrowwidth": 1
          },
          "autotypenumbers": "strict",
          "coloraxis": {
           "colorbar": {
            "outlinewidth": 0,
            "ticks": ""
           }
          },
          "colorscale": {
           "diverging": [
            [
             0,
             "#8e0152"
            ],
            [
             0.1,
             "#c51b7d"
            ],
            [
             0.2,
             "#de77ae"
            ],
            [
             0.3,
             "#f1b6da"
            ],
            [
             0.4,
             "#fde0ef"
            ],
            [
             0.5,
             "#f7f7f7"
            ],
            [
             0.6,
             "#e6f5d0"
            ],
            [
             0.7,
             "#b8e186"
            ],
            [
             0.8,
             "#7fbc41"
            ],
            [
             0.9,
             "#4d9221"
            ],
            [
             1,
             "#276419"
            ]
           ],
           "sequential": [
            [
             0,
             "#0d0887"
            ],
            [
             0.1111111111111111,
             "#46039f"
            ],
            [
             0.2222222222222222,
             "#7201a8"
            ],
            [
             0.3333333333333333,
             "#9c179e"
            ],
            [
             0.4444444444444444,
             "#bd3786"
            ],
            [
             0.5555555555555556,
             "#d8576b"
            ],
            [
             0.6666666666666666,
             "#ed7953"
            ],
            [
             0.7777777777777778,
             "#fb9f3a"
            ],
            [
             0.8888888888888888,
             "#fdca26"
            ],
            [
             1,
             "#f0f921"
            ]
           ],
           "sequentialminus": [
            [
             0,
             "#0d0887"
            ],
            [
             0.1111111111111111,
             "#46039f"
            ],
            [
             0.2222222222222222,
             "#7201a8"
            ],
            [
             0.3333333333333333,
             "#9c179e"
            ],
            [
             0.4444444444444444,
             "#bd3786"
            ],
            [
             0.5555555555555556,
             "#d8576b"
            ],
            [
             0.6666666666666666,
             "#ed7953"
            ],
            [
             0.7777777777777778,
             "#fb9f3a"
            ],
            [
             0.8888888888888888,
             "#fdca26"
            ],
            [
             1,
             "#f0f921"
            ]
           ]
          },
          "colorway": [
           "#636efa",
           "#EF553B",
           "#00cc96",
           "#ab63fa",
           "#FFA15A",
           "#19d3f3",
           "#FF6692",
           "#B6E880",
           "#FF97FF",
           "#FECB52"
          ],
          "font": {
           "color": "#2a3f5f"
          },
          "geo": {
           "bgcolor": "white",
           "lakecolor": "white",
           "landcolor": "#E5ECF6",
           "showlakes": true,
           "showland": true,
           "subunitcolor": "white"
          },
          "hoverlabel": {
           "align": "left"
          },
          "hovermode": "closest",
          "mapbox": {
           "style": "light"
          },
          "paper_bgcolor": "white",
          "plot_bgcolor": "#E5ECF6",
          "polar": {
           "angularaxis": {
            "gridcolor": "white",
            "linecolor": "white",
            "ticks": ""
           },
           "bgcolor": "#E5ECF6",
           "radialaxis": {
            "gridcolor": "white",
            "linecolor": "white",
            "ticks": ""
           }
          },
          "scene": {
           "xaxis": {
            "backgroundcolor": "#E5ECF6",
            "gridcolor": "white",
            "gridwidth": 2,
            "linecolor": "white",
            "showbackground": true,
            "ticks": "",
            "zerolinecolor": "white"
           },
           "yaxis": {
            "backgroundcolor": "#E5ECF6",
            "gridcolor": "white",
            "gridwidth": 2,
            "linecolor": "white",
            "showbackground": true,
            "ticks": "",
            "zerolinecolor": "white"
           },
           "zaxis": {
            "backgroundcolor": "#E5ECF6",
            "gridcolor": "white",
            "gridwidth": 2,
            "linecolor": "white",
            "showbackground": true,
            "ticks": "",
            "zerolinecolor": "white"
           }
          },
          "shapedefaults": {
           "line": {
            "color": "#2a3f5f"
           }
          },
          "ternary": {
           "aaxis": {
            "gridcolor": "white",
            "linecolor": "white",
            "ticks": ""
           },
           "baxis": {
            "gridcolor": "white",
            "linecolor": "white",
            "ticks": ""
           },
           "bgcolor": "#E5ECF6",
           "caxis": {
            "gridcolor": "white",
            "linecolor": "white",
            "ticks": ""
           }
          },
          "title": {
           "x": 0.05
          },
          "xaxis": {
           "automargin": true,
           "gridcolor": "white",
           "linecolor": "white",
           "ticks": "",
           "title": {
            "standoff": 15
           },
           "zerolinecolor": "white",
           "zerolinewidth": 2
          },
          "yaxis": {
           "automargin": true,
           "gridcolor": "white",
           "linecolor": "white",
           "ticks": "",
           "title": {
            "standoff": 15
           },
           "zerolinecolor": "white",
           "zerolinewidth": 2
          }
         }
        },
        "title": {
         "text": "That's Only 16.2%"
        },
        "width": 500
       }
      },
      "image/png": "[encoded data removed]",
      "text/html": [
       "<div>                            <div id=\"285fa8af-d761-446b-8dc5-ca6fdff35408\" class=\"plotly-graph-div\" style=\"height:500px; width:500px;\"></div>            <script type=\"text/javascript\">                require([\"plotly\"], function(Plotly) {                    window.PLOTLYENV=window.PLOTLYENV || {};                                    if (document.getElementById(\"285fa8af-d761-446b-8dc5-ca6fdff35408\")) {                    Plotly.newPlot(                        \"285fa8af-d761-446b-8dc5-ca6fdff35408\",                        [{\"labels\":[\"Total Prompts\",\"Unique Prompts\"],\"marker\":{\"colors\":[\"rgb(151,166,196)\",\"orange\"]},\"pull\":[0,0.2],\"values\":[973117,187893],\"type\":\"pie\"}],                        {\"template\":{\"data\":{\"histogram2dcontour\":[{\"type\":\"histogram2dcontour\",\"colorbar\":{\"outlinewidth\":0,\"ticks\":\"\"},\"colorscale\":[[0.0,\"#0d0887\"],[0.1111111111111111,\"#46039f\"],[0.2222222222222222,\"#7201a8\"],[0.3333333333333333,\"#9c179e\"],[0.4444444444444444,\"#bd3786\"],[0.5555555555555556,\"#d8576b\"],[0.6666666666666666,\"#ed7953\"],[0.7777777777777778,\"#fb9f3a\"],[0.8888888888888888,\"#fdca26\"],[1.0,\"#f0f921\"]]}],\"choropleth\":[{\"type\":\"choropleth\",\"colorbar\":{\"outlinewidth\":0,\"ticks\":\"\"}}],\"histogram2d\":[{\"type\":\"histogram2d\",\"colorbar\":{\"outlinewidth\":0,\"ticks\":\"\"},\"colorscale\":[[0.0,\"#0d0887\"],[0.1111111111111111,\"#46039f\"],[0.2222222222222222,\"#7201a8\"],[0.3333333333333333,\"#9c179e\"],[0.4444444444444444,\"#bd3786\"],[0.5555555555555556,\"#d8576b\"],[0.6666666666666666,\"#ed7953\"],[0.7777777777777778,\"#fb9f3a\"],[0.8888888888888888,\"#fdca26\"],[1.0,\"#f0f921\"]]}],\"heatmap\":[{\"type\":\"heatmap\",\"colorbar\":{\"outlinewidth\":0,\"ticks\":\"\"},\"colorscale\":[[0.0,\"#0d0887\"],[0.1111111111111111,\"#46039f\"],[0.2222222222222222,\"#7201a8\"],[0.3333333333333333,\"#9c179e\"],[0.4444444444444444,\"#bd3786\"],[0.5555555555555556,\"#d8576b\"],[0.6666666666666666,\"#ed7953\"],[0.7777777777777778,\"#fb9f3a\"],[0.8888888888888888,\"#fdca26\"],[1.0,\"#f0f921\"]]}],\"heatmapgl\":[{\"type\":\"heatmapgl\",\"colorbar\":{\"outlinewidth\":0,\"ticks\":\"\"},\"colorscale\":[[0.0,\"#0d0887\"],[0.1111111111111111,\"#46039f\"],[0.2222222222222222,\"#7201a8\"],[0.3333333333333333,\"#9c179e\"],[0.4444444444444444,\"#bd3786\"],[0.5555555555555556,\"#d8576b\"],[0.6666666666666666,\"#ed7953\"],[0.7777777777777778,\"#fb9f3a\"],[0.8888888888888888,\"#fdca26\"],[1.0,\"#f0f921\"]]}],\"contourcarpet\":[{\"type\":\"contourcarpet\",\"colorbar\":{\"outlinewidth\":0,\"ticks\":\"\"}}],\"contour\":[{\"type\":\"contour\",\"colorbar\":{\"outlinewidth\":0,\"ticks\":\"\"},\"colorscale\":[[0.0,\"#0d0887\"],[0.1111111111111111,\"#46039f\"],[0.2222222222222222,\"#7201a8\"],[0.3333333333333333,\"#9c179e\"],[0.4444444444444444,\"#bd3786\"],[0.5555555555555556,\"#d8576b\"],[0.6666666666666666,\"#ed7953\"],[0.7777777777777778,\"#fb9f3a\"],[0.8888888888888888,\"#fdca26\"],[1.0,\"#f0f921\"]]}],\"surface\":[{\"type\":\"surface\",\"colorbar\":{\"outlinewidth\":0,\"ticks\":\"\"},\"colorscale\":[[0.0,\"#0d0887\"],[0.1111111111111111,\"#46039f\"],[0.2222222222222222,\"#7201a8\"],[0.3333333333333333,\"#9c179e\"],[0.4444444444444444,\"#bd3786\"],[0.5555555555555556,\"#d8576b\"],[0.6666666666666666,\"#ed7953\"],[0.7777777777777778,\"#fb9f3a\"],[0.8888888888888888,\"#fdca26\"],[1.0,\"#f0f921\"]]}],\"mesh3d\":[{\"type\":\"mesh3d\",\"colorbar\":{\"outlinewidth\":0,\"ticks\":\"\"}}],\"scatter\":[{\"fillpattern\":{\"fillmode\":\"overlay\",\"size\":10,\"solidity\":0.2},\"type\":\"scatter\"}],\"parcoords\":[{\"type\":\"parcoords\",\"line\":{\"colorbar\":{\"outlinewidth\":0,\"ticks\":\"\"}}}],\"scatterpolargl\":[{\"type\":\"scatterpolargl\",\"marker\":{\"colorbar\":{\"outlinewidth\":0,\"ticks\":\"\"}}}],\"bar\":[{\"error_x\":{\"color\":\"#2a3f5f\"},\"error_y\":{\"color\":\"#2a3f5f\"},\"marker\":{\"line\":{\"color\":\"#E5ECF6\",\"width\":0.5},\"pattern\":{\"fillmode\":\"overlay\",\"size\":10,\"solidity\":0.2}},\"type\":\"bar\"}],\"scattergeo\":[{\"type\":\"scattergeo\",\"marker\":{\"colorbar\":{\"outlinewidth\":0,\"ticks\":\"\"}}}],\"scatterpolar\":[{\"type\":\"scatterpolar\",\"marker\":{\"colorbar\":{\"outlinewidth\":0,\"ticks\":\"\"}}}],\"histogram\":[{\"marker\":{\"pattern\":{\"fillmode\":\"overlay\",\"size\":10,\"solidity\":0.2}},\"type\":\"histogram\"}],\"scattergl\":[{\"type\":\"scattergl\",\"marker\":{\"colorbar\":{\"outlinewidth\":0,\"ticks\":\"\"}}}],\"scatter3d\":[{\"type\":\"scatter3d\",\"line\":{\"colorbar\":{\"outlinewidth\":0,\"ticks\":\"\"}},\"marker\":{\"colorbar\":{\"outlinewidth\":0,\"ticks\":\"\"}}}],\"scattermapbox\":[{\"type\":\"scattermapbox\",\"marker\":{\"colorbar\":{\"outlinewidth\":0,\"ticks\":\"\"}}}],\"scatterternary\":[{\"type\":\"scatterternary\",\"marker\":{\"colorbar\":{\"outlinewidth\":0,\"ticks\":\"\"}}}],\"scattercarpet\":[{\"type\":\"scattercarpet\",\"marker\":{\"colorbar\":{\"outlinewidth\":0,\"ticks\":\"\"}}}],\"carpet\":[{\"aaxis\":{\"endlinecolor\":\"#2a3f5f\",\"gridcolor\":\"white\",\"linecolor\":\"white\",\"minorgridcolor\":\"white\",\"startlinecolor\":\"#2a3f5f\"},\"baxis\":{\"endlinecolor\":\"#2a3f5f\",\"gridcolor\":\"white\",\"linecolor\":\"white\",\"minorgridcolor\":\"white\",\"startlinecolor\":\"#2a3f5f\"},\"type\":\"carpet\"}],\"table\":[{\"cells\":{\"fill\":{\"color\":\"#EBF0F8\"},\"line\":{\"color\":\"white\"}},\"header\":{\"fill\":{\"color\":\"#C8D4E3\"},\"line\":{\"color\":\"white\"}},\"type\":\"table\"}],\"barpolar\":[{\"marker\":{\"line\":{\"color\":\"#E5ECF6\",\"width\":0.5},\"pattern\":{\"fillmode\":\"overlay\",\"size\":10,\"solidity\":0.2}},\"type\":\"barpolar\"}],\"pie\":[{\"automargin\":true,\"type\":\"pie\"}]},\"layout\":{\"autotypenumbers\":\"strict\",\"colorway\":[\"#636efa\",\"#EF553B\",\"#00cc96\",\"#ab63fa\",\"#FFA15A\",\"#19d3f3\",\"#FF6692\",\"#B6E880\",\"#FF97FF\",\"#FECB52\"],\"font\":{\"color\":\"#2a3f5f\"},\"hovermode\":\"closest\",\"hoverlabel\":{\"align\":\"left\"},\"paper_bgcolor\":\"white\",\"plot_bgcolor\":\"#E5ECF6\",\"polar\":{\"bgcolor\":\"#E5ECF6\",\"angularaxis\":{\"gridcolor\":\"white\",\"linecolor\":\"white\",\"ticks\":\"\"},\"radialaxis\":{\"gridcolor\":\"white\",\"linecolor\":\"white\",\"ticks\":\"\"}},\"ternary\":{\"bgcolor\":\"#E5ECF6\",\"aaxis\":{\"gridcolor\":\"white\",\"linecolor\":\"white\",\"ticks\":\"\"},\"baxis\":{\"gridcolor\":\"white\",\"linecolor\":\"white\",\"ticks\":\"\"},\"caxis\":{\"gridcolor\":\"white\",\"linecolor\":\"white\",\"ticks\":\"\"}},\"coloraxis\":{\"colorbar\":{\"outlinewidth\":0,\"ticks\":\"\"}},\"colorscale\":{\"sequential\":[[0.0,\"#0d0887\"],[0.1111111111111111,\"#46039f\"],[0.2222222222222222,\"#7201a8\"],[0.3333333333333333,\"#9c179e\"],[0.4444444444444444,\"#bd3786\"],[0.5555555555555556,\"#d8576b\"],[0.6666666666666666,\"#ed7953\"],[0.7777777777777778,\"#fb9f3a\"],[0.8888888888888888,\"#fdca26\"],[1.0,\"#f0f921\"]],\"sequentialminus\":[[0.0,\"#0d0887\"],[0.1111111111111111,\"#46039f\"],[0.2222222222222222,\"#7201a8\"],[0.3333333333333333,\"#9c179e\"],[0.4444444444444444,\"#bd3786\"],[0.5555555555555556,\"#d8576b\"],[0.6666666666666666,\"#ed7953\"],[0.7777777777777778,\"#fb9f3a\"],[0.8888888888888888,\"#fdca26\"],[1.0,\"#f0f921\"]],\"diverging\":[[0,\"#8e0152\"],[0.1,\"#c51b7d\"],[0.2,\"#de77ae\"],[0.3,\"#f1b6da\"],[0.4,\"#fde0ef\"],[0.5,\"#f7f7f7\"],[0.6,\"#e6f5d0\"],[0.7,\"#b8e186\"],[0.8,\"#7fbc41\"],[0.9,\"#4d9221\"],[1,\"#276419\"]]},\"xaxis\":{\"gridcolor\":\"white\",\"linecolor\":\"white\",\"ticks\":\"\",\"title\":{\"standoff\":15},\"zerolinecolor\":\"white\",\"automargin\":true,\"zerolinewidth\":2},\"yaxis\":{\"gridcolor\":\"white\",\"linecolor\":\"white\",\"ticks\":\"\",\"title\":{\"standoff\":15},\"zerolinecolor\":\"white\",\"automargin\":true,\"zerolinewidth\":2},\"scene\":{\"xaxis\":{\"backgroundcolor\":\"#E5ECF6\",\"gridcolor\":\"white\",\"linecolor\":\"white\",\"showbackground\":true,\"ticks\":\"\",\"zerolinecolor\":\"white\",\"gridwidth\":2},\"yaxis\":{\"backgroundcolor\":\"#E5ECF6\",\"gridcolor\":\"white\",\"linecolor\":\"white\",\"showbackground\":true,\"ticks\":\"\",\"zerolinecolor\":\"white\",\"gridwidth\":2},\"zaxis\":{\"backgroundcolor\":\"#E5ECF6\",\"gridcolor\":\"white\",\"linecolor\":\"white\",\"showbackground\":true,\"ticks\":\"\",\"zerolinecolor\":\"white\",\"gridwidth\":2}},\"shapedefaults\":{\"line\":{\"color\":\"#2a3f5f\"}},\"annotationdefaults\":{\"arrowcolor\":\"#2a3f5f\",\"arrowhead\":0,\"arrowwidth\":1},\"geo\":{\"bgcolor\":\"white\",\"landcolor\":\"#E5ECF6\",\"subunitcolor\":\"white\",\"showland\":true,\"showlakes\":true,\"lakecolor\":\"white\"},\"title\":{\"x\":0.05},\"mapbox\":{\"style\":\"light\"}}},\"margin\":{\"l\":50,\"r\":50,\"b\":100,\"t\":100,\"pad\":4},\"title\":{\"text\":\"That's Only 16.2%\"},\"autosize\":false,\"width\":500,\"height\":500},                        {\"responsive\": true}                    ).then(function(){\n",
       "                            \n",
       "var gd = document.getElementById('285fa8af-d761-446b-8dc5-ca6fdff35408');\n",
       "var x = new MutationObserver(function (mutations, observer) {{\n",
       "        var display = window.getComputedStyle(gd).display;\n",
       "        if (!display || display === 'none') {{\n",
       "            console.log([gd, 'removed!']);\n",
       "            Plotly.purge(gd);\n",
       "            observer.disconnect();\n",
       "        }}\n",
       "}});\n",
       "\n",
       "// Listen for the removal of the full notebook cells\n",
       "var notebookContainer = gd.closest('#notebook-container');\n",
       "if (notebookContainer) {{\n",
       "    x.observe(notebookContainer, {childList: true});\n",
       "}}\n",
       "\n",
       "// Listen for the clearing of the current output cell\n",
       "var outputEl = gd.closest('.output');\n",
       "if (outputEl) {{\n",
       "    x.observe(outputEl, {childList: true});\n",
       "}}\n",
       "\n",
       "                        })                };                });            </script>        </div>"
      ]
     },
     "metadata": {},
     "output_type": "display_data"
    }
   ],
   "source": [
    "totalPromptGraph()\n",
    "totalPromptOverlay()\n",
    "percentUniqueGraph()"
   ]
  },
  {
   "cell_type": "markdown",
   "id": "ce456d1e-a41f-40c4-ba40-a0c508d127b6",
   "metadata": {},
   "source": [
    "## Visuals\n",
    "---"
   ]
  },
  {
   "cell_type": "code",
   "execution_count": 195,
   "id": "2d78f57d-4e88-4d91-9fb5-d0b73d50e037",
   "metadata": {},
   "outputs": [],
   "source": [
    "dayTest = pd.Timestamp('2023-10-26')\n",
    "filteredData = promptDF[promptDF['date'] == dayTest.date()]\n"
   ]
  },
  {
   "cell_type": "code",
   "execution_count": 196,
   "id": "8af9c950-c8e4-4f88-a199-8efcd7706ef8",
   "metadata": {},
   "outputs": [
    {
     "data": {
      "text/html": [
       "<div>\n",
       "<style scoped>\n",
       "    .dataframe tbody tr th:only-of-type {\n",
       "        vertical-align: middle;\n",
       "    }\n",
       "\n",
       "    .dataframe tbody tr th {\n",
       "        vertical-align: top;\n",
       "    }\n",
       "\n",
       "    .dataframe thead th {\n",
       "        text-align: right;\n",
       "    }\n",
       "</style>\n",
       "<table border=\"1\" class=\"dataframe\">\n",
       "  <thead>\n",
       "    <tr style=\"text-align: right;\">\n",
       "      <th></th>\n",
       "      <th>prompt</th>\n",
       "      <th>user</th>\n",
       "      <th>timestamp</th>\n",
       "      <th>date</th>\n",
       "    </tr>\n",
       "  </thead>\n",
       "  <tbody>\n",
       "    <tr>\n",
       "      <th>283361</th>\n",
       "      <td>green leafy, trees, bushes, mossy stonework, c...</td>\n",
       "      <td>1006280181255770262</td>\n",
       "      <td>2023-10-26 00:00:01.580000+00:00</td>\n",
       "      <td>2023-10-26</td>\n",
       "    </tr>\n",
       "    <tr>\n",
       "      <th>283360</th>\n",
       "      <td>green leafy, trees, bushes, mossy stonework, c...</td>\n",
       "      <td>1006280181255770262</td>\n",
       "      <td>2023-10-26 00:00:03.477000+00:00</td>\n",
       "      <td>2023-10-26</td>\n",
       "    </tr>\n",
       "    <tr>\n",
       "      <th>637378</th>\n",
       "      <td>dnd, oil painting, ink, very detailed, princes...</td>\n",
       "      <td>1138795730660765726</td>\n",
       "      <td>2023-10-26 00:00:05.917000+00:00</td>\n",
       "      <td>2023-10-26</td>\n",
       "    </tr>\n",
       "    <tr>\n",
       "      <th>97071</th>\n",
       "      <td>dnd, oil painting, ink, very detailed, princes...</td>\n",
       "      <td>1138795730660765726</td>\n",
       "      <td>2023-10-26 00:00:05.917000+00:00</td>\n",
       "      <td>2023-10-26</td>\n",
       "    </tr>\n",
       "    <tr>\n",
       "      <th>413893</th>\n",
       "      <td>dnd, oil painting, ink, very detailed, princes...</td>\n",
       "      <td>1138795730660765726</td>\n",
       "      <td>2023-10-26 00:00:05.917000+00:00</td>\n",
       "      <td>2023-10-26</td>\n",
       "    </tr>\n",
       "  </tbody>\n",
       "</table>\n",
       "</div>"
      ],
      "text/plain": [
       "                                                   prompt  \\\n",
       "283361  green leafy, trees, bushes, mossy stonework, c...   \n",
       "283360  green leafy, trees, bushes, mossy stonework, c...   \n",
       "637378  dnd, oil painting, ink, very detailed, princes...   \n",
       "97071   dnd, oil painting, ink, very detailed, princes...   \n",
       "413893  dnd, oil painting, ink, very detailed, princes...   \n",
       "\n",
       "                       user                        timestamp        date  \n",
       "283361  1006280181255770262 2023-10-26 00:00:01.580000+00:00  2023-10-26  \n",
       "283360  1006280181255770262 2023-10-26 00:00:03.477000+00:00  2023-10-26  \n",
       "637378  1138795730660765726 2023-10-26 00:00:05.917000+00:00  2023-10-26  \n",
       "97071   1138795730660765726 2023-10-26 00:00:05.917000+00:00  2023-10-26  \n",
       "413893  1138795730660765726 2023-10-26 00:00:05.917000+00:00  2023-10-26  "
      ]
     },
     "execution_count": 196,
     "metadata": {},
     "output_type": "execute_result"
    }
   ],
   "source": [
    "filteredData.head()"
   ]
  },
  {
   "cell_type": "code",
   "execution_count": null,
   "id": "39de8242-ccc2-4d58-b269-8678835c7047",
   "metadata": {},
   "outputs": [],
   "source": [
    "promptDF[\"seconds\"] = promptDF[\"timestamp\"].dt.hour * 3600 + promptDF[\"timestamp\"].dt.minute * 60 + promptDF[\"timestamp\"].dt.second\n",
    "\n",
    "\n",
    "fig = go.Figure(data=[go.Histogram(x=promptDF['seconds'], nbinsx=24*60,  # Start with minute bins\n",
    "                                   marker_color='blue')])\n",
    "\n",
    "\n",
    "fig.update_layout(\n",
    "    title='Interactive Histogram of Prompts by Minute',\n",
    "    xaxis_title='Seconds in Day',\n",
    "    yaxis_title='Number of Prompts',\n",
    "    bargap=0.2\n",
    ")\n",
    "\n",
    "# Show the plot\n",
    "fig.show()\n"
   ]
  },
  {
   "cell_type": "code",
   "execution_count": null,
   "id": "62d6a543-41a8-4b92-8efc-652915c0c5fa",
   "metadata": {},
   "outputs": [],
   "source": [
    "fig = go.Figure()\n",
    "\n",
    "# Add trace\n",
    "fig.add_trace(go.Histogram(x=promptDF['seconds'], xbins=dict(\n",
    "    start=0,\n",
    "    end=86400,\n",
    "    size=60  # Initial bin size (60 seconds)\n",
    "), marker_color='blue'))\n",
    "\n",
    "# Add slider for dynamic binning\n",
    "fig.update_layout(\n",
    "    sliders=[\n",
    "        {\n",
    "            'pad': {\"t\": 60},\n",
    "            'currentvalue': {\"prefix\": \"Bin size (seconds): \"},\n",
    "            'steps': [\n",
    "                {'method': 'restyle', 'label': '1s', 'args': [{'xbins.size': 1}]},\n",
    "                {'method': 'restyle', 'label': '10s', 'args': [{'xbins.size': 10}]},\n",
    "                {'method': 'restyle', 'label': '30s', 'args': [{'xbins.size': 30}]},\n",
    "                {'method': 'restyle', 'label': '60s', 'args': [{'xbins.size': 60}]},\n",
    "                {'method': 'restyle', 'label': '300s', 'args': [{'xbins.size': 300}]},\n",
    "                {'method': 'restyle', 'label': '600s', 'args': [{'xbins.size': 600}]}\n",
    "            ]\n",
    "        }\n",
    "    ]\n",
    ")\n",
    "\n",
    "# Update the layout and titles\n",
    "fig.update_layout(\n",
    "    title='Interactive Histogram of Prompts with Dynamic Binning',\n",
    "    xaxis_title='Seconds in Day',\n",
    "    yaxis_title='Number of Prompts',\n",
    "    bargap=0.2\n",
    ")\n",
    "\n",
    "# Show the plot\n",
    "fig.show()\n"
   ]
  },
  {
   "cell_type": "code",
   "execution_count": null,
   "id": "7328f98a-208f-45e0-8332-395442b3bdc9",
   "metadata": {},
   "outputs": [],
   "source": [
    "\n",
    "\n",
    "specific_day = pd.to_datetime('2023-10-25').date()  \n",
    "filtered_data = promptDF[promptDF['date'] == specific_day]\n",
    "\n",
    "filtered_data['secSinceMidnight'] = (filtered_data['timestamp'].dt.hour * 3600 +\n",
    "                                           filtered_data['timestamp'].dt.minute * 60 +\n",
    "                                           filtered_data['timestamp'].dt.second)\n",
    "import matplotlib.pyplot as plt\n",
    "\n",
    "plt.figure(figsize=(12, 6))\n",
    "plt.scatter(filtered_data['secSinceMidnight'], np.random.rand(len(filtered_data)), alpha=0.05)\n",
    "plt.title('Activity Distribution for October 25, 2023')\n",
    "plt.xlabel('Seconds Since Midnight')\n",
    "plt.ylabel('Random Jitter for Visualization')\n",
    "plt.xlim([0, 86400])  \n",
    "\n",
    "plt.gca().set_xticks([i * 3600 for i in range(25)])  # Set ticks every hour\n",
    "plt.gca().set_xticklabels([f'{i}:00' for i in range(25)])  # Label ticks by hour\n",
    "plt.xticks(rotation=45)\n",
    "plt.grid(False)\n",
    "plt.show()\n",
    "\n"
   ]
  },
  {
   "cell_type": "code",
   "execution_count": 197,
   "id": "129f273b-5f4e-403a-9d3c-520681c89e6b",
   "metadata": {},
   "outputs": [
    {
     "ename": "KeyError",
     "evalue": "'secSinceMidnight'",
     "output_type": "error",
     "traceback": [
      "\u001b[0;31m---------------------------------------------------------------------------\u001b[0m",
      "\u001b[0;31mKeyError\u001b[0m                                  Traceback (most recent call last)",
      "File \u001b[0;32m~/anaconda3/envs/indata_sp24/lib/python3.12/site-packages/pandas/core/indexes/base.py:3791\u001b[0m, in \u001b[0;36mIndex.get_loc\u001b[0;34m(self, key)\u001b[0m\n\u001b[1;32m   3790\u001b[0m \u001b[38;5;28;01mtry\u001b[39;00m:\n\u001b[0;32m-> 3791\u001b[0m     \u001b[38;5;28;01mreturn\u001b[39;00m \u001b[38;5;28mself\u001b[39m\u001b[38;5;241m.\u001b[39m_engine\u001b[38;5;241m.\u001b[39mget_loc(casted_key)\n\u001b[1;32m   3792\u001b[0m \u001b[38;5;28;01mexcept\u001b[39;00m \u001b[38;5;167;01mKeyError\u001b[39;00m \u001b[38;5;28;01mas\u001b[39;00m err:\n",
      "File \u001b[0;32mindex.pyx:152\u001b[0m, in \u001b[0;36mpandas._libs.index.IndexEngine.get_loc\u001b[0;34m()\u001b[0m\n",
      "File \u001b[0;32mindex.pyx:181\u001b[0m, in \u001b[0;36mpandas._libs.index.IndexEngine.get_loc\u001b[0;34m()\u001b[0m\n",
      "File \u001b[0;32mpandas/_libs/hashtable_class_helper.pxi:7080\u001b[0m, in \u001b[0;36mpandas._libs.hashtable.PyObjectHashTable.get_item\u001b[0;34m()\u001b[0m\n",
      "File \u001b[0;32mpandas/_libs/hashtable_class_helper.pxi:7088\u001b[0m, in \u001b[0;36mpandas._libs.hashtable.PyObjectHashTable.get_item\u001b[0;34m()\u001b[0m\n",
      "\u001b[0;31mKeyError\u001b[0m: 'secSinceMidnight'",
      "\nThe above exception was the direct cause of the following exception:\n",
      "\u001b[0;31mKeyError\u001b[0m                                  Traceback (most recent call last)",
      "Cell \u001b[0;32mIn[197], line 7\u001b[0m\n\u001b[1;32m      5\u001b[0m \u001b[38;5;66;03m# Create bins for every hour (3600 seconds)\u001b[39;00m\n\u001b[1;32m      6\u001b[0m bins \u001b[38;5;241m=\u001b[39m np\u001b[38;5;241m.\u001b[39mlinspace(\u001b[38;5;241m0\u001b[39m, \u001b[38;5;241m86400\u001b[39m, \u001b[38;5;241m25\u001b[39m)  \u001b[38;5;66;03m# 24 hours, 25 edges\u001b[39;00m\n\u001b[0;32m----> 7\u001b[0m hist, bin_edges \u001b[38;5;241m=\u001b[39m np\u001b[38;5;241m.\u001b[39mhistogram(daily_data[\u001b[38;5;124m'\u001b[39m\u001b[38;5;124msecSinceMidnight\u001b[39m\u001b[38;5;124m'\u001b[39m], bins\u001b[38;5;241m=\u001b[39mbins)\n\u001b[1;32m      9\u001b[0m \u001b[38;5;66;03m# Normalize the histogram to get values between 0 and 1 for color mapping\u001b[39;00m\n\u001b[1;32m     10\u001b[0m hist_norm \u001b[38;5;241m=\u001b[39m hist \u001b[38;5;241m/\u001b[39m hist\u001b[38;5;241m.\u001b[39mmax()\n",
      "File \u001b[0;32m~/anaconda3/envs/indata_sp24/lib/python3.12/site-packages/pandas/core/frame.py:3893\u001b[0m, in \u001b[0;36mDataFrame.__getitem__\u001b[0;34m(self, key)\u001b[0m\n\u001b[1;32m   3891\u001b[0m \u001b[38;5;28;01mif\u001b[39;00m \u001b[38;5;28mself\u001b[39m\u001b[38;5;241m.\u001b[39mcolumns\u001b[38;5;241m.\u001b[39mnlevels \u001b[38;5;241m>\u001b[39m \u001b[38;5;241m1\u001b[39m:\n\u001b[1;32m   3892\u001b[0m     \u001b[38;5;28;01mreturn\u001b[39;00m \u001b[38;5;28mself\u001b[39m\u001b[38;5;241m.\u001b[39m_getitem_multilevel(key)\n\u001b[0;32m-> 3893\u001b[0m indexer \u001b[38;5;241m=\u001b[39m \u001b[38;5;28mself\u001b[39m\u001b[38;5;241m.\u001b[39mcolumns\u001b[38;5;241m.\u001b[39mget_loc(key)\n\u001b[1;32m   3894\u001b[0m \u001b[38;5;28;01mif\u001b[39;00m is_integer(indexer):\n\u001b[1;32m   3895\u001b[0m     indexer \u001b[38;5;241m=\u001b[39m [indexer]\n",
      "File \u001b[0;32m~/anaconda3/envs/indata_sp24/lib/python3.12/site-packages/pandas/core/indexes/base.py:3798\u001b[0m, in \u001b[0;36mIndex.get_loc\u001b[0;34m(self, key)\u001b[0m\n\u001b[1;32m   3793\u001b[0m     \u001b[38;5;28;01mif\u001b[39;00m \u001b[38;5;28misinstance\u001b[39m(casted_key, \u001b[38;5;28mslice\u001b[39m) \u001b[38;5;129;01mor\u001b[39;00m (\n\u001b[1;32m   3794\u001b[0m         \u001b[38;5;28misinstance\u001b[39m(casted_key, abc\u001b[38;5;241m.\u001b[39mIterable)\n\u001b[1;32m   3795\u001b[0m         \u001b[38;5;129;01mand\u001b[39;00m \u001b[38;5;28many\u001b[39m(\u001b[38;5;28misinstance\u001b[39m(x, \u001b[38;5;28mslice\u001b[39m) \u001b[38;5;28;01mfor\u001b[39;00m x \u001b[38;5;129;01min\u001b[39;00m casted_key)\n\u001b[1;32m   3796\u001b[0m     ):\n\u001b[1;32m   3797\u001b[0m         \u001b[38;5;28;01mraise\u001b[39;00m InvalidIndexError(key)\n\u001b[0;32m-> 3798\u001b[0m     \u001b[38;5;28;01mraise\u001b[39;00m \u001b[38;5;167;01mKeyError\u001b[39;00m(key) \u001b[38;5;28;01mfrom\u001b[39;00m \u001b[38;5;21;01merr\u001b[39;00m\n\u001b[1;32m   3799\u001b[0m \u001b[38;5;28;01mexcept\u001b[39;00m \u001b[38;5;167;01mTypeError\u001b[39;00m:\n\u001b[1;32m   3800\u001b[0m     \u001b[38;5;66;03m# If we have a listlike key, _check_indexing_error will raise\u001b[39;00m\n\u001b[1;32m   3801\u001b[0m     \u001b[38;5;66;03m#  InvalidIndexError. Otherwise we fall through and re-raise\u001b[39;00m\n\u001b[1;32m   3802\u001b[0m     \u001b[38;5;66;03m#  the TypeError.\u001b[39;00m\n\u001b[1;32m   3803\u001b[0m     \u001b[38;5;28mself\u001b[39m\u001b[38;5;241m.\u001b[39m_check_indexing_error(key)\n",
      "\u001b[0;31mKeyError\u001b[0m: 'secSinceMidnight'"
     ]
    }
   ],
   "source": [
    "\n",
    "specific_day = '2023-10-25'\n",
    "daily_data = promptDF[promptDF['date'] == pd.to_datetime(specific_day).date()]\n",
    "\n",
    "# Create bins for every hour (3600 seconds)\n",
    "bins = np.linspace(0, 86400, 25)  # 24 hours, 25 edges\n",
    "hist, bin_edges = np.histogram(daily_data['secSinceMidnight'], bins=bins)\n",
    "\n",
    "# Normalize the histogram to get values between 0 and 1 for color mapping\n",
    "hist_norm = hist / hist.max()\n",
    "\n",
    "cmap = plt.get_cmap('viridis')  \n",
    "colors = cmap(hist_norm) \n",
    "\n",
    "plt.figure(figsize=(12, 4))\n",
    "plt.bar(range(len(hist)), [1]*len(hist), color=colors, width=1, edgecolor='black')\n",
    "plt.xticks(ticks=np.arange(len(bin_edges)-1), labels=[f'{int(edge/3600)}h' for edge in bin_edges[:-1]], rotation=45)\n",
    "plt.yticks([])\n",
    "plt.colorbar(plt.cm.ScalarMappable(norm=mcolors.Normalize(hist.min(), hist.max()), cmap=cmap), orientation='horizontal')\n",
    "plt.title('Density of Prompts by Hour')\n",
    "plt.show()\n",
    "\n"
   ]
  },
  {
   "cell_type": "code",
   "execution_count": 1,
   "id": "a6ee7370-a5d5-4361-bc29-fb52a3e36e20",
   "metadata": {},
   "outputs": [
    {
     "ename": "NameError",
     "evalue": "name 'promptDF' is not defined",
     "output_type": "error",
     "traceback": [
      "\u001b[0;31m---------------------------------------------------------------------------\u001b[0m",
      "\u001b[0;31mNameError\u001b[0m                                 Traceback (most recent call last)",
      "Cell \u001b[0;32mIn[1], line 1\u001b[0m\n\u001b[0;32m----> 1\u001b[0m unique_days \u001b[38;5;241m=\u001b[39m promptDF[\u001b[38;5;124m'\u001b[39m\u001b[38;5;124mdate\u001b[39m\u001b[38;5;124m'\u001b[39m]\u001b[38;5;241m.\u001b[39munique()\n\u001b[1;32m      2\u001b[0m figures \u001b[38;5;241m=\u001b[39m []\n\u001b[1;32m      3\u001b[0m \u001b[38;5;28;01mfor\u001b[39;00m day \u001b[38;5;129;01min\u001b[39;00m unique_days:\n",
      "\u001b[0;31mNameError\u001b[0m: name 'promptDF' is not defined"
     ]
    }
   ],
   "source": [
    "unique_days = promptDF['date'].unique()\n",
    "figures = []\n",
    "for day in unique_days:\n",
    "    day_data = promptDF[promptDF['date'] == day]\n",
    "    fig = plot_daily_histogram(day_data)\n",
    "    figures.append(fig)  # Optionally store to display later or save\n",
    "    fig.show() "
   ]
  },
  {
   "cell_type": "code",
   "execution_count": 56,
   "id": "c655351d-59d3-422f-905e-da8493bd8449",
   "metadata": {},
   "outputs": [],
   "source": [
    "def create_expanded_button(description, button_style):\n",
    "    return Button(description=description, button_style=button_style, layout=Layout(height='auto', width='auto'))"
   ]
  },
  {
   "cell_type": "code",
   "execution_count": 60,
   "id": "3dab9a69-ea91-4ccc-9c14-c17e51cd3e00",
   "metadata": {},
   "outputs": [
    {
     "data": {
      "application/vnd.jupyter.widget-view+json": {
       "model_id": "2b978fbd73d3472089d5df4c5c6b1e0c",
       "version_major": 2,
       "version_minor": 0
      },
      "text/plain": [
       "AppLayout(children=(Button(button_style='success', description='Midjourney Prompts', layout=Layout(grid_area='…"
      ]
     },
     "execution_count": 60,
     "metadata": {},
     "output_type": "execute_result"
    }
   ],
   "source": [
    "#Just faffing about with using simple usuals to display the bigger data points.\n",
    "#These styles should be applying but they're not and that's weird.\n",
    "\n",
    "\n",
    "\n",
    "header1 = create_expanded_button('Midjourney Prompts', 'success')\n",
    "header1.style.font_size = \"24\"\n",
    "header1.style.font_style = \"bold\"\n",
    "\n",
    "left_button = create_expanded_button(f\"Unique Users: {uniqueUsers}\", 'info')\n",
    "center_button = create_expanded_button(f\"Total Prompts: {checkTotal}\", 'warning')\n",
    "right_button = create_expanded_button(f\"Unique Prompts: {numUniquePrompts}\", 'info')\n",
    "footer_button = create_expanded_button('Footer', 'success')\n",
    "\n",
    "AppLayout(header=header1,\n",
    "          left_sidebar=left_button,\n",
    "          center=center_button,\n",
    "          right_sidebar=right_button,\n",
    "          footer=None)"
   ]
  },
  {
   "cell_type": "code",
   "execution_count": 61,
   "id": "1d35768a-d593-4461-a4cc-b6ee1fadc396",
   "metadata": {},
   "outputs": [
    {
     "data": {
      "application/vnd.jupyter.widget-view+json": {
       "model_id": "25143f7592f24f99ba4d250736b318ad",
       "version_major": 2,
       "version_minor": 0
      },
      "text/plain": [
       "Button(button_style='success', description='Midjourney Prompts', layout=Layout(grid_area='header', height='aut…"
      ]
     },
     "execution_count": 61,
     "metadata": {},
     "output_type": "execute_result"
    }
   ],
   "source": [
    "header1.style.font_size = \"50\"\n",
    "header1.style.button_color = 'lightgreen'\n",
    "header1"
   ]
  },
  {
   "cell_type": "code",
   "execution_count": 59,
   "id": "dc97d169-741b-46f3-abb9-7303dbe8b67b",
   "metadata": {},
   "outputs": [
    {
     "data": {
      "application/vnd.jupyter.widget-view+json": {
       "model_id": "06dd1fbcbd4d4e22ad9f62d9d0b2e75a",
       "version_major": 2,
       "version_minor": 0
      },
      "text/plain": [
       "GridspecLayout(children=(Button(button_style='info', description='Word Cloud', layout=Layout(grid_area='widget…"
      ]
     },
     "execution_count": 59,
     "metadata": {},
     "output_type": "execute_result"
    }
   ],
   "source": [
    "\n",
    "grid = GridspecLayout(4, 3, height='300px')\n",
    "grid[:3, 1:] = create_expanded_button('Word Cloud', 'info')\n",
    "grid[:, 0] = create_expanded_button('Stats', 'info')\n",
    "grid[3, 1] = create_expanded_button('Drop Down 1 - Day', 'info')\n",
    "grid[3, 2] = create_expanded_button('Slider', 'info')\n",
    "\n",
    "grid\n",
    "\n",
    "#"
   ]
  },
  {
   "cell_type": "markdown",
   "id": "c8272da9-d291-4ef3-9f5c-1850653ee454",
   "metadata": {},
   "source": [
    "## NLP???\n",
    "---"
   ]
  },
  {
   "cell_type": "markdown",
   "id": "b0c9148e-5cb3-4acc-89e7-aec3257f37a0",
   "metadata": {},
   "source": [
    "Allegedly [Textblob](https://textblob.readthedocs.io/en/dev/index.html) is a decent beginner natural language processor. I keep seeing NLPs pop up anytime I search for information related to text analysis."
   ]
  },
  {
   "cell_type": "code",
   "execution_count": null,
   "id": "4445a99c-a24f-43db-94ca-515a0229ddd8",
   "metadata": {},
   "outputs": [],
   "source": []
  }
 ],
 "metadata": {
  "kernelspec": {
   "display_name": "Python 3 (ipykernel)",
   "language": "python",
   "name": "python3"
  },
  "language_info": {
   "codemirror_mode": {
    "name": "ipython",
    "version": 3
   },
   "file_extension": ".py",
   "mimetype": "text/x-python",
   "name": "python",
   "nbconvert_exporter": "python",
   "pygments_lexer": "ipython3",
   "version": "3.12.2"
  }
 },
 "nbformat": 4,
 "nbformat_minor": 5
}
